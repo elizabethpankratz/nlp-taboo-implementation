{
 "cells": [
  {
   "cell_type": "markdown",
   "metadata": {},
   "source": [
    "### Computing adjectival similarity using gensim"
   ]
  },
  {
   "cell_type": "code",
   "execution_count": 1,
   "metadata": {},
   "outputs": [],
   "source": [
    "# Load gensim and the word embeddings trained on the Google News corpus.\n",
    "\n",
    "import gensim\n",
    "model = gensim.models.KeyedVectors.load_word2vec_format('GoogleNews-vectors-negative300.bin', binary=True)"
   ]
  },
  {
   "cell_type": "code",
   "execution_count": 2,
   "metadata": {
    "scrolled": true
   },
   "outputs": [],
   "source": [
    "# Add new column to existing dataframe from csv\n",
    "# Source: https://www.quora.com/How-do-I-add-a-new-column-to-my-already-existing-CSV-file-using-Pandas#\n",
    "\n",
    "import pandas as pd\n",
    "\n",
    "\n",
    "def add_similarity_to_df(df):\n",
    "    \"\"\"\n",
    "    Computes the similarity between weak adjective and other adjectives.\n",
    "    \n",
    "    Args:\n",
    "        df: dataframe containing cleaned corpus data\n",
    "        \n",
    "    Returns:\n",
    "        A dataframe with a new column 'adjs_simil' containing word2vec similarity values\n",
    "    \"\"\"\n",
    "    # Initialise empty list to collect similarity values as we go.\n",
    "    simil_col=[]\n",
    "    \n",
    "    # Iterate through rows in the dataframe.\n",
    "    for row_idx in range(len(df)):\n",
    "        \n",
    "        # Get the weak adjective and the other adjective for the current row.\n",
    "        weak = df.loc[row_idx, ['weak_adj']][0]\n",
    "        other = df.loc[row_idx, ['other_adjs_clean']][0]\n",
    "        \n",
    "        # KeyError raised if word not in the word2vec vocabulary, so if that happens, add\n",
    "        # NA to the column instead.\n",
    "        try:\n",
    "            value = model.similarity(weak, other)\n",
    "        except KeyError:\n",
    "            value = 'NA'\n",
    "        \n",
    "        # Add similarity value to the list. At the end, this list will be of the same length\n",
    "        # as the dataframe and will contain a similarity value (or NA) for each adjective pair.\n",
    "        simil_col.append(value)\n",
    "    \n",
    "    # Add this list as a new column to the dataframe and return dataframe.\n",
    "    df['adjs_simil'] = simil_col\n",
    "    \n",
    "    return df\n"
   ]
  },
  {
   "cell_type": "code",
   "execution_count": 4,
   "metadata": {},
   "outputs": [],
   "source": [
    "# Set the name of the file to be read in.\n",
    "FILENAME = 'scalar_cxns_sd2014_clean_annotated.csv'\n",
    "\n",
    "# Read the csv, compute and add the new similarity column, save with same filename.\n",
    "data = pd.read_csv(FILENAME)\n",
    "data_w_simil = add_similarity_to_df(data)\n",
    "data_w_simil.to_csv(FILENAME, index = None, header = True)"
   ]
  }
 ],
 "metadata": {
  "kernelspec": {
   "display_name": "Python 3",
   "language": "python",
   "name": "python3"
  },
  "language_info": {
   "codemirror_mode": {
    "name": "ipython",
    "version": 3
   },
   "file_extension": ".py",
   "mimetype": "text/x-python",
   "name": "python",
   "nbconvert_exporter": "python",
   "pygments_lexer": "ipython3",
   "version": "3.7.4"
  }
 },
 "nbformat": 4,
 "nbformat_minor": 2
}
