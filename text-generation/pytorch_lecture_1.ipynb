{
 "cells": [
  {
   "cell_type": "markdown",
   "metadata": {
    "Collapsed": "false"
   },
   "source": [
    "# Introduction to PyTorch\n",
    "__Advanced NLP | MSc CogSys | Potsdam University__\n",
    "\n",
    "We can install PyTorch following the instructions [here](https://pytorch.org/get-started/locally/). "
   ]
  },
  {
   "cell_type": "markdown",
   "metadata": {
    "Collapsed": "false"
   },
   "source": [
    "This notebook is based on [this tutorial](https://towardsdatascience.com/understanding-pytorch-with-an-example-a-step-by-step-tutorial-81fc5f8c4e8e?#ea0d) and on PyTorch's [documentation](https://pytorch.org/docs/stable/index.html)."
   ]
  },
  {
   "cell_type": "code",
   "execution_count": 1,
   "metadata": {
    "Collapsed": "false"
   },
   "outputs": [
    {
     "name": "stdout",
     "output_type": "stream",
     "text": [
      "Requirement already satisfied: torch in /Users/rlpa/opt/anaconda3/lib/python3.7/site-packages (1.4.0)\n",
      "Requirement already satisfied: torchvision in /Users/rlpa/opt/anaconda3/lib/python3.7/site-packages (0.5.0)\n",
      "Requirement already satisfied: numpy in /Users/rlpa/opt/anaconda3/lib/python3.7/site-packages (from torchvision) (1.18.1)\n",
      "Requirement already satisfied: pillow>=4.1.1 in /Users/rlpa/opt/anaconda3/lib/python3.7/site-packages (from torchvision) (7.0.0)\n",
      "Requirement already satisfied: six in /Users/rlpa/opt/anaconda3/lib/python3.7/site-packages (from torchvision) (1.14.0)\n",
      "Note: you may need to restart the kernel to use updated packages.\n"
     ]
    }
   ],
   "source": [
    "pip install torch torchvision"
   ]
  },
  {
   "cell_type": "code",
   "execution_count": 2,
   "metadata": {
    "Collapsed": "false"
   },
   "outputs": [
    {
     "name": "stdout",
     "output_type": "stream",
     "text": [
      "Requirement already satisfied: torchviz in /Users/rlpa/opt/anaconda3/lib/python3.7/site-packages (0.0.1)\n",
      "Requirement already satisfied: torch in /Users/rlpa/opt/anaconda3/lib/python3.7/site-packages (from torchviz) (1.4.0)\n",
      "Requirement already satisfied: graphviz in /Users/rlpa/opt/anaconda3/lib/python3.7/site-packages (from torchviz) (0.13.2)\n",
      "Note: you may need to restart the kernel to use updated packages.\n"
     ]
    }
   ],
   "source": [
    "pip install torchviz"
   ]
  },
  {
   "cell_type": "code",
   "execution_count": 3,
   "metadata": {
    "Collapsed": "false"
   },
   "outputs": [],
   "source": [
    "import torch\n",
    "# torch.nn: implements layers, loss functions and activation functions\n",
    "import torch.nn as nn\n",
    "# torch.optim: implements optimization algorithms (e.g. SGD)\n",
    "import torch.optim as optim\n",
    "# used for activation functions (deprecated?, but still used in PyTorch's github examples)\n",
    "import torch.nn.functional as F \n",
    "# torchviz to visualize computation graphs (needs graphviz)\n",
    "import torchviz\n",
    "# we use numpy for some examples\n",
    "import numpy as np"
   ]
  },
  {
   "cell_type": "markdown",
   "metadata": {
    "Collapsed": "false"
   },
   "source": [
    "## GPU"
   ]
  },
  {
   "cell_type": "markdown",
   "metadata": {
    "Collapsed": "false"
   },
   "source": [
    "As we saw in the lecture slides, using the Graphics Processing Unit may boost the performance of our program when we are training neural networks. So let us first examine the possibility of using it in our PyTorch code. \n",
    "\n",
    "To use the GPU, PyTorch needs [Cuda](https://pytorch.org/docs/stable/notes/cuda.html), which is a Nvidia's API. In general, PyTorch's installation includes it.\n",
    "\n",
    "We can use ``cuda.is_available()`` to check whether there is any available GPU. If it returns True, we can make our calculations on the GPU. If it returns False, it can either mean that our computer or server has no GPU, or that we missed installing cuda. In that case, all computation will be performed in the CPU."
   ]
  },
  {
   "cell_type": "code",
   "execution_count": 4,
   "metadata": {
    "Collapsed": "false"
   },
   "outputs": [
    {
     "data": {
      "text/plain": [
       "False"
      ]
     },
     "execution_count": 4,
     "metadata": {},
     "output_type": "execute_result"
    }
   ],
   "source": [
    "torch.cuda.is_available()"
   ]
  },
  {
   "cell_type": "markdown",
   "metadata": {
    "Collapsed": "false"
   },
   "source": [
    "Even if cuda is available, the GPU will not be automatically used. We have to send our data and models to it ourselves. We will see how to do that, but first it is good practice to store the device we want to use in a variable that will be passed as arguments later."
   ]
  },
  {
   "cell_type": "code",
   "execution_count": 5,
   "metadata": {
    "Collapsed": "false"
   },
   "outputs": [
    {
     "name": "stdout",
     "output_type": "stream",
     "text": [
      "This notebook can use the cpu for running the code.\n"
     ]
    }
   ],
   "source": [
    "# Use GPU if it is available, otherwise use CPU.\n",
    "my_device = torch.device(\"cuda\" if torch.cuda.is_available() else \"cpu\")\n",
    "print('This notebook can use the ' + str(my_device) + ' for running the code.')"
   ]
  },
  {
   "cell_type": "markdown",
   "metadata": {
    "Collapsed": "false"
   },
   "source": [
    "Some servers may have more than one GPU. In that case, we can manually choose which one we would like to use. ``torch.cuda.device_count()`` returns the number of available GPUs, which are numbered starting at 0. If there is more than one, we can refer to them using ``\"cuda:0\"``, ``\"cuda:1\"``, ..., ``\"cuda:n\"``."
   ]
  },
  {
   "cell_type": "code",
   "execution_count": 6,
   "metadata": {
    "Collapsed": "false"
   },
   "outputs": [],
   "source": [
    "# a list with all GPUs\n",
    "# torch.device(\"cuda\", n) is the same as torch.device(\"cuda:n\")\n",
    "devices = [torch.device(\"cuda\", n) for n in range(torch.cuda.device_count())]"
   ]
  },
  {
   "cell_type": "markdown",
   "metadata": {
    "Collapsed": "false"
   },
   "source": [
    "__Remember__: if we want to use the GPU, all our data, parameters and models must be sent to the GPU, preferably by the time they are created. Trying to combine objects in the CPU with objects in the GPU may throw an error."
   ]
  },
  {
   "cell_type": "markdown",
   "metadata": {
    "Collapsed": "false"
   },
   "source": [
    "## Tensors"
   ]
  },
  {
   "cell_type": "markdown",
   "metadata": {
    "Collapsed": "false"
   },
   "source": [
    "Tensors are the fundamental objects in PyTorch. They are n-dimensional arrays, very similar to Numpy arrays, with special methods. \n",
    "\n",
    "You can create a simple tensor like this:\n"
   ]
  },
  {
   "cell_type": "code",
   "execution_count": 7,
   "metadata": {
    "Collapsed": "false"
   },
   "outputs": [
    {
     "name": "stdout",
     "output_type": "stream",
     "text": [
      "tensor(1)\n",
      "tensor([1, 2, 3, 4])\n",
      "tensor([[1, 2, 3, 4],\n",
      "        [5, 6, 7, 8]])\n",
      "tensor([[[1, 2, 3, 4],\n",
      "         [5, 6, 7, 8]],\n",
      "\n",
      "        [[8, 7, 6, 5],\n",
      "         [4, 3, 2, 1]],\n",
      "\n",
      "        [[0, 2, 4, 6],\n",
      "         [0, 3, 5, 7]]])\n"
     ]
    }
   ],
   "source": [
    "# a scalar\n",
    "tnsr0 = torch.tensor(1)\n",
    "# a vector\n",
    "tnsr1 = torch.tensor([1,2,3,4]) \n",
    "# a matrix\n",
    "tnsr2 = torch.tensor([[1,2,3,4], [5,6,7,8]])\n",
    "# a 3-dimensional tensor\n",
    "tnsr3 = torch.tensor([ [[1,2,3,4], [5,6,7,8]], [[8,7,6,5], [4,3,2,1]], [[0,2,4,6], [0,3,5,7]] ]) \n",
    "\n",
    "print(tnsr0)\n",
    "print(tnsr1)\n",
    "print(tnsr2)\n",
    "print(tnsr3)"
   ]
  },
  {
   "cell_type": "markdown",
   "metadata": {
    "Collapsed": "false"
   },
   "source": [
    "We can turn a Numpy array into a tensor using ``torch.from_numpy()``:"
   ]
  },
  {
   "cell_type": "code",
   "execution_count": 8,
   "metadata": {
    "Collapsed": "false"
   },
   "outputs": [
    {
     "name": "stdout",
     "output_type": "stream",
     "text": [
      "tensor([[1, 2, 3],\n",
      "        [4, 5, 6]])\n"
     ]
    }
   ],
   "source": [
    "np_array = np.array([[1,2,3],[4,5,6]])\n",
    "pytorch_tensor = torch.from_numpy(np_array)\n",
    "print(pytorch_tensor)"
   ]
  },
  {
   "cell_type": "markdown",
   "metadata": {
    "Collapsed": "false"
   },
   "source": [
    "By default, tensors are stored at the CPU. We can move it to the GPU when we create it by passing the device as an argument:"
   ]
  },
  {
   "cell_type": "code",
   "execution_count": 9,
   "metadata": {
    "Collapsed": "false"
   },
   "outputs": [
    {
     "data": {
      "text/plain": [
       "device(type='cpu')"
      ]
     },
     "execution_count": 9,
     "metadata": {},
     "output_type": "execute_result"
    }
   ],
   "source": [
    "tnsr4 = torch.tensor([1,2,3], device=my_device) # my_device can be \"cpu\", \"cuda\" or \"cuda:n\"\n",
    "tnsr4.device # check in which device is the tensor"
   ]
  },
  {
   "cell_type": "markdown",
   "metadata": {
    "Collapsed": "false"
   },
   "source": [
    "We can also change the device of an existing tensor using ``.to()``:"
   ]
  },
  {
   "cell_type": "code",
   "execution_count": 10,
   "metadata": {
    "Collapsed": "false"
   },
   "outputs": [
    {
     "data": {
      "text/plain": [
       "tensor([[1, 2, 3, 4],\n",
       "        [5, 6, 7, 8]])"
      ]
     },
     "execution_count": 10,
     "metadata": {},
     "output_type": "execute_result"
    }
   ],
   "source": [
    "tnsr2.to(\"cuda:0\" if torch.cuda.is_available() else \"cpu\")"
   ]
  },
  {
   "cell_type": "markdown",
   "metadata": {
    "Collapsed": "false"
   },
   "source": [
    "However, ``.to()`` shadows a tensor's gradient (we will learn that below), so it is always advisible to create the tensor directly on the GPU using the argument ``device``."
   ]
  },
  {
   "cell_type": "markdown",
   "metadata": {
    "Collapsed": "false"
   },
   "source": [
    "When we create a tensor, we can also specify the desired [data type](https://pytorch.org/docs/stable/tensor_attributes.html#torch.torch.dtype), e.g. ``torch.float``, ``torch.double``, ``torch.long``. If no argument is given, the data type will be inferred."
   ]
  },
  {
   "cell_type": "code",
   "execution_count": 11,
   "metadata": {
    "Collapsed": "false"
   },
   "outputs": [],
   "source": [
    "tnsr5 = torch.tensor([1,2,3], device=my_device, dtype=torch.double)"
   ]
  },
  {
   "cell_type": "markdown",
   "metadata": {
    "Collapsed": "false"
   },
   "source": [
    "Empty tensors or tensors filled with zeros / random numbers are created by passing the desired dimensions to ``torch.empty()``, ``torch.zeros()`` and ``torch.rand()``, respectively:"
   ]
  },
  {
   "cell_type": "code",
   "execution_count": 12,
   "metadata": {
    "Collapsed": "false"
   },
   "outputs": [
    {
     "name": "stdout",
     "output_type": "stream",
     "text": [
      "tensor([[0., 0., 0.],\n",
      "        [0., 0., 0.],\n",
      "        [0., 0., 0.],\n",
      "        [0., 0., 0.]])\n",
      "tensor([[0., 0., 0.],\n",
      "        [0., 0., 0.],\n",
      "        [0., 0., 0.],\n",
      "        [0., 0., 0.]])\n",
      "tensor([[0.2300, 0.7323, 0.1346],\n",
      "        [0.5182, 0.9310, 0.8103],\n",
      "        [0.7237, 0.9281, 0.3131],\n",
      "        [0.7781, 0.9693, 0.8765]])\n"
     ]
    }
   ],
   "source": [
    "# empty tensor means no values assigned yet, so it is initilized with 'garbage values'\n",
    "empty = torch.empty(4, 3, device=my_device) \n",
    "zeros = torch.zeros(4, 3, device=my_device)\n",
    "rnd = torch.rand(4, 3, device=my_device)\n",
    "print(empty)\n",
    "print(zeros)\n",
    "print(rnd)"
   ]
  },
  {
   "cell_type": "markdown",
   "metadata": {
    "Collapsed": "false"
   },
   "source": [
    "We can check the shape of a tensor using ``.shape`` or ``.size()``. In our example, tnsr3 has 3 dimensions. The first has size 3 (number of 'matrices'), the second has size 2 (number of rows) and the third has size 4 (number of columns)."
   ]
  },
  {
   "cell_type": "code",
   "execution_count": 13,
   "metadata": {
    "Collapsed": "false"
   },
   "outputs": [
    {
     "data": {
      "text/plain": [
       "torch.Size([3, 2, 4])"
      ]
     },
     "execution_count": 13,
     "metadata": {},
     "output_type": "execute_result"
    }
   ],
   "source": [
    "tnsr3.shape"
   ]
  },
  {
   "cell_type": "markdown",
   "metadata": {
    "Collapsed": "false"
   },
   "source": [
    "To change the dimensions of a tensor, we use ``.view()``:"
   ]
  },
  {
   "cell_type": "code",
   "execution_count": 14,
   "metadata": {
    "Collapsed": "false"
   },
   "outputs": [
    {
     "data": {
      "text/plain": [
       "(torch.Size([4, 2]), torch.Size([2, 4]))"
      ]
     },
     "execution_count": 14,
     "metadata": {},
     "output_type": "execute_result"
    }
   ],
   "source": [
    "tnsr6 = tnsr2.view(-1, 2) # meaning we want 2 columns, and -1 let it infer the number of needed rows\n",
    "tnsr6.shape, tnsr2.shape"
   ]
  },
  {
   "cell_type": "markdown",
   "metadata": {
    "Collapsed": "false"
   },
   "source": [
    "Whenever we want to specify only one dimension and let PyTorch infer the remaining dimensions of a tensor, we can use -1 for the unspecified dimensions."
   ]
  },
  {
   "cell_type": "markdown",
   "metadata": {
    "Collapsed": "false"
   },
   "source": [
    "If we want to build a new tensor that has the same shape, device and data type of another one, but is filled with zeros or ones, we can use ``zeros_like()`` and ``ones_like()``, respectively."
   ]
  },
  {
   "cell_type": "code",
   "execution_count": 15,
   "metadata": {
    "Collapsed": "false"
   },
   "outputs": [
    {
     "data": {
      "text/plain": [
       "tensor([[[1, 1, 1, 1],\n",
       "         [1, 1, 1, 1]],\n",
       "\n",
       "        [[1, 1, 1, 1],\n",
       "         [1, 1, 1, 1]],\n",
       "\n",
       "        [[1, 1, 1, 1],\n",
       "         [1, 1, 1, 1]]])"
      ]
     },
     "execution_count": 15,
     "metadata": {},
     "output_type": "execute_result"
    }
   ],
   "source": [
    "tnsr7 = torch.ones_like(tnsr3)\n",
    "tnsr7"
   ]
  },
  {
   "cell_type": "markdown",
   "metadata": {
    "Collapsed": "false"
   },
   "source": [
    "``dir(a_tensor)`` returns a description of all methods related to a tensor. Several of them are similar to those in a Numpy array. Some useful ones are:\n",
    "- ``.item()``: returns the value of a tensor as a plain Python number\n",
    "- ``.numpy()``: converts a tensor into a Numpy array (tensor must be on CPU)\n",
    "- ``.device()``: returns tensor location (CPU or GPU)\n",
    "- ``.type()``: returns data type of a tensor"
   ]
  },
  {
   "cell_type": "markdown",
   "metadata": {
    "Collapsed": "false"
   },
   "source": [
    "__Important tip__: it is really easy to get lost with the dimensions of tensors, and the dimensions of inputs and outputs of layers and functions. A good practice is including comments with the number of dimensions, their size and what they represent for each tensor and inputs/outputs."
   ]
  },
  {
   "cell_type": "markdown",
   "metadata": {
    "Collapsed": "false"
   },
   "source": [
    "## Autograd"
   ]
  },
  {
   "cell_type": "markdown",
   "metadata": {
    "Collapsed": "false"
   },
   "source": [
    "[Autograd](https://pytorch.org/tutorials/beginner/blitz/autograd_tutorial.html#sphx-glr-beginner-blitz-autograd-tutorial-py) is PyTorch's package of automatic differentiation for operations involving tensors. It [\"records a graph recording all of the operations that created the data as you execute operations, giving you a directed acyclic graph whose leaves are the input tensors and roots are the output tensors\"](https://pytorch.org/docs/stable/notes/autograd.html).\n",
    "\n",
    "Whenever we create a tensor, we can decide if such values require a gradient computation using the argument ``requires_grad``. It is False by default. If set to True, all operations involving such tensor will keep track of the backward operations required to compute its gradient, using the chain rule for derivation. \n",
    "\n",
    "All parameters we want to train in a neural network (weights) should thus be tensors whose argument requires_grad is set to True. Parameters that remain fixed during training and data tensors requires no gradient computation, so we should not waste memory by trying to keep their gradients.\n",
    "\n",
    "Gradients can only be recorded with tensors whose data type is floating point."
   ]
  },
  {
   "cell_type": "code",
   "execution_count": 16,
   "metadata": {
    "Collapsed": "false"
   },
   "outputs": [
    {
     "data": {
      "text/plain": [
       "(tensor(60., grad_fn=<DotBackward>), True)"
      ]
     },
     "execution_count": 16,
     "metadata": {},
     "output_type": "execute_result"
    }
   ],
   "source": [
    "params = torch.tensor([1,2,3], device=my_device, requires_grad=True, dtype=torch.float) \n",
    "data = torch.tensor([10,10,10], device=my_device, requires_grad=False, dtype=torch.float)\n",
    "result = params.dot(data)\n",
    "result, result.requires_grad"
   ]
  },
  {
   "cell_type": "markdown",
   "metadata": {
    "Collapsed": "false"
   },
   "source": [
    "Notice that we created a tensor of parameters (that requires gradient computation) and a tensor of data. Whenever we use a tensor that requires gradient in a function, the resulting tensor will also require a gradient, besides having an attribute ``.grad_fn`` that explicitly tells which backward operation is needed for PyTorch to calculate the gradient at this step during backpropagation."
   ]
  },
  {
   "cell_type": "code",
   "execution_count": 17,
   "metadata": {
    "Collapsed": "false"
   },
   "outputs": [
    {
     "data": {
      "text/plain": [
       "(None, None, <DotBackward at 0x106ca3c50>)"
      ]
     },
     "execution_count": 17,
     "metadata": {},
     "output_type": "execute_result"
    }
   ],
   "source": [
    "(params.grad_fn, data.grad_fn, result.grad_fn) # None when there was no function involved on the creation"
   ]
  },
  {
   "cell_type": "markdown",
   "metadata": {
    "Collapsed": "false"
   },
   "source": [
    "The gradient of a tensor is accumulated into its ``.grad`` attribute. Until we perform backpropagation, it is empty:"
   ]
  },
  {
   "cell_type": "code",
   "execution_count": 18,
   "metadata": {
    "Collapsed": "false"
   },
   "outputs": [
    {
     "data": {
      "text/plain": [
       "(None, None, None)"
      ]
     },
     "execution_count": 18,
     "metadata": {},
     "output_type": "execute_result"
    }
   ],
   "source": [
    "params.grad, data.grad, result.grad"
   ]
  },
  {
   "cell_type": "markdown",
   "metadata": {
    "Collapsed": "false"
   },
   "source": [
    "When we finish computing our goal result (normally the loss function in a neural network), we call the method ``.backward()`` on the final tensor. This will automatically compute all gradients. Let us see that with a pseudo loss function:"
   ]
  },
  {
   "cell_type": "code",
   "execution_count": 19,
   "metadata": {
    "Collapsed": "false"
   },
   "outputs": [
    {
     "data": {
      "text/plain": [
       "tensor(3600., grad_fn=<PowBackward0>)"
      ]
     },
     "execution_count": 19,
     "metadata": {},
     "output_type": "execute_result"
    }
   ],
   "source": [
    "loss = result**2\n",
    "loss"
   ]
  },
  {
   "cell_type": "code",
   "execution_count": 20,
   "metadata": {
    "Collapsed": "false"
   },
   "outputs": [],
   "source": [
    "loss.backward()"
   ]
  },
  {
   "cell_type": "markdown",
   "metadata": {
    "Collapsed": "false"
   },
   "source": [
    "It may look like nothing happened. But we can see the difference on the ``.grad``attributes of all initial tensors that required gradient:"
   ]
  },
  {
   "cell_type": "code",
   "execution_count": 21,
   "metadata": {
    "Collapsed": "false"
   },
   "outputs": [
    {
     "data": {
      "text/plain": [
       "(tensor([1200., 1200., 1200.]), None, None, None)"
      ]
     },
     "execution_count": 21,
     "metadata": {},
     "output_type": "execute_result"
    }
   ],
   "source": [
    "params.grad, data.grad, result.grad, loss.grad"
   ]
  },
  {
   "cell_type": "markdown",
   "metadata": {
    "Collapsed": "false"
   },
   "source": [
    "Our params tensor has now the value of the gradient for each respective entry. Although result and loss are tensors whose flag requires_grad was set to true, they were simply intermediate steps in the computation of the loss. They serve to keep track of the reverse operations needed for backpropagation, but only the original parameters (whose attributes ``.is_leaf AND .requires_grad`` are True) will have computed gradient values after using the ``.backward()`` method.\n",
    "\n",
    "``.is_leaf`` refers to the tensor being a leaf on the computation graph. Let us see how it works:"
   ]
  },
  {
   "cell_type": "code",
   "execution_count": 22,
   "metadata": {
    "Collapsed": "false"
   },
   "outputs": [
    {
     "data": {
      "image/svg+xml": [
       "<?xml version=\"1.0\" encoding=\"UTF-8\" standalone=\"no\"?>\n",
       "<!DOCTYPE svg PUBLIC \"-//W3C//DTD SVG 1.1//EN\"\n",
       " \"http://www.w3.org/Graphics/SVG/1.1/DTD/svg11.dtd\">\n",
       "<!-- Generated by graphviz version 2.40.1 (20161225.0304)\n",
       " -->\n",
       "<!-- Title: %3 Pages: 1 -->\n",
       "<svg width=\"100pt\" height=\"157pt\"\n",
       " viewBox=\"0.00 0.00 100.00 157.00\" xmlns=\"http://www.w3.org/2000/svg\" xmlns:xlink=\"http://www.w3.org/1999/xlink\">\n",
       "<g id=\"graph0\" class=\"graph\" transform=\"scale(1 1) rotate(0) translate(4 153)\">\n",
       "<title>%3</title>\n",
       "<polygon fill=\"#ffffff\" stroke=\"transparent\" points=\"-4,4 -4,-153 96,-153 96,4 -4,4\"/>\n",
       "<!-- 4916542480 -->\n",
       "<g id=\"node1\" class=\"node\">\n",
       "<title>4916542480</title>\n",
       "<polygon fill=\"#caff70\" stroke=\"#000000\" points=\"92,-21 0,-21 0,0 92,0 92,-21\"/>\n",
       "<text text-anchor=\"middle\" x=\"46\" y=\"-7.4\" font-family=\"Times,serif\" font-size=\"12.00\" fill=\"#000000\">PowBackward0</text>\n",
       "</g>\n",
       "<!-- 4408884304 -->\n",
       "<g id=\"node2\" class=\"node\">\n",
       "<title>4408884304</title>\n",
       "<polygon fill=\"#d3d3d3\" stroke=\"#000000\" points=\"87.5,-78 4.5,-78 4.5,-57 87.5,-57 87.5,-78\"/>\n",
       "<text text-anchor=\"middle\" x=\"46\" y=\"-64.4\" font-family=\"Times,serif\" font-size=\"12.00\" fill=\"#000000\">DotBackward</text>\n",
       "</g>\n",
       "<!-- 4408884304&#45;&gt;4916542480 -->\n",
       "<g id=\"edge1\" class=\"edge\">\n",
       "<title>4408884304&#45;&gt;4916542480</title>\n",
       "<path fill=\"none\" stroke=\"#000000\" d=\"M46,-56.7787C46,-49.6134 46,-39.9517 46,-31.3097\"/>\n",
       "<polygon fill=\"#000000\" stroke=\"#000000\" points=\"49.5001,-31.1732 46,-21.1732 42.5001,-31.1732 49.5001,-31.1732\"/>\n",
       "</g>\n",
       "<!-- 4916542544 -->\n",
       "<g id=\"node3\" class=\"node\">\n",
       "<title>4916542544</title>\n",
       "<polygon fill=\"#add8e6\" stroke=\"#000000\" points=\"73,-149 19,-149 19,-114 73,-114 73,-149\"/>\n",
       "<text text-anchor=\"middle\" x=\"46\" y=\"-121.4\" font-family=\"Times,serif\" font-size=\"12.00\" fill=\"#000000\"> (3)</text>\n",
       "</g>\n",
       "<!-- 4916542544&#45;&gt;4408884304 -->\n",
       "<g id=\"edge2\" class=\"edge\">\n",
       "<title>4916542544&#45;&gt;4408884304</title>\n",
       "<path fill=\"none\" stroke=\"#000000\" d=\"M46,-113.6724C46,-105.8405 46,-96.5893 46,-88.4323\"/>\n",
       "<polygon fill=\"#000000\" stroke=\"#000000\" points=\"49.5001,-88.2234 46,-78.2234 42.5001,-88.2235 49.5001,-88.2234\"/>\n",
       "</g>\n",
       "</g>\n",
       "</svg>\n"
      ],
      "text/plain": [
       "<graphviz.dot.Digraph at 0x1250c7b90>"
      ]
     },
     "execution_count": 22,
     "metadata": {},
     "output_type": "execute_result"
    }
   ],
   "source": [
    "# check the computation graph of a function\n",
    "torchviz.make_dot(loss)"
   ]
  },
  {
   "cell_type": "markdown",
   "metadata": {
    "Collapsed": "false"
   },
   "source": [
    "- Blue boxes: parameters of our model, for which we need to compute gradients\n",
    "- Gray boxes: an operation that involves gradient computing tensors\n",
    "- Green box: starting point to compute gradients, if we call ``.backward()`` on this variable\n"
   ]
  },
  {
   "cell_type": "markdown",
   "metadata": {
    "Collapsed": "false"
   },
   "source": [
    "Let us built a more elaborate example:"
   ]
  },
  {
   "cell_type": "code",
   "execution_count": 23,
   "metadata": {
    "Collapsed": "false"
   },
   "outputs": [
    {
     "data": {
      "image/svg+xml": [
       "<?xml version=\"1.0\" encoding=\"UTF-8\" standalone=\"no\"?>\n",
       "<!DOCTYPE svg PUBLIC \"-//W3C//DTD SVG 1.1//EN\"\n",
       " \"http://www.w3.org/Graphics/SVG/1.1/DTD/svg11.dtd\">\n",
       "<!-- Generated by graphviz version 2.40.1 (20161225.0304)\n",
       " -->\n",
       "<!-- Title: %3 Pages: 1 -->\n",
       "<svg width=\"201pt\" height=\"328pt\"\n",
       " viewBox=\"0.00 0.00 201.00 328.00\" xmlns=\"http://www.w3.org/2000/svg\" xmlns:xlink=\"http://www.w3.org/1999/xlink\">\n",
       "<g id=\"graph0\" class=\"graph\" transform=\"scale(1 1) rotate(0) translate(4 324)\">\n",
       "<title>%3</title>\n",
       "<polygon fill=\"#ffffff\" stroke=\"transparent\" points=\"-4,4 -4,-324 197,-324 197,4 -4,4\"/>\n",
       "<!-- 4916543248 -->\n",
       "<g id=\"node1\" class=\"node\">\n",
       "<title>4916543248</title>\n",
       "<polygon fill=\"#caff70\" stroke=\"#000000\" points=\"144.5,-21 51.5,-21 51.5,0 144.5,0 144.5,-21\"/>\n",
       "<text text-anchor=\"middle\" x=\"98\" y=\"-7.4\" font-family=\"Times,serif\" font-size=\"12.00\" fill=\"#000000\">SumBackward0</text>\n",
       "</g>\n",
       "<!-- 4916507152 -->\n",
       "<g id=\"node2\" class=\"node\">\n",
       "<title>4916507152</title>\n",
       "<polygon fill=\"#d3d3d3\" stroke=\"#000000\" points=\"144,-78 52,-78 52,-57 144,-57 144,-78\"/>\n",
       "<text text-anchor=\"middle\" x=\"98\" y=\"-64.4\" font-family=\"Times,serif\" font-size=\"12.00\" fill=\"#000000\">AddBackward0</text>\n",
       "</g>\n",
       "<!-- 4916507152&#45;&gt;4916543248 -->\n",
       "<g id=\"edge1\" class=\"edge\">\n",
       "<title>4916507152&#45;&gt;4916543248</title>\n",
       "<path fill=\"none\" stroke=\"#000000\" d=\"M98,-56.7787C98,-49.6134 98,-39.9517 98,-31.3097\"/>\n",
       "<polygon fill=\"#000000\" stroke=\"#000000\" points=\"101.5001,-31.1732 98,-21.1732 94.5001,-31.1732 101.5001,-31.1732\"/>\n",
       "</g>\n",
       "<!-- 4908301200 -->\n",
       "<g id=\"node3\" class=\"node\">\n",
       "<title>4908301200</title>\n",
       "<polygon fill=\"#d3d3d3\" stroke=\"#000000\" points=\"193,-135 109,-135 109,-114 193,-114 193,-135\"/>\n",
       "<text text-anchor=\"middle\" x=\"151\" y=\"-121.4\" font-family=\"Times,serif\" font-size=\"12.00\" fill=\"#000000\">CosBackward</text>\n",
       "</g>\n",
       "<!-- 4908301200&#45;&gt;4916507152 -->\n",
       "<g id=\"edge2\" class=\"edge\">\n",
       "<title>4908301200&#45;&gt;4916507152</title>\n",
       "<path fill=\"none\" stroke=\"#000000\" d=\"M141.0311,-113.7787C133.7024,-105.8969 123.565,-94.9944 114.9705,-85.7512\"/>\n",
       "<polygon fill=\"#000000\" stroke=\"#000000\" points=\"117.2968,-83.1133 107.9242,-78.1732 112.1705,-87.8799 117.2968,-83.1133\"/>\n",
       "</g>\n",
       "<!-- 4915893136 -->\n",
       "<g id=\"node4\" class=\"node\">\n",
       "<title>4915893136</title>\n",
       "<polygon fill=\"#d3d3d3\" stroke=\"#000000\" points=\"192.5,-192 109.5,-192 109.5,-171 192.5,-171 192.5,-192\"/>\n",
       "<text text-anchor=\"middle\" x=\"151\" y=\"-178.4\" font-family=\"Times,serif\" font-size=\"12.00\" fill=\"#000000\">DotBackward</text>\n",
       "</g>\n",
       "<!-- 4915893136&#45;&gt;4908301200 -->\n",
       "<g id=\"edge3\" class=\"edge\">\n",
       "<title>4915893136&#45;&gt;4908301200</title>\n",
       "<path fill=\"none\" stroke=\"#000000\" d=\"M151,-170.7787C151,-163.6134 151,-153.9517 151,-145.3097\"/>\n",
       "<polygon fill=\"#000000\" stroke=\"#000000\" points=\"154.5001,-145.1732 151,-135.1732 147.5001,-145.1732 154.5001,-145.1732\"/>\n",
       "</g>\n",
       "<!-- 4915895632 -->\n",
       "<g id=\"node5\" class=\"node\">\n",
       "<title>4915895632</title>\n",
       "<polygon fill=\"#d3d3d3\" stroke=\"#000000\" points=\"92,-249 0,-249 0,-228 92,-228 92,-249\"/>\n",
       "<text text-anchor=\"middle\" x=\"46\" y=\"-235.4\" font-family=\"Times,serif\" font-size=\"12.00\" fill=\"#000000\">PowBackward0</text>\n",
       "</g>\n",
       "<!-- 4915895632&#45;&gt;4915893136 -->\n",
       "<g id=\"edge4\" class=\"edge\">\n",
       "<title>4915895632&#45;&gt;4915893136</title>\n",
       "<path fill=\"none\" stroke=\"#000000\" d=\"M65.7497,-227.7787C81.7355,-219.1007 104.4664,-206.7611 122.4365,-197.0059\"/>\n",
       "<polygon fill=\"#000000\" stroke=\"#000000\" points=\"124.2202,-200.0202 131.3389,-192.1732 120.8805,-193.8682 124.2202,-200.0202\"/>\n",
       "</g>\n",
       "<!-- 4916507664 -->\n",
       "<g id=\"node9\" class=\"node\">\n",
       "<title>4916507664</title>\n",
       "<polygon fill=\"#d3d3d3\" stroke=\"#000000\" points=\"91,-135 1,-135 1,-114 91,-114 91,-135\"/>\n",
       "<text text-anchor=\"middle\" x=\"46\" y=\"-121.4\" font-family=\"Times,serif\" font-size=\"12.00\" fill=\"#000000\">Log2Backward</text>\n",
       "</g>\n",
       "<!-- 4915895632&#45;&gt;4916507664 -->\n",
       "<g id=\"edge9\" class=\"edge\">\n",
       "<title>4915895632&#45;&gt;4916507664</title>\n",
       "<path fill=\"none\" stroke=\"#000000\" d=\"M46,-227.9795C46,-209.242 46,-169.7701 46,-145.3565\"/>\n",
       "<polygon fill=\"#000000\" stroke=\"#000000\" points=\"49.5001,-145.3276 46,-135.3276 42.5001,-145.3277 49.5001,-145.3276\"/>\n",
       "</g>\n",
       "<!-- 4915895312 -->\n",
       "<g id=\"node6\" class=\"node\">\n",
       "<title>4915895312</title>\n",
       "<polygon fill=\"#add8e6\" stroke=\"#000000\" points=\"73,-320 19,-320 19,-285 73,-285 73,-320\"/>\n",
       "<text text-anchor=\"middle\" x=\"46\" y=\"-292.4\" font-family=\"Times,serif\" font-size=\"12.00\" fill=\"#000000\"> (3)</text>\n",
       "</g>\n",
       "<!-- 4915895312&#45;&gt;4915895632 -->\n",
       "<g id=\"edge5\" class=\"edge\">\n",
       "<title>4915895312&#45;&gt;4915895632</title>\n",
       "<path fill=\"none\" stroke=\"#000000\" d=\"M46,-284.6724C46,-276.8405 46,-267.5893 46,-259.4323\"/>\n",
       "<polygon fill=\"#000000\" stroke=\"#000000\" points=\"49.5001,-259.2234 46,-249.2234 42.5001,-259.2235 49.5001,-259.2234\"/>\n",
       "</g>\n",
       "<!-- 4915894992 -->\n",
       "<g id=\"node7\" class=\"node\">\n",
       "<title>4915894992</title>\n",
       "<polygon fill=\"#d3d3d3\" stroke=\"#000000\" points=\"192,-249 110,-249 110,-228 192,-228 192,-249\"/>\n",
       "<text text-anchor=\"middle\" x=\"151\" y=\"-235.4\" font-family=\"Times,serif\" font-size=\"12.00\" fill=\"#000000\">MvBackward</text>\n",
       "</g>\n",
       "<!-- 4915894992&#45;&gt;4915893136 -->\n",
       "<g id=\"edge6\" class=\"edge\">\n",
       "<title>4915894992&#45;&gt;4915893136</title>\n",
       "<path fill=\"none\" stroke=\"#000000\" d=\"M151,-227.7787C151,-220.6134 151,-210.9517 151,-202.3097\"/>\n",
       "<polygon fill=\"#000000\" stroke=\"#000000\" points=\"154.5001,-202.1732 151,-192.1732 147.5001,-202.1732 154.5001,-202.1732\"/>\n",
       "</g>\n",
       "<!-- 4916542928 -->\n",
       "<g id=\"node8\" class=\"node\">\n",
       "<title>4916542928</title>\n",
       "<polygon fill=\"#add8e6\" stroke=\"#000000\" points=\"178,-320 124,-320 124,-285 178,-285 178,-320\"/>\n",
       "<text text-anchor=\"middle\" x=\"151\" y=\"-292.4\" font-family=\"Times,serif\" font-size=\"12.00\" fill=\"#000000\"> (3, 3)</text>\n",
       "</g>\n",
       "<!-- 4916542928&#45;&gt;4915894992 -->\n",
       "<g id=\"edge7\" class=\"edge\">\n",
       "<title>4916542928&#45;&gt;4915894992</title>\n",
       "<path fill=\"none\" stroke=\"#000000\" d=\"M151,-284.6724C151,-276.8405 151,-267.5893 151,-259.4323\"/>\n",
       "<polygon fill=\"#000000\" stroke=\"#000000\" points=\"154.5001,-259.2234 151,-249.2234 147.5001,-259.2235 154.5001,-259.2234\"/>\n",
       "</g>\n",
       "<!-- 4916507664&#45;&gt;4916507152 -->\n",
       "<g id=\"edge8\" class=\"edge\">\n",
       "<title>4916507664&#45;&gt;4916507152</title>\n",
       "<path fill=\"none\" stroke=\"#000000\" d=\"M55.7808,-113.7787C62.9713,-105.8969 72.9174,-94.9944 81.3497,-85.7512\"/>\n",
       "<polygon fill=\"#000000\" stroke=\"#000000\" points=\"84.1091,-87.9198 88.2631,-78.1732 78.9377,-83.202 84.1091,-87.9198\"/>\n",
       "</g>\n",
       "</g>\n",
       "</svg>\n"
      ],
      "text/plain": [
       "<graphviz.dot.Digraph at 0x1250bf3d0>"
      ]
     },
     "execution_count": 23,
     "metadata": {},
     "output_type": "execute_result"
    }
   ],
   "source": [
    "params1 = torch.tensor([[1,1,1], [2,2,2], [3,3,3]], device=my_device, requires_grad=True, dtype=torch.float)\n",
    "params2 = torch.tensor([0.5, 0.1, 0.9], device=my_device, requires_grad=True, dtype=torch.float)\n",
    "data = torch.tensor([10, 10, 10], device=my_device, requires_grad=False, dtype=torch.float)\n",
    "\n",
    "aux1 = params1.matmul(data)\n",
    "aux2 = params2**0.5\n",
    "aux3 = aux2.dot(aux1)\n",
    "aux4 = aux3.cos() + aux2.log2()\n",
    "\n",
    "loss = aux4.sum()\n",
    "\n",
    "torchviz.make_dot(loss)"
   ]
  },
  {
   "cell_type": "markdown",
   "metadata": {
    "Collapsed": "false"
   },
   "source": [
    "Notice that the tensor data is not shown in the computation graph, because it only presents gradient computing tensors and their dependencies. Still, we know that the data tensor was needed for the gray box MvBackward."
   ]
  },
  {
   "cell_type": "markdown",
   "metadata": {
    "Collapsed": "false"
   },
   "source": [
    "Let us perform backpropagation on this loss:"
   ]
  },
  {
   "cell_type": "code",
   "execution_count": 24,
   "metadata": {
    "Collapsed": "false"
   },
   "outputs": [],
   "source": [
    "loss.backward()"
   ]
  },
  {
   "cell_type": "code",
   "execution_count": 25,
   "metadata": {
    "Collapsed": "false",
    "scrolled": true
   },
   "outputs": [
    {
     "data": {
      "text/plain": [
       "(tensor([[2.0195, 2.0195, 2.0195],\n",
       "         [0.9032, 0.9032, 0.9032],\n",
       "         [2.7095, 2.7095, 2.7095]]),\n",
       " tensor([ 7.5013, 34.3085, 14.3490]))"
      ]
     },
     "execution_count": 25,
     "metadata": {},
     "output_type": "execute_result"
    }
   ],
   "source": [
    "params1.grad, params2.grad"
   ]
  },
  {
   "cell_type": "markdown",
   "metadata": {
    "Collapsed": "false"
   },
   "source": [
    "When we perform gradient descent, we need to update the parameters using the newly computed gradient values. We could do it manually by calling ``params1 = params1 - params1.grad``, but it can be really cumbersome when we have many parameters at different steps in a model.\n",
    "\n",
    "PyTorch provides optimizers that can do that automatically and more efficiently. Before learning about them on the next section, there is an important reminder to finish this part.\n",
    "\n",
    "The computation of gradients is cumulative. PyTorch keeps track of operations until we explicitly give a command to disconnet the next computations from the past. For instance, in gradient descent: we output predictions, compute the loss, compute the gradients, update the parameters. An iteration is now finished and we will restart all over. We do not want PyTorch to try to backpropagate the error back to the first iteration. \n",
    "\n",
    "To avoid that, we could manually restart the gradients:"
   ]
  },
  {
   "cell_type": "code",
   "execution_count": 26,
   "metadata": {
    "Collapsed": "false",
    "scrolled": true
   },
   "outputs": [
    {
     "data": {
      "text/plain": [
       "tensor([0., 0., 0.])"
      ]
     },
     "execution_count": 26,
     "metadata": {},
     "output_type": "execute_result"
    }
   ],
   "source": [
    "params1.grad.zero_()\n",
    "params2.grad.zero_()"
   ]
  },
  {
   "cell_type": "markdown",
   "metadata": {
    "Collapsed": "false"
   },
   "source": [
    "Luckily, PyTorch optimizers can also do that automatically with a simple comand that we will examine in the next section."
   ]
  },
  {
   "cell_type": "markdown",
   "metadata": {
    "Collapsed": "false"
   },
   "source": [
    "We can also use ``.detach()`` to detach a tensor from the computation history, e.g. to create a new tensor with the current value of another one but without its gradient history. This new tensor can be used for other purposes and further computation that is independent of how the original values were created."
   ]
  },
  {
   "cell_type": "code",
   "execution_count": 27,
   "metadata": {
    "Collapsed": "false"
   },
   "outputs": [
    {
     "data": {
      "image/svg+xml": [
       "<?xml version=\"1.0\" encoding=\"UTF-8\" standalone=\"no\"?>\n",
       "<!DOCTYPE svg PUBLIC \"-//W3C//DTD SVG 1.1//EN\"\n",
       " \"http://www.w3.org/Graphics/SVG/1.1/DTD/svg11.dtd\">\n",
       "<!-- Generated by graphviz version 2.40.1 (20161225.0304)\n",
       " -->\n",
       "<!-- Title: %3 Pages: 1 -->\n",
       "<svg width=\"75pt\" height=\"29pt\"\n",
       " viewBox=\"0.00 0.00 75.00 29.00\" xmlns=\"http://www.w3.org/2000/svg\" xmlns:xlink=\"http://www.w3.org/1999/xlink\">\n",
       "<g id=\"graph0\" class=\"graph\" transform=\"scale(1 1) rotate(0) translate(4 25)\">\n",
       "<title>%3</title>\n",
       "<polygon fill=\"#ffffff\" stroke=\"transparent\" points=\"-4,4 -4,-25 71,-25 71,4 -4,4\"/>\n",
       "<!-- 4365592680 -->\n",
       "<g id=\"node1\" class=\"node\">\n",
       "<title>4365592680</title>\n",
       "<polygon fill=\"#caff70\" stroke=\"#000000\" points=\"67,-21 0,-21 0,0 67,0 67,-21\"/>\n",
       "<text text-anchor=\"middle\" x=\"33.5\" y=\"-7.4\" font-family=\"Times,serif\" font-size=\"12.00\" fill=\"#000000\">NoneType</text>\n",
       "</g>\n",
       "</g>\n",
       "</svg>\n"
      ],
      "text/plain": [
       "<graphviz.dot.Digraph at 0x1250ba650>"
      ]
     },
     "execution_count": 27,
     "metadata": {},
     "output_type": "execute_result"
    }
   ],
   "source": [
    "new_loss = loss.detach()\n",
    "torchviz.make_dot(new_loss)"
   ]
  },
  {
   "cell_type": "markdown",
   "metadata": {
    "Collapsed": "false"
   },
   "source": [
    "## Optimizers"
   ]
  },
  {
   "cell_type": "markdown",
   "metadata": {
    "Collapsed": "false"
   },
   "source": [
    "PyTorch's package [torch.optim](https://pytorch.org/docs/stable/optim.html?highlight=optimizers) implements several common optimization methods such as SGD, Adam, AdaGrad, RMSprop etc. It lets us easily choose the learning rate, momentum and other hyperparameters, perform updating steps in our models with the method ``.step()`` and clean gradient history with the ``.zero_grad()`` method.\n",
    "\n",
    "Let us use the Adam optimizer to perform a gradient descent step in the loss function we computed above.\n",
    "\n",
    "We first choose an optimizer and pass a list of parameters:"
   ]
  },
  {
   "cell_type": "code",
   "execution_count": 28,
   "metadata": {
    "Collapsed": "false"
   },
   "outputs": [],
   "source": [
    "params1 = torch.tensor([[1,1,1], [2,2,2], [3,3,3]], device=my_device, requires_grad=True, dtype=torch.float)\n",
    "params2 = torch.tensor([0.5, 0.1, 0.9], device=my_device, requires_grad=True, dtype=torch.float)\n",
    "\n",
    "# first instantiate an optim object with the model's parameters and the optimizer's specific hyperparameters\n",
    "optimizer = optim.Adam([params1, params2], lr=0.0001) "
   ]
  },
  {
   "cell_type": "markdown",
   "metadata": {
    "Collapsed": "false"
   },
   "source": [
    "Let us build the loss again and call the ``.step()`` method:"
   ]
  },
  {
   "cell_type": "code",
   "execution_count": 29,
   "metadata": {
    "Collapsed": "false"
   },
   "outputs": [],
   "source": [
    "data = torch.tensor([10, 10, 10], device=my_device, requires_grad=False, dtype=torch.float)\n",
    "\n",
    "aux1 = params1.matmul(data)\n",
    "aux2 = params2**0.5\n",
    "aux3 = aux2.dot(aux1)\n",
    "aux4 = aux3.cos() + aux2.log2()\n",
    "\n",
    "loss = aux4.sum()\n",
    "\n",
    "loss.backward()\n",
    "\n",
    "optimizer.step()"
   ]
  },
  {
   "cell_type": "code",
   "execution_count": 30,
   "metadata": {
    "Collapsed": "false"
   },
   "outputs": [
    {
     "data": {
      "text/plain": [
       "(tensor([[0.9999, 0.9999, 0.9999],\n",
       "         [1.9999, 1.9999, 1.9999],\n",
       "         [2.9999, 2.9999, 2.9999]], requires_grad=True),\n",
       " tensor([0.4999, 0.0999, 0.8999], requires_grad=True))"
      ]
     },
     "execution_count": 30,
     "metadata": {},
     "output_type": "execute_result"
    }
   ],
   "source": [
    "params1, params2 # check new parameters after one update in gradient descent"
   ]
  },
  {
   "cell_type": "code",
   "execution_count": 31,
   "metadata": {
    "Collapsed": "false"
   },
   "outputs": [
    {
     "data": {
      "text/plain": [
       "(tensor([[2.0195, 2.0195, 2.0195],\n",
       "         [0.9032, 0.9032, 0.9032],\n",
       "         [2.7095, 2.7095, 2.7095]]),\n",
       " tensor([ 7.5013, 34.3085, 14.3490]))"
      ]
     },
     "execution_count": 31,
     "metadata": {},
     "output_type": "execute_result"
    }
   ],
   "source": [
    "params1.grad, params2.grad # check how the optimizer computed and stored the gradients"
   ]
  },
  {
   "cell_type": "markdown",
   "metadata": {
    "Collapsed": "false"
   },
   "source": [
    "We must then call ``optimizer.zero_grad()`` to make sure that the gradient computation starts again in the next step."
   ]
  },
  {
   "cell_type": "code",
   "execution_count": 32,
   "metadata": {
    "Collapsed": "false"
   },
   "outputs": [],
   "source": [
    "optimizer.zero_grad() "
   ]
  },
  {
   "cell_type": "code",
   "execution_count": 33,
   "metadata": {
    "Collapsed": "false"
   },
   "outputs": [
    {
     "data": {
      "text/plain": [
       "(tensor([[0., 0., 0.],\n",
       "         [0., 0., 0.],\n",
       "         [0., 0., 0.]]),\n",
       " tensor([0., 0., 0.]))"
      ]
     },
     "execution_count": 33,
     "metadata": {},
     "output_type": "execute_result"
    }
   ],
   "source": [
    "params1.grad, params2.grad # check how the optimizer zeroed the previous gradients"
   ]
  },
  {
   "cell_type": "markdown",
   "metadata": {
    "Collapsed": "false"
   },
   "source": [
    "## Loss functions"
   ]
  },
  {
   "cell_type": "markdown",
   "metadata": {
    "Collapsed": "false"
   },
   "source": [
    "We have used a psedo loss function so far. However, neural network models normally use more elaborate loss functions like mean squared error, cross entropy, hinge etc. \n",
    "\n",
    "The most usual loss functions are already implemented in PyTorch's [``.nn`` package](https://pytorch.org/docs/stable/nn.html) with their corresponding gradient computation: L1Loss, MSELoss, CrossEntropyLoss, CTCLoss, NLLLoss, PoissonNLLLoss, KLDivLoss, BCELoss, BCEWithLogitsLoss, MarginRankingLoss,  HingeEmbeddingLoss, MultiLabelMarginLoss, SmoothL1Loss, SoftMarginLoss, MultiLabelSoftMarginLoss, CosineEmbeddingLoss, MultiMarginLoss and TripletMarginLoss.\n",
    "\n",
    "Here is an example using the cross entropy with a single, non-normalized output scores and a golden class."
   ]
  },
  {
   "cell_type": "code",
   "execution_count": 34,
   "metadata": {
    "Collapsed": "false"
   },
   "outputs": [
    {
     "data": {
      "text/plain": [
       "tensor(0.0001)"
      ]
     },
     "execution_count": 34,
     "metadata": {},
     "output_type": "execute_result"
    }
   ],
   "source": [
    "# we first instantiate a loss object, eventually passing the arguments with its hyperparameters\n",
    "crss_entrp = nn.CrossEntropyLoss()\n",
    "scores = torch.tensor([[-5, 21, 30]], dtype=torch.float)\n",
    "gold = torch.tensor([2])\n",
    "\n",
    "loss = crss_entrp(scores, gold)\n",
    "loss"
   ]
  },
  {
   "cell_type": "markdown",
   "metadata": {
    "Collapsed": "false"
   },
   "source": [
    "Let us build a simple model Ax=y, where x is our data and A are parameters, and suppose that we know the correct output Y:"
   ]
  },
  {
   "cell_type": "code",
   "execution_count": 35,
   "metadata": {
    "Collapsed": "false"
   },
   "outputs": [],
   "source": [
    "A = torch.rand(3,3, device=my_device, requires_grad=True) # random initialization of our parameters\n",
    "x = torch.tensor([0.1, 0.2, 0.3], device=my_device, requires_grad=True)\n",
    "\n",
    "y = A.matmul(x)\n",
    "Y = torch.tensor([0.2, 0.3, 0.4])"
   ]
  },
  {
   "cell_type": "markdown",
   "metadata": {
    "Collapsed": "false"
   },
   "source": [
    "We first instantiate a loss function from a class in ``torch.nn``:"
   ]
  },
  {
   "cell_type": "code",
   "execution_count": 36,
   "metadata": {
    "Collapsed": "false"
   },
   "outputs": [],
   "source": [
    "mse = torch.nn.MSELoss()"
   ]
  },
  {
   "cell_type": "markdown",
   "metadata": {
    "Collapsed": "false"
   },
   "source": [
    "Then we calculate the loss by passing the output of our model and the true answers to the function:"
   ]
  },
  {
   "cell_type": "code",
   "execution_count": 37,
   "metadata": {
    "Collapsed": "false"
   },
   "outputs": [],
   "source": [
    "loss = mse(y, Y)"
   ]
  },
  {
   "cell_type": "markdown",
   "metadata": {
    "Collapsed": "false"
   },
   "source": [
    "After that, we can continue the optimization as above:"
   ]
  },
  {
   "cell_type": "code",
   "execution_count": 38,
   "metadata": {
    "Collapsed": "false"
   },
   "outputs": [],
   "source": [
    "loss.backward()    \n",
    "optimizer.step()\n",
    "optimizer.zero_grad()"
   ]
  },
  {
   "cell_type": "markdown",
   "metadata": {
    "Collapsed": "false"
   },
   "source": [
    "## Activation Functions"
   ]
  },
  {
   "cell_type": "markdown",
   "metadata": {
    "Collapsed": "false"
   },
   "source": [
    "PyTorch's ``torch.nn`` module provides implementations of many [activation functions](https://pytorch.org/docs/stable/nn.html#non-linear-activations-weighted-sum-nonlinearity): ELU, Hardshrink, Hardtanh, LeakyReLU, LogSigmoid, MultiheadAttention, PReLU, ReLU, ReLU6, RReLU, SELU, CELU, Sigmoid, Softplus, Softshrink, Softsign, Tanh, Tanhshrink, Threshold, Softmin, Softmax, Softmax2d, LogSoftMax, AdaptiveLogSoftmaxWithLoss.\n",
    "\n",
    "Let us see how to create a Softmax and a ReLU layer:"
   ]
  },
  {
   "cell_type": "code",
   "execution_count": 39,
   "metadata": {
    "Collapsed": "false"
   },
   "outputs": [
    {
     "data": {
      "text/plain": [
       "tensor([0.0179, 0.0066, 0.9756])"
      ]
     },
     "execution_count": 39,
     "metadata": {},
     "output_type": "execute_result"
    }
   ],
   "source": [
    "# we must first instantiate a class, then use it with our tensor as argument\n",
    "# calling F.softmax(output, dim=-1) would also work as a function, instead of a class\n",
    "\n",
    "softmax_layer = nn.Softmax(dim=-1)\n",
    "example_output = torch.tensor([-1,-2,3], dtype=torch.float)\n",
    "softmax_layer(example_output)"
   ]
  },
  {
   "cell_type": "code",
   "execution_count": 40,
   "metadata": {
    "Collapsed": "false"
   },
   "outputs": [
    {
     "data": {
      "text/plain": [
       "tensor([0., 0., 3.])"
      ]
     },
     "execution_count": 40,
     "metadata": {},
     "output_type": "execute_result"
    }
   ],
   "source": [
    "# calling F.relu(example_output) would also work as a function, instead of a class\n",
    "\n",
    "relu_layer = nn.ReLU()\n",
    "relu_layer(example_output)"
   ]
  },
  {
   "cell_type": "markdown",
   "metadata": {
    "Collapsed": "false"
   },
   "source": [
    "## Neural Network Models"
   ]
  },
  {
   "cell_type": "markdown",
   "metadata": {
    "Collapsed": "false"
   },
   "source": [
    "We have covered some important building blocks for training neural networks, but we still need to explore the models themselves. Like the loss functions, the main types of layers that compose a neural network (for instance, linear, convolutional, pooling, recurrent, dropout and transformer layer) are also implemented in the [``.nn`` package](https://pytorch.org/docs/stable/nn.html) as classes.\n",
    "\n",
    "All neural network models derive from a base class called Module. Whenever we create a new model, we should inherit the base class and write its ``__init__(self)`` method (where we define all layers) and ``forward(self, input)`` method (where we define the forward pass that returns an output).\n",
    "\n",
    "The ``.forward()`` method should not be explicitly called though. PyTorch is built to work like that, calling the model instance itself with the arguments demanded by the ``.forward()`` method will take care of everything that must happen in the background.\n",
    "\n",
    "Let us see some examples:"
   ]
  },
  {
   "cell_type": "code",
   "execution_count": 41,
   "metadata": {
    "Collapsed": "false"
   },
   "outputs": [],
   "source": [
    "# Source: https://towardsdatascience.com/understanding-pytorch-with-an-example-a-step-by-step-tutorial-81fc5f8c4e8e?#ea0d\n",
    "\n",
    "class ManualLinearRegression(nn.Module):\n",
    "    def __init__(self):\n",
    "        super().__init__()\n",
    "        # To make \"a\" and \"b\" real parameters of the model, we need to wrap them with nn.Parameter\n",
    "        self.a = nn.Parameter(torch.randn(1, requires_grad=True, dtype=torch.float))\n",
    "        self.b = nn.Parameter(torch.randn(1, requires_grad=True, dtype=torch.float))\n",
    "        \n",
    "    def forward(self, x):\n",
    "        # Computes the outputs / predictions\n",
    "        return self.a + self.b * x"
   ]
  },
  {
   "cell_type": "markdown",
   "metadata": {
    "Collapsed": "false"
   },
   "source": [
    "For a simple linear regression, the class ManualLinearRegression defines two parameters, initializing them randomly. The forward method returns the result of ax+b. \n",
    "\n",
    "The class ``nn.Parameter()`` is a subclass of ``Tensor``, which is automatically included into the model's parameters when we instantiate a subclass of ``nn.Module``.\n",
    "\n",
    "When we use PyTorch's implementation, we do not need to define the parameters explicitly when we choose a built-in layer. The ``LayerLinearRegression`` below is another way to do the same thing as ``ManualLinearRegression()`` using PyTorch resources: "
   ]
  },
  {
   "cell_type": "code",
   "execution_count": 42,
   "metadata": {
    "Collapsed": "false"
   },
   "outputs": [],
   "source": [
    "# Source: https://towardsdatascience.com/understanding-pytorch-with-an-example-a-step-by-step-tutorial-81fc5f8c4e8e?#ea0d\n",
    "\n",
    "class LayerLinearRegression(nn.Module):\n",
    "    def __init__(self):\n",
    "        super().__init__()\n",
    "        # Instead of our custom parameters, we use a Linear layer with single input and single output\n",
    "        self.linear = nn.Linear(1, 1)\n",
    "                \n",
    "    def forward(self, x):\n",
    "        # Now it only takes a call to the layer to make predictions\n",
    "        return self.linear(x)"
   ]
  },
  {
   "cell_type": "markdown",
   "metadata": {
    "Collapsed": "false"
   },
   "source": [
    "Another more elaborate example:"
   ]
  },
  {
   "cell_type": "code",
   "execution_count": 43,
   "metadata": {
    "Collapsed": "false"
   },
   "outputs": [],
   "source": [
    "# Source: https://github.com/pytorch/examples/blob/master/mnist/main.py, modified\n",
    "\n",
    "class Net(nn.Module):\n",
    "    \n",
    "    def __init__(self):\n",
    "        super(Net, self).__init__()\n",
    "        self.conv1 = nn.Conv2d(1, 32, 3, 1) \n",
    "        self.conv2 = nn.Conv2d(32, 64, 3, 1)\n",
    "        self.dropout1 = nn.Dropout2d(0.25)   # probability of an element to be zero-ed = 0.25\n",
    "        self.dropout2 = nn.Dropout2d(0.5)    # probability of an element to be zero-ed = 0.5\n",
    "        self.fc1 = nn.Linear(9216, 128)      # input with 9216 dims, output with 128 dims\n",
    "        self.fc2 = nn.Linear(128, 10)        # input with 128 dims, output with 10 dims\n",
    "\n",
    "    def forward(self, x):\n",
    "        x = self.conv1(x)\n",
    "        x = F.relu(x)\n",
    "        x = self.conv2(x)\n",
    "        x = F.max_pool2d(x, 2)\n",
    "        x = self.dropout1(x)\n",
    "        x = torch.flatten(x, 1)\n",
    "        x = self.fc1(x)\n",
    "        x = F.relu(x)\n",
    "        x = self.dropout2(x)\n",
    "        x = self.fc2(x)\n",
    "        output = F.log_softmax(x, dim=1)\n",
    "    \n",
    "        return output\n",
    "    \n",
    "# The use of torch.nn.functional is deprecated according to https://discuss.pytorch.org/t/torch-tanh-vs-torch-nn-functional-tanh/15897.\n",
    "# We keep it here because we can still find it on existing codes, however all activation functions are available\n",
    "# on the module torch.nn as classes"
   ]
  },
  {
   "cell_type": "markdown",
   "metadata": {
    "Collapsed": "false"
   },
   "source": [
    "For classifying MNIST digits, they create a more elaborate class called Net, which inherits from the base class Module. This model uses some of the many implemented layers in ``torch.nn``.\n",
    "\n",
    "The model is initialized with two convolutional layers, two dropout layers and two linear layers. Its forward method defines the forward pass: the input goes through convolution, ReLu, convolution, pooling, dropout, linearization, ReLu, droupout, linearizarion and softmax."
   ]
  },
  {
   "cell_type": "markdown",
   "metadata": {
    "Collapsed": "false"
   },
   "source": [
    "Let us use the ManualLinearRegression model:"
   ]
  },
  {
   "cell_type": "code",
   "execution_count": 44,
   "metadata": {
    "Collapsed": "false"
   },
   "outputs": [
    {
     "name": "stdout",
     "output_type": "stream",
     "text": [
      "Parameter containing:\n",
      "tensor([-1.7093], requires_grad=True) Parameter containing:\n",
      "tensor([0.9611], requires_grad=True) tensor([2.1351], grad_fn=<AddBackward0>)\n"
     ]
    }
   ],
   "source": [
    "# example input and correct output\n",
    "x = torch.tensor([4], device=my_device)\n",
    "y_gold = 5\n",
    "\n",
    "model = ManualLinearRegression().to(my_device) # the model must be in the same device as the data\n",
    "\n",
    "output = model(x)\n",
    "\n",
    "# Check the values:\n",
    "print(model.a, model.b, output)"
   ]
  },
  {
   "cell_type": "code",
   "execution_count": 45,
   "metadata": {
    "Collapsed": "false",
    "scrolled": true
   },
   "outputs": [
    {
     "data": {
      "text/plain": [
       "(tensor([-5.7298]), tensor([-22.9192]))"
      ]
     },
     "execution_count": 45,
     "metadata": {},
     "output_type": "execute_result"
    }
   ],
   "source": [
    "error = (output - y_gold)**2\n",
    "error.backward()\n",
    "model.a.grad, model.b.grad # gradients have been computed for our parameters"
   ]
  },
  {
   "cell_type": "markdown",
   "metadata": {
    "Collapsed": "false"
   },
   "source": [
    "See how the LayerLinearRegression does the same thing:"
   ]
  },
  {
   "cell_type": "code",
   "execution_count": 46,
   "metadata": {
    "Collapsed": "false"
   },
   "outputs": [
    {
     "data": {
      "text/plain": [
       "[Parameter containing:\n",
       " tensor([[-0.3132]], requires_grad=True),\n",
       " Parameter containing:\n",
       " tensor([-0.2520], requires_grad=True),\n",
       " tensor([-1.5047], grad_fn=<AddBackward0>)]"
      ]
     },
     "execution_count": 46,
     "metadata": {},
     "output_type": "execute_result"
    }
   ],
   "source": [
    "x = torch.tensor([4], device=my_device, dtype=torch.float)\n",
    "y_gold = 5\n",
    "model2 = LayerLinearRegression().to(my_device) # the model must be in the same device as the data\n",
    "\n",
    "output2 = model2(x)\n",
    "[*model2.parameters(), output2]"
   ]
  },
  {
   "cell_type": "markdown",
   "metadata": {
    "Collapsed": "false"
   },
   "source": [
    "To check the values of the parameters in our model, we can use the generator ``.parameters()`` as above or call ``.state_dict()``:"
   ]
  },
  {
   "cell_type": "code",
   "execution_count": 47,
   "metadata": {
    "Collapsed": "false",
    "scrolled": true
   },
   "outputs": [
    {
     "data": {
      "text/plain": [
       "OrderedDict([('a', tensor([-1.7093])), ('b', tensor([0.9611]))])"
      ]
     },
     "execution_count": 47,
     "metadata": {},
     "output_type": "execute_result"
    }
   ],
   "source": [
    "model.state_dict()"
   ]
  },
  {
   "cell_type": "code",
   "execution_count": 48,
   "metadata": {
    "Collapsed": "false",
    "scrolled": true
   },
   "outputs": [
    {
     "data": {
      "text/plain": [
       "OrderedDict([('linear.weight', tensor([[-0.3132]])),\n",
       "             ('linear.bias', tensor([-0.2520]))])"
      ]
     },
     "execution_count": 48,
     "metadata": {},
     "output_type": "execute_result"
    }
   ],
   "source": [
    "model2.state_dict()"
   ]
  },
  {
   "cell_type": "markdown",
   "metadata": {
    "Collapsed": "false"
   },
   "source": [
    "Or as a generator again, but with the corresponding names of the many parameters in the Net() model:"
   ]
  },
  {
   "cell_type": "code",
   "execution_count": 49,
   "metadata": {
    "Collapsed": "false"
   },
   "outputs": [
    {
     "data": {
      "text/plain": [
       "[('conv1.weight',\n",
       "  Parameter containing:\n",
       "  tensor([[[[-0.0349,  0.0733,  0.2607],\n",
       "            [ 0.2581, -0.1028, -0.3061],\n",
       "            [ 0.1565,  0.0457, -0.1409]]],\n",
       "  \n",
       "  \n",
       "          [[[-0.0746, -0.1595,  0.2466],\n",
       "            [-0.0153, -0.0344, -0.2042],\n",
       "            [-0.3004,  0.1129, -0.0500]]],\n",
       "  \n",
       "  \n",
       "          [[[-0.2825,  0.1571, -0.1058],\n",
       "            [ 0.0805,  0.0651, -0.3140],\n",
       "            [ 0.0989, -0.3053, -0.2760]]],\n",
       "  \n",
       "  \n",
       "          [[[-0.2364,  0.1116,  0.1939],\n",
       "            [ 0.2203, -0.2199,  0.3037],\n",
       "            [-0.0075,  0.0749, -0.0261]]],\n",
       "  \n",
       "  \n",
       "          [[[ 0.3286, -0.2233,  0.2126],\n",
       "            [ 0.3013,  0.0083, -0.2701],\n",
       "            [ 0.2544, -0.0204,  0.2165]]],\n",
       "  \n",
       "  \n",
       "          [[[ 0.2446, -0.2538, -0.0976],\n",
       "            [-0.0809,  0.2100,  0.2077],\n",
       "            [-0.1664, -0.3275, -0.1410]]],\n",
       "  \n",
       "  \n",
       "          [[[ 0.2558,  0.0590, -0.2238],\n",
       "            [ 0.2576, -0.1847,  0.1542],\n",
       "            [-0.2411,  0.0207,  0.3111]]],\n",
       "  \n",
       "  \n",
       "          [[[ 0.1280,  0.0309, -0.0903],\n",
       "            [ 0.2741,  0.2090, -0.2157],\n",
       "            [-0.2420, -0.1989,  0.2435]]],\n",
       "  \n",
       "  \n",
       "          [[[ 0.2015, -0.1524,  0.2033],\n",
       "            [-0.1382, -0.2804, -0.2354],\n",
       "            [ 0.0134,  0.1569,  0.1047]]],\n",
       "  \n",
       "  \n",
       "          [[[-0.2211, -0.0518,  0.1778],\n",
       "            [ 0.2195, -0.2065,  0.2616],\n",
       "            [ 0.3116, -0.0560,  0.2579]]],\n",
       "  \n",
       "  \n",
       "          [[[ 0.2374,  0.0756, -0.2639],\n",
       "            [ 0.0858,  0.2209, -0.0384],\n",
       "            [-0.3105, -0.2991,  0.2143]]],\n",
       "  \n",
       "  \n",
       "          [[[-0.2787,  0.1789, -0.0770],\n",
       "            [ 0.1850, -0.0172,  0.1015],\n",
       "            [ 0.1964,  0.1339,  0.1216]]],\n",
       "  \n",
       "  \n",
       "          [[[-0.3241,  0.1299,  0.2379],\n",
       "            [-0.0688,  0.1727, -0.2387],\n",
       "            [ 0.1111, -0.2862,  0.1055]]],\n",
       "  \n",
       "  \n",
       "          [[[-0.1239, -0.2604, -0.1391],\n",
       "            [ 0.0918,  0.0885, -0.0672],\n",
       "            [ 0.0755,  0.2741, -0.1859]]],\n",
       "  \n",
       "  \n",
       "          [[[ 0.1501,  0.0256,  0.0888],\n",
       "            [-0.3107, -0.1240, -0.2222],\n",
       "            [-0.1118,  0.2505, -0.0745]]],\n",
       "  \n",
       "  \n",
       "          [[[-0.2882, -0.2543, -0.0765],\n",
       "            [ 0.2225,  0.0209, -0.2673],\n",
       "            [-0.2367, -0.1424, -0.0136]]],\n",
       "  \n",
       "  \n",
       "          [[[-0.1982, -0.1838, -0.1918],\n",
       "            [-0.1589, -0.0216, -0.0630],\n",
       "            [-0.1640,  0.0478,  0.3128]]],\n",
       "  \n",
       "  \n",
       "          [[[ 0.1675,  0.2666,  0.0771],\n",
       "            [-0.3162, -0.1086,  0.0350],\n",
       "            [ 0.2525, -0.2711, -0.1900]]],\n",
       "  \n",
       "  \n",
       "          [[[ 0.1361,  0.3019,  0.3129],\n",
       "            [-0.2658, -0.2908,  0.0123],\n",
       "            [-0.0044, -0.2183,  0.2705]]],\n",
       "  \n",
       "  \n",
       "          [[[ 0.2777, -0.1846,  0.0249],\n",
       "            [-0.1814, -0.2733,  0.2305],\n",
       "            [-0.2759,  0.3196,  0.0004]]],\n",
       "  \n",
       "  \n",
       "          [[[-0.1129,  0.3260,  0.1391],\n",
       "            [-0.0398,  0.0213,  0.3132],\n",
       "            [-0.1957,  0.3105, -0.2827]]],\n",
       "  \n",
       "  \n",
       "          [[[ 0.2142,  0.1514,  0.0063],\n",
       "            [-0.2064, -0.0615,  0.2628],\n",
       "            [-0.0249, -0.2987, -0.0803]]],\n",
       "  \n",
       "  \n",
       "          [[[-0.2060,  0.1712,  0.1447],\n",
       "            [-0.2228,  0.1797, -0.2654],\n",
       "            [ 0.2042,  0.1912, -0.0615]]],\n",
       "  \n",
       "  \n",
       "          [[[-0.0541, -0.1732, -0.2371],\n",
       "            [ 0.1661, -0.1268,  0.2643],\n",
       "            [ 0.1034,  0.2059, -0.0816]]],\n",
       "  \n",
       "  \n",
       "          [[[ 0.3093, -0.3282, -0.0757],\n",
       "            [ 0.0545, -0.0757, -0.1662],\n",
       "            [ 0.0108, -0.2721, -0.2040]]],\n",
       "  \n",
       "  \n",
       "          [[[-0.0436, -0.1845,  0.2670],\n",
       "            [ 0.3135, -0.0551,  0.1225],\n",
       "            [ 0.2484,  0.1169, -0.2578]]],\n",
       "  \n",
       "  \n",
       "          [[[ 0.3054,  0.2782,  0.2359],\n",
       "            [ 0.1490,  0.0490, -0.0655],\n",
       "            [-0.1360,  0.3119, -0.2765]]],\n",
       "  \n",
       "  \n",
       "          [[[ 0.2767,  0.3165,  0.2736],\n",
       "            [ 0.1405,  0.0463,  0.0111],\n",
       "            [-0.0459, -0.0999, -0.1114]]],\n",
       "  \n",
       "  \n",
       "          [[[ 0.0963,  0.2313, -0.2961],\n",
       "            [-0.2360, -0.0246,  0.3250],\n",
       "            [ 0.1910,  0.3198,  0.2031]]],\n",
       "  \n",
       "  \n",
       "          [[[ 0.0958, -0.1012,  0.2054],\n",
       "            [ 0.1575,  0.0627, -0.0584],\n",
       "            [-0.2746,  0.1840,  0.0269]]],\n",
       "  \n",
       "  \n",
       "          [[[ 0.1756,  0.0242,  0.1412],\n",
       "            [-0.0666, -0.1511,  0.2568],\n",
       "            [ 0.1783, -0.2159,  0.0701]]],\n",
       "  \n",
       "  \n",
       "          [[[ 0.2188, -0.1068, -0.1518],\n",
       "            [-0.2858, -0.0797,  0.0640],\n",
       "            [ 0.3004, -0.1893, -0.0459]]]], requires_grad=True)),\n",
       " ('conv1.bias',\n",
       "  Parameter containing:\n",
       "  tensor([-0.3276,  0.2013, -0.0975,  0.0736,  0.2062,  0.1460, -0.2724, -0.0964,\n",
       "           0.3069, -0.2266,  0.0660,  0.1447, -0.1719,  0.0574,  0.0610,  0.3151,\n",
       "           0.1980, -0.0609, -0.2217,  0.1238,  0.0460,  0.1514, -0.2837, -0.0670,\n",
       "           0.2697, -0.2582,  0.2446, -0.0150, -0.2433,  0.0461, -0.0112, -0.0458],\n",
       "         requires_grad=True)),\n",
       " ('conv2.weight',\n",
       "  Parameter containing:\n",
       "  tensor([[[[ 0.0183,  0.0175,  0.0584],\n",
       "            [ 0.0304,  0.0271, -0.0061],\n",
       "            [ 0.0318,  0.0506,  0.0157]],\n",
       "  \n",
       "           [[ 0.0330, -0.0363, -0.0377],\n",
       "            [-0.0099,  0.0524, -0.0405],\n",
       "            [ 0.0175,  0.0582,  0.0586]],\n",
       "  \n",
       "           [[ 0.0209, -0.0463,  0.0533],\n",
       "            [ 0.0361, -0.0132, -0.0397],\n",
       "            [ 0.0213,  0.0262, -0.0130]],\n",
       "  \n",
       "           ...,\n",
       "  \n",
       "           [[ 0.0053,  0.0475,  0.0397],\n",
       "            [ 0.0517, -0.0359,  0.0351],\n",
       "            [-0.0507,  0.0049, -0.0257]],\n",
       "  \n",
       "           [[-0.0147, -0.0162,  0.0182],\n",
       "            [ 0.0135, -0.0304, -0.0244],\n",
       "            [-0.0073, -0.0226, -0.0238]],\n",
       "  \n",
       "           [[-0.0587,  0.0532,  0.0409],\n",
       "            [-0.0235, -0.0355, -0.0118],\n",
       "            [-0.0259, -0.0003, -0.0415]]],\n",
       "  \n",
       "  \n",
       "          [[[-0.0314,  0.0406,  0.0422],\n",
       "            [-0.0131,  0.0013,  0.0239],\n",
       "            [-0.0260, -0.0228,  0.0142]],\n",
       "  \n",
       "           [[-0.0530, -0.0547, -0.0450],\n",
       "            [-0.0236, -0.0378,  0.0389],\n",
       "            [ 0.0519, -0.0058,  0.0493]],\n",
       "  \n",
       "           [[ 0.0220, -0.0218,  0.0217],\n",
       "            [ 0.0491,  0.0549,  0.0577],\n",
       "            [-0.0073,  0.0356,  0.0125]],\n",
       "  \n",
       "           ...,\n",
       "  \n",
       "           [[-0.0464,  0.0064,  0.0226],\n",
       "            [-0.0460,  0.0524,  0.0294],\n",
       "            [-0.0037,  0.0499,  0.0396]],\n",
       "  \n",
       "           [[ 0.0399,  0.0288, -0.0445],\n",
       "            [ 0.0265, -0.0457, -0.0145],\n",
       "            [-0.0463,  0.0358, -0.0534]],\n",
       "  \n",
       "           [[ 0.0322,  0.0125, -0.0209],\n",
       "            [ 0.0106,  0.0350,  0.0227],\n",
       "            [ 0.0357,  0.0277, -0.0251]]],\n",
       "  \n",
       "  \n",
       "          [[[ 0.0190,  0.0228, -0.0131],\n",
       "            [-0.0130, -0.0116,  0.0179],\n",
       "            [-0.0406,  0.0282, -0.0269]],\n",
       "  \n",
       "           [[ 0.0199, -0.0504, -0.0285],\n",
       "            [-0.0180, -0.0218, -0.0444],\n",
       "            [ 0.0386, -0.0441, -0.0566]],\n",
       "  \n",
       "           [[ 0.0353,  0.0427,  0.0007],\n",
       "            [-0.0117, -0.0369,  0.0040],\n",
       "            [ 0.0576,  0.0378, -0.0445]],\n",
       "  \n",
       "           ...,\n",
       "  \n",
       "           [[ 0.0521, -0.0004,  0.0558],\n",
       "            [-0.0230,  0.0127,  0.0102],\n",
       "            [-0.0350,  0.0466,  0.0188]],\n",
       "  \n",
       "           [[ 0.0152, -0.0359, -0.0224],\n",
       "            [-0.0069,  0.0544, -0.0105],\n",
       "            [ 0.0151,  0.0488,  0.0194]],\n",
       "  \n",
       "           [[-0.0512,  0.0012,  0.0233],\n",
       "            [-0.0453,  0.0312, -0.0076],\n",
       "            [-0.0459, -0.0516,  0.0124]]],\n",
       "  \n",
       "  \n",
       "          ...,\n",
       "  \n",
       "  \n",
       "          [[[-0.0535,  0.0501, -0.0420],\n",
       "            [-0.0111, -0.0271, -0.0153],\n",
       "            [-0.0577,  0.0215,  0.0181]],\n",
       "  \n",
       "           [[-0.0397, -0.0129, -0.0226],\n",
       "            [-0.0060, -0.0511, -0.0227],\n",
       "            [ 0.0563,  0.0141, -0.0375]],\n",
       "  \n",
       "           [[-0.0352,  0.0410,  0.0357],\n",
       "            [-0.0148,  0.0215, -0.0137],\n",
       "            [ 0.0469,  0.0276,  0.0240]],\n",
       "  \n",
       "           ...,\n",
       "  \n",
       "           [[-0.0226, -0.0280,  0.0511],\n",
       "            [-0.0162, -0.0039,  0.0285],\n",
       "            [-0.0118, -0.0110,  0.0416]],\n",
       "  \n",
       "           [[-0.0318,  0.0471, -0.0219],\n",
       "            [ 0.0252, -0.0048,  0.0293],\n",
       "            [-0.0441,  0.0075,  0.0062]],\n",
       "  \n",
       "           [[-0.0565,  0.0302,  0.0099],\n",
       "            [ 0.0277,  0.0229,  0.0094],\n",
       "            [ 0.0345,  0.0334,  0.0433]]],\n",
       "  \n",
       "  \n",
       "          [[[-0.0556, -0.0526, -0.0400],\n",
       "            [-0.0061,  0.0234, -0.0338],\n",
       "            [-0.0484,  0.0144, -0.0097]],\n",
       "  \n",
       "           [[ 0.0158,  0.0354,  0.0555],\n",
       "            [-0.0294, -0.0407, -0.0066],\n",
       "            [-0.0180, -0.0536,  0.0530]],\n",
       "  \n",
       "           [[-0.0033,  0.0272, -0.0279],\n",
       "            [-0.0336, -0.0440, -0.0013],\n",
       "            [ 0.0460, -0.0217, -0.0342]],\n",
       "  \n",
       "           ...,\n",
       "  \n",
       "           [[-0.0585,  0.0005,  0.0143],\n",
       "            [ 0.0226, -0.0358, -0.0439],\n",
       "            [-0.0541,  0.0478, -0.0311]],\n",
       "  \n",
       "           [[-0.0013,  0.0525,  0.0023],\n",
       "            [ 0.0086,  0.0266, -0.0223],\n",
       "            [-0.0188, -0.0419, -0.0016]],\n",
       "  \n",
       "           [[ 0.0218,  0.0529,  0.0427],\n",
       "            [-0.0017,  0.0555, -0.0502],\n",
       "            [-0.0127,  0.0285, -0.0031]]],\n",
       "  \n",
       "  \n",
       "          [[[ 0.0136, -0.0227, -0.0337],\n",
       "            [ 0.0578,  0.0217, -0.0403],\n",
       "            [-0.0437, -0.0391, -0.0095]],\n",
       "  \n",
       "           [[-0.0190, -0.0169, -0.0360],\n",
       "            [-0.0028, -0.0328, -0.0135],\n",
       "            [ 0.0157, -0.0112, -0.0223]],\n",
       "  \n",
       "           [[-0.0465, -0.0588,  0.0582],\n",
       "            [-0.0328, -0.0367,  0.0498],\n",
       "            [-0.0184,  0.0419,  0.0389]],\n",
       "  \n",
       "           ...,\n",
       "  \n",
       "           [[ 0.0274, -0.0311,  0.0099],\n",
       "            [-0.0551, -0.0344, -0.0015],\n",
       "            [-0.0164,  0.0481, -0.0330]],\n",
       "  \n",
       "           [[ 0.0287,  0.0163,  0.0405],\n",
       "            [-0.0351,  0.0562, -0.0344],\n",
       "            [-0.0318, -0.0191, -0.0240]],\n",
       "  \n",
       "           [[-0.0359,  0.0548, -0.0263],\n",
       "            [-0.0461, -0.0367,  0.0510],\n",
       "            [-0.0141, -0.0499, -0.0405]]]], requires_grad=True)),\n",
       " ('conv2.bias',\n",
       "  Parameter containing:\n",
       "  tensor([ 0.0140, -0.0493,  0.0395, -0.0095,  0.0252, -0.0378, -0.0068,  0.0469,\n",
       "           0.0574, -0.0525,  0.0369,  0.0072,  0.0552,  0.0096,  0.0034, -0.0326,\n",
       "          -0.0571, -0.0581, -0.0207,  0.0422, -0.0312, -0.0334, -0.0080, -0.0213,\n",
       "           0.0260, -0.0436, -0.0287,  0.0260,  0.0115, -0.0049, -0.0398,  0.0068,\n",
       "          -0.0426, -0.0105,  0.0245, -0.0048,  0.0454, -0.0069, -0.0100,  0.0150,\n",
       "           0.0067,  0.0579, -0.0016, -0.0079,  0.0452, -0.0171,  0.0312, -0.0152,\n",
       "           0.0479,  0.0347, -0.0277,  0.0175, -0.0286, -0.0025,  0.0414,  0.0273,\n",
       "           0.0338, -0.0343, -0.0171, -0.0317,  0.0354,  0.0082, -0.0451, -0.0205],\n",
       "         requires_grad=True)),\n",
       " ('fc1.weight',\n",
       "  Parameter containing:\n",
       "  tensor([[-0.0050, -0.0071, -0.0020,  ...,  0.0054, -0.0071, -0.0093],\n",
       "          [-0.0050,  0.0081,  0.0006,  ...,  0.0031, -0.0080, -0.0100],\n",
       "          [ 0.0030, -0.0096, -0.0041,  ..., -0.0062,  0.0034, -0.0018],\n",
       "          ...,\n",
       "          [ 0.0038, -0.0102, -0.0058,  ...,  0.0045,  0.0045,  0.0098],\n",
       "          [ 0.0068,  0.0097,  0.0067,  ..., -0.0010, -0.0071,  0.0026],\n",
       "          [-0.0089, -0.0092,  0.0085,  ...,  0.0040, -0.0079, -0.0025]],\n",
       "         requires_grad=True)),\n",
       " ('fc1.bias',\n",
       "  Parameter containing:\n",
       "  tensor([-0.0064,  0.0026,  0.0011, -0.0019, -0.0005, -0.0034,  0.0085,  0.0025,\n",
       "          -0.0100,  0.0086,  0.0045, -0.0013, -0.0092, -0.0037,  0.0101, -0.0053,\n",
       "           0.0005,  0.0022,  0.0098, -0.0049,  0.0029, -0.0004, -0.0021,  0.0020,\n",
       "          -0.0088, -0.0094,  0.0052,  0.0051,  0.0013,  0.0058,  0.0104, -0.0062,\n",
       "          -0.0042, -0.0064, -0.0087, -0.0078, -0.0039,  0.0031,  0.0100, -0.0104,\n",
       "           0.0006,  0.0002, -0.0058,  0.0068,  0.0059,  0.0025,  0.0051,  0.0067,\n",
       "          -0.0080, -0.0037,  0.0009, -0.0025,  0.0104,  0.0021,  0.0092,  0.0079,\n",
       "          -0.0085,  0.0026, -0.0097, -0.0039, -0.0029, -0.0019, -0.0043, -0.0089,\n",
       "          -0.0098,  0.0004,  0.0041, -0.0067, -0.0040,  0.0091, -0.0004,  0.0099,\n",
       "          -0.0055, -0.0081,  0.0032,  0.0044, -0.0012, -0.0031,  0.0051,  0.0023,\n",
       "           0.0092, -0.0060,  0.0041,  0.0080,  0.0076, -0.0046, -0.0011,  0.0080,\n",
       "           0.0042, -0.0084,  0.0008,  0.0035,  0.0039,  0.0091, -0.0005, -0.0102,\n",
       "           0.0007, -0.0026,  0.0066, -0.0086, -0.0038,  0.0043, -0.0003, -0.0102,\n",
       "          -0.0095,  0.0019,  0.0042,  0.0084,  0.0069, -0.0019, -0.0074, -0.0072,\n",
       "          -0.0062,  0.0087, -0.0096, -0.0028,  0.0011,  0.0002,  0.0085,  0.0019,\n",
       "          -0.0009,  0.0090,  0.0001, -0.0066, -0.0099, -0.0067, -0.0006, -0.0095],\n",
       "         requires_grad=True)),\n",
       " ('fc2.weight',\n",
       "  Parameter containing:\n",
       "  tensor([[-0.0873, -0.0788,  0.0280,  ...,  0.0394,  0.0595,  0.0547],\n",
       "          [-0.0546, -0.0683, -0.0378,  ..., -0.0205, -0.0353,  0.0554],\n",
       "          [-0.0553, -0.0281, -0.0564,  ..., -0.0746, -0.0487, -0.0278],\n",
       "          ...,\n",
       "          [ 0.0674, -0.0747, -0.0776,  ..., -0.0467,  0.0567, -0.0489],\n",
       "          [-0.0169, -0.0390,  0.0689,  ...,  0.0365, -0.0487, -0.0239],\n",
       "          [ 0.0208,  0.0568,  0.0263,  ..., -0.0748,  0.0297, -0.0227]],\n",
       "         requires_grad=True)),\n",
       " ('fc2.bias',\n",
       "  Parameter containing:\n",
       "  tensor([ 0.0426, -0.0499, -0.0457,  0.0160,  0.0215, -0.0107,  0.0871, -0.0334,\n",
       "           0.0403,  0.0810], requires_grad=True))]"
      ]
     },
     "execution_count": 49,
     "metadata": {},
     "output_type": "execute_result"
    }
   ],
   "source": [
    "net = Net()\n",
    "[*net.named_parameters()] # named_parameters is a generator object"
   ]
  },
  {
   "cell_type": "markdown",
   "metadata": {
    "Collapsed": "false"
   },
   "source": [
    "## Other tips "
   ]
  },
  {
   "cell_type": "markdown",
   "metadata": {
    "Collapsed": "false"
   },
   "source": [
    "[Reproducibility](https://pytorch.org/docs/stable/notes/randomness.html?highlight=reproducibility): we can give a seed value to the random number generator at the beginning of our code, so that we can reproduce the randomly initiliazed values of our model (e.g. the weights of a neural network)."
   ]
  },
  {
   "cell_type": "code",
   "execution_count": 50,
   "metadata": {
    "Collapsed": "false",
    "scrolled": true
   },
   "outputs": [
    {
     "data": {
      "text/plain": [
       "<torch._C.Generator at 0x1248feb50>"
      ]
     },
     "execution_count": 50,
     "metadata": {},
     "output_type": "execute_result"
    }
   ],
   "source": [
    "torch.manual_seed(22) # choose any integer"
   ]
  },
  {
   "cell_type": "markdown",
   "metadata": {
    "Collapsed": "false"
   },
   "source": [
    "[Weight initialization](https://pytorch.org/docs/stable/nn.init.html?highlight=initialization): each layer implemented in PyTorch has a default weight initialization method. Still, we can choose one of the many initialization methods implemented on ``torch.nn.init``. After we create a layer, we can use them to initialize the weights:"
   ]
  },
  {
   "cell_type": "code",
   "execution_count": 51,
   "metadata": {
    "Collapsed": "false"
   },
   "outputs": [
    {
     "data": {
      "text/plain": [
       "Parameter containing:\n",
       "tensor([0.6550, 0.5360, 0.5379, 0.3995, 0.5657], requires_grad=True)"
      ]
     },
     "execution_count": 51,
     "metadata": {},
     "output_type": "execute_result"
    }
   ],
   "source": [
    "fc1 = nn.Linear(10, 5)\n",
    "torch.nn.init.uniform_(fc1.weight, a=0.0, b=1.0) # uniform random initializtion with numbers between 0 and 1\n",
    "torch.nn.init.uniform_(fc1.bias, a=0.0, b=1.0)"
   ]
  },
  {
   "cell_type": "markdown",
   "metadata": {
    "Collapsed": "false"
   },
   "source": [
    "Most layers include a bias term as default. We can change that by setting the argument ``bias`` to False when we instantiate a layer."
   ]
  },
  {
   "cell_type": "code",
   "execution_count": 52,
   "metadata": {
    "Collapsed": "false"
   },
   "outputs": [
    {
     "name": "stdout",
     "output_type": "stream",
     "text": [
      "('weight_ih_l0', Parameter containing:\n",
      "tensor([[-0.0105,  0.6447,  0.7000, -0.6737,  0.5332],\n",
      "        [ 0.5382,  0.5996, -0.1174, -0.3737,  0.3098],\n",
      "        [-0.2072,  0.5853, -0.5919,  0.1770, -0.1372],\n",
      "        [ 0.3013, -0.5669, -0.2654,  0.1224,  0.3774],\n",
      "        [-0.5567,  0.5766,  0.1534, -0.4828, -0.0714],\n",
      "        [-0.5483,  0.3734,  0.2936, -0.1256,  0.4017],\n",
      "        [ 0.0801, -0.1223, -0.6987, -0.2561, -0.5731],\n",
      "        [ 0.5322,  0.5665, -0.3863, -0.2940, -0.2376]], requires_grad=True)) ('weight_hh_l0', Parameter containing:\n",
      "tensor([[-0.6883, -0.1375],\n",
      "        [-0.0822, -0.5835],\n",
      "        [ 0.6837, -0.5780],\n",
      "        [-0.1257,  0.2416],\n",
      "        [ 0.5828, -0.5169],\n",
      "        [-0.1703, -0.1890],\n",
      "        [-0.2718,  0.1064],\n",
      "        [-0.5787, -0.2178]], requires_grad=True)) ('bias_ih_l0', Parameter containing:\n",
      "tensor([ 0.5380,  0.4018,  0.6273, -0.1422, -0.0426,  0.2606,  0.2750, -0.0779],\n",
      "       requires_grad=True)) ('bias_hh_l0', Parameter containing:\n",
      "tensor([ 0.1559,  0.0214, -0.0154, -0.3440,  0.4188, -0.6215, -0.3229,  0.0461],\n",
      "       requires_grad=True)) \n",
      "\n",
      "('weight_ih_l0', Parameter containing:\n",
      "tensor([[ 0.4618,  0.4109,  0.2484, -0.4759,  0.3639],\n",
      "        [ 0.4243,  0.4887,  0.5540, -0.4139,  0.5462],\n",
      "        [ 0.4052,  0.5749,  0.3734,  0.5403,  0.4751],\n",
      "        [ 0.5642, -0.2569,  0.5644, -0.4092, -0.6126],\n",
      "        [ 0.5798,  0.3133,  0.3942, -0.4583,  0.4546],\n",
      "        [-0.6630, -0.3104, -0.1055, -0.2924,  0.4040],\n",
      "        [ 0.6425,  0.3386, -0.2043, -0.0364, -0.2829],\n",
      "        [-0.2236, -0.2447,  0.5670, -0.1981,  0.1754]], requires_grad=True)) ('weight_hh_l0', Parameter containing:\n",
      "tensor([[ 0.0278, -0.2352],\n",
      "        [-0.3616, -0.4865],\n",
      "        [ 0.2983,  0.3720],\n",
      "        [-0.5357,  0.2457],\n",
      "        [-0.5350, -0.3464],\n",
      "        [-0.1932,  0.1943],\n",
      "        [ 0.6191,  0.5068],\n",
      "        [-0.2027,  0.2891]], requires_grad=True))\n"
     ]
    }
   ],
   "source": [
    "lstm1 = nn.LSTM(5, 2)\n",
    "lstm2 = nn.LSTM(5, 2, bias=False)\n",
    "\n",
    "print(*lstm1.named_parameters(), '\\n')\n",
    "print(*lstm2.named_parameters())"
   ]
  },
  {
   "cell_type": "markdown",
   "metadata": {
    "Collapsed": "false"
   },
   "source": [
    "When we are not training our model, we can envelope a code snippet under ``with torch.no_grad():``. Whithin this command, PyTorch will not track the gradient, which can be more efficient (less memory consumption) when we know we will not need to compute it (e.g. during test)."
   ]
  },
  {
   "cell_type": "markdown",
   "metadata": {
    "Collapsed": "false"
   },
   "source": [
    "During evaluation, we can call ``model.eval()`` to enable the evaluation mode, which results in a different behavior that some layers should have when we are not training a model. For example, droupout normally happens only during training, but not during testing. This command thus avoids having to check all layers manually or building a separate model. During training, we must call ``model.train()`` to set it back to training mode."
   ]
  },
  {
   "cell_type": "markdown",
   "metadata": {
    "Collapsed": "false"
   },
   "source": [
    "If we want to use gradient clipping, we can call ``torch.nn.utils.clip_grad_norm_(parameters, max_norm)`` after backpropagation but before updating the parameters."
   ]
  },
  {
   "cell_type": "markdown",
   "metadata": {
    "Collapsed": "false"
   },
   "source": [
    "Methods and functions that end with an _ perform in-place modifications. Both options are normally available for the usual operations on tensors."
   ]
  },
  {
   "cell_type": "code",
   "execution_count": 53,
   "metadata": {
    "Collapsed": "false"
   },
   "outputs": [
    {
     "name": "stdout",
     "output_type": "stream",
     "text": [
      "tensor([4, 5])\n",
      "tensor([2, 3])\n",
      "tensor([5, 6])\n"
     ]
    }
   ],
   "source": [
    "a = torch.tensor([1,2])\n",
    "b = torch.tensor([2,3])\n",
    "\n",
    "a.add_(3) # in-place modification, a changes\n",
    "b.add(3) # b does not change, could be printed or stored in another variable\n",
    "c = b.add(3)\n",
    "\n",
    "print(a)\n",
    "print(b)\n",
    "print(c)"
   ]
  },
  {
   "cell_type": "markdown",
   "metadata": {
    "Collapsed": "false"
   },
   "source": [
    "``torch.save()`` can be used to save a model to the disk."
   ]
  },
  {
   "cell_type": "markdown",
   "metadata": {
    "Collapsed": "false"
   },
   "source": [
    "For further important commands, also check PyTorch's [cheat sheet](https://pytorch.org/tutorials/beginner/ptcheat.html)."
   ]
  }
 ],
 "metadata": {
  "kernelspec": {
   "display_name": "Python 3",
   "language": "python",
   "name": "python3"
  },
  "language_info": {
   "codemirror_mode": {
    "name": "ipython",
    "version": 3
   },
   "file_extension": ".py",
   "mimetype": "text/x-python",
   "name": "python",
   "nbconvert_exporter": "python",
   "pygments_lexer": "ipython3",
   "version": "3.7.6"
  }
 },
 "nbformat": 4,
 "nbformat_minor": 4
}
