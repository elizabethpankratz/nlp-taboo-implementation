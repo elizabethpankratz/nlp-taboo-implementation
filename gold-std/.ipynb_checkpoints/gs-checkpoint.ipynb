{
 "cells": [
  {
   "cell_type": "code",
   "execution_count": 33,
   "metadata": {
    "scrolled": true
   },
   "outputs": [],
   "source": [
    "FILENAME = \"taboo_cards_mod.txt\"\n",
    "\n",
    "def read_in(filename):\n",
    "    \"\"\"\n",
    "    Reads in transcribed Taboo card words contained in the given file and returns them in an enumerated list.\n",
    "    \"\"\"\n",
    "    file_lines = []\n",
    "    \n",
    "    with open(filename, \"r\") as myfile:\n",
    "        \n",
    "        # Go through every line, saving non-empty ones to the list file_lines.\n",
    "        for line in myfile:\n",
    "            if line.strip() != '':             \n",
    "                file_lines.append(line.strip()) \n",
    "                \n",
    "    return list(enumerate(file_lines))\n",
    "    \n",
    "            \n",
    "def format_cards(enum_list):\n",
    "    \"\"\"\n",
    "    Given an enumerated list (output of read_in()), formats the contents as a dictionary (key = MW, values = list of TWs)\n",
    "    \"\"\"\n",
    "    \n",
    "    # Initialise dictionary to contain card data.\n",
    "    card_dict = dict()\n",
    "    \n",
    "    # Assign MWs (every sixth word in the enumerated list) as dictionary keys, and create a list for the dict's\n",
    "    # value consisting of the five following words (the TWs); the word[1:] removes the dash from the beginning of\n",
    "    # each TW's string.\n",
    "\n",
    "    for enum, wd in enum_list:\n",
    "        if enum % 6 == 0:\n",
    "            card_dict[wd] = [word[1:] for num, word in enum_list[enum+1:enum+6]]\n",
    "        \n",
    "    return card_dict\n",
    "        \n",
    "\n",
    "enum_lines = read_in(FILENAME)\n",
    "cards = format_cards(enum_lines)"
   ]
  }
 ],
 "metadata": {
  "kernelspec": {
   "display_name": "Python 3",
   "language": "python",
   "name": "python3"
  },
  "language_info": {
   "codemirror_mode": {
    "name": "ipython",
    "version": 3
   },
   "file_extension": ".py",
   "mimetype": "text/x-python",
   "name": "python",
   "nbconvert_exporter": "python",
   "pygments_lexer": "ipython3",
   "version": "3.7.4"
  }
 },
 "nbformat": 4,
 "nbformat_minor": 2
}
