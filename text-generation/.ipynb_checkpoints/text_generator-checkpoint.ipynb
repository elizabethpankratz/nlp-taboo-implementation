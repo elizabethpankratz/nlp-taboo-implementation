{
 "cells": [
  {
   "cell_type": "markdown",
   "metadata": {
    "Collapsed": "false"
   },
   "source": [
    "# Updates after discussion\n",
    "* cleaning the 5% least frequent symbols from the vocab was a disaster since several steps can't handle unknown words. It's not impossible to fix this, but for the time being it's easier to work with the full corpus (~115k sentences instead of ~20k) and assume that this will make the weird symbols/words waaay less likely to appear. It's not an unfounded assumption (denke ich).\n",
    "\n",
    "* top 3 seeds by freq of appearance in the corpus \"is\" >> \"means\" >> \"can be found\"\n",
    "\n",
    "\n",
    "* Three steps for cleaning probably provide better word2word meanings but since for us the main goal is to generate a coherent sentence from the input and meaning WE are feeding, then we can't leave out punctuation symbols and stop words. Maybe it is still good to lemmatize? We'll see\n",
    "* Network currently trained with  5000 trigrams, 50 epochs, hidden_s = 100, lr = 0.015. Took 17min to train. Losses went from 7.9 to 2.5\n",
    "* clean corpus 5%"
   ]
  },
  {
   "cell_type": "markdown",
   "metadata": {
    "Collapsed": "false"
   },
   "source": [
    "# Generating our descriptive sentences"
   ]
  },
  {
   "cell_type": "markdown",
   "metadata": {
    "Collapsed": "true"
   },
   "source": [
    "## Importing everything we will need"
   ]
  },
  {
   "cell_type": "code",
   "execution_count": 60,
   "metadata": {
    "Collapsed": "false"
   },
   "outputs": [],
   "source": [
    "import numpy as np\n",
    "import matplotlib.pyplot as plt\n",
    "import nltk\n",
    "import pandas as pd\n",
    "import random\n",
    "import string\n",
    "import torch\n",
    "import torch.nn as nn\n",
    "#is this the best choice of autograd?\n",
    "from torch.autograd import Variable \n",
    "import math\n",
    "import time"
   ]
  },
  {
   "cell_type": "code",
   "execution_count": 86,
   "metadata": {
    "Collapsed": "false"
   },
   "outputs": [],
   "source": [
    "from nltk.corpus import wordnet as wn\n",
    "from nltk.stem import WordNetLemmatizer\n",
    "from nltk.metrics import edit_distance\n",
    "\n",
    "def word_to_synsets(word):\n",
    "    \"\"\"\n",
    "    Converts the given word to a synset object.\n",
    "\n",
    "    Arg:\n",
    "        word: a string like 'cat'\n",
    "        pos: the desired part of speech (choices: wn.NOUN, wn.VERB, wn.ADJ, wn.ADV)\n",
    "    Returns:\n",
    "        A string containing the first synset ID, formatted according to WordNet's conventions, e.g. 'cat.n.01',\n",
    "        corresponding to that word.\n",
    "    \"\"\"\n",
    "    # Convert word string to the synset with the corresponding part of speech.\n",
    "    return wn.synsets(word)\n",
    "\n",
    "\n",
    "def synset_to_word(synset):\n",
    "    \"\"\"\n",
    "    Converts the given synset to the actual word it represents.\n",
    "\n",
    "    Arg:\n",
    "        synset: a WordNet Synset object\n",
    "    Returns:\n",
    "        A string containing the word corresponding to that synset.\n",
    "    \"\"\"\n",
    "    # Convert synset to lemma, since this is what name() is defined over.\n",
    "    return synset.lemmas()[0].name()\n",
    "\n",
    "\n",
    "def get_antonyms(synset):\n",
    "    \"\"\"\n",
    "    Returns all antonyms for the given synset.\n",
    "\n",
    "    Arg:\n",
    "        synset: a WordNet Synset object\n",
    "    Returns:\n",
    "        A list of antonymic words as strings, if there are any, or else the empty list.\n",
    "    \"\"\"\n",
    "    # Convert synset to lemma, since this is what the antonym relation is defined over, and get antonym(s).\n",
    "    ant_lemmas = synset.lemmas()[0].antonyms()\n",
    "\n",
    "    # Convert each antonym in this list to a string and return list (empty if no antonyms).\n",
    "    return [ant_lemma.name() for ant_lemma in ant_lemmas]\n",
    "\n",
    "\n",
    "def get_hypernyms(synset):\n",
    "    \"\"\"\n",
    "    Returns all immediate hypernyms for the given synset.\n",
    "\n",
    "    Arg:\n",
    "        synset: a WordNet Synset object\n",
    "    Returns:\n",
    "        A list of hypernymic words as strings.\n",
    "    \"\"\"\n",
    "    # Convert hypernyms of the synset to strings and return list.\n",
    "    return [synset_to_word(hyper) for hyper in synset.hypernyms()]\n",
    "\n",
    "\n",
    "def get_hyponyms(synset):\n",
    "    \"\"\"\n",
    "    Returns all immediate hyponyms for the given synset. (There are often many.)\n",
    "\n",
    "    Arg:\n",
    "        synset: a WordNet Synset object\n",
    "    Returns:\n",
    "        A list of hyponymic words as strings.\n",
    "    \"\"\"\n",
    "    # Convert hypernyms of the synset to strings and return list.\n",
    "    return [synset_to_word(hypo) for hypo in synset.hyponyms()]\n",
    "\n",
    "\n",
    "def get_synonyms(word):\n",
    "    \"\"\"\n",
    "    Returns a set of synonyms, according to WordNet, for the given input word (using all of its senses, if\n",
    "    there are multiple).\n",
    "\n",
    "    Arg:\n",
    "        word: a string representing the word whose synonyms we want.\n",
    "    Returns:\n",
    "        A set containing all of the other words in the same WordNet synset as the given word.\n",
    "    \"\"\"\n",
    "    # Initialise set that will collect the synonyms.\n",
    "    synonym_set = set()\n",
    "\n",
    "    # Convert the word to a list of synsets.\n",
    "    synset_list = word_to_synsets(word)\n",
    "\n",
    "    # Get all the lemmas corresponding to the given word's synset.\n",
    "    synonym_lems = [x.lemmas() for x in synset_list]\n",
    "\n",
    "    # Go through them, get the names from the lemma (lowercasing everything for consistency), and add\n",
    "    # to synonym_set.\n",
    "    for lemma_list in synonym_lems:\n",
    "        syn = lemma_list[0].name().lower()\n",
    "        synonym_set.update( [syn] )\n",
    "\n",
    "    # Remove from the synonym set the input word and any words that also contain the input word and return.\n",
    "    to_rm = set()\n",
    "    for synonym in synonym_set:\n",
    "        if synonym == word or word in synonym:\n",
    "            to_rm.update({synonym})\n",
    "\n",
    "    return synonym_set.difference(to_rm)\n",
    "\n",
    "\n",
    "def make_semrel_dict(word):\n",
    "    \"\"\"\n",
    "    Creates a dictionary that contains all words standing in the given semantic relation to the main word.\n",
    "\n",
    "    Arg:\n",
    "        word: a string like 'cat' (the main word)\n",
    "    Returns:\n",
    "        A dictionary with the semantic relations as keys and a set of words that have that relation to all senses\n",
    "        of the input word, according to WordNet, as values.\n",
    "    \"\"\"\n",
    "\n",
    "    # Initialise dictionary (and we can get synonyms right away).\n",
    "    semrel_dict = {\n",
    "        'semrel_synonym': get_synonyms(word),\n",
    "        'semrel_antonym': set(),\n",
    "        'semrel_hypernym': set(),\n",
    "        'semrel_hyponym': set()\n",
    "    }\n",
    "\n",
    "    # Convert the input word to all of its synsets.\n",
    "    ss = word_to_synsets(word)\n",
    "\n",
    "    # Go through each synset, determining its antonyms, hypernyms, and hyponyms, and adding each to the set in the\n",
    "    # appropriate entry of the dictionary, as long as the main word does not appear as part of any of those strings.\n",
    "    for s in ss:\n",
    "        semrel_dict['semrel_antonym'].update( [w for w in get_antonyms(s) if word not in w] )\n",
    "        semrel_dict['semrel_hypernym'].update( [w for w in get_hypernyms(s) if word not in w] )\n",
    "        semrel_dict['semrel_hyponym'].update( [w for w in get_hyponyms(s) if word not in w] )\n",
    "\n",
    "    return semrel_dict\n",
    "\n",
    "\n",
    "def get_collocations(word, forbidden_wds, gensim_model, num_collocates, num_to_check = 10):\n",
    "    \"\"\"\n",
    "    Returns minimum num_collocates most similar words to the given word based on gensim word embeddings.\n",
    "\n",
    "    Arg:\n",
    "        word: A string representing the main word.\n",
    "        forbidden_wds: A set containing words as strings that may not be included as output.\n",
    "        gensim_model: The pre-trained word embeddings.\n",
    "        num_collocates: An integer, the number of collocates to generate.\n",
    "        num_to_check: (default 10) the number of most similar words to begin with.\n",
    "    Returns:\n",
    "        A list of collocated words as strings.\n",
    "    \"\"\"\n",
    "\n",
    "    lemmatizer = WordNetLemmatizer()\n",
    "\n",
    "    # Use gensim's most_similar() function to get the (initially ten) words whose embeddings are most similar to the\n",
    "    # input word's. Lemmatise the words to remove plural/other inflections.\n",
    "\n",
    "    try:  # If the MW is in the word2vec vocabulary\n",
    "        similar_tups = gensim_model.most_similar(word, topn=num_to_check)\n",
    "        similar_wds = [lemmatizer.lemmatize( tup[0] ) for tup in similar_tups]\n",
    "\n",
    "        # Now save only a subset of those similar words, namely the ones that:\n",
    "        # - do not contain the main word\n",
    "        # - are not in the passed-in set of forbidden words\n",
    "        # - have a Levenshtein distance of up to 3 from the MW (i.e. are similar, probably typos)\n",
    "        # - words with underscores in them, indicating multi-word units (often pretty weird)\n",
    "        filtered = [wd for wd in similar_wds if (word not in wd.lower() and wd not in forbidden_wds and edit_distance(word, wd) > 4 and '_' not in wd)]\n",
    "        filtered = set(filtered)\n",
    "\n",
    "        # Recursive bit: Check if there are at least num_collocates different words in filtered (base case).\n",
    "        # If not, increase the number of words to check in each recursive iteration by three and run the function again.\n",
    "        # Will stop once there are minimum num_collocates words in filtered.\n",
    "\n",
    "        if len(filtered) >= num_collocates:\n",
    "            return filtered\n",
    "        else:\n",
    "            num_to_check += 3\n",
    "            return get_collocations(word, forbidden_wds, gensim_model, num_collocates, num_to_check)\n",
    "\n",
    "    except KeyError:  # arises when input word not in vocab\n",
    "        pass\n"
   ]
  },
  {
   "cell_type": "markdown",
   "metadata": {
    "Collapsed": "true"
   },
   "source": [
    "## Getting out text input"
   ]
  },
  {
   "cell_type": "code",
   "execution_count": 61,
   "metadata": {
    "Collapsed": "false"
   },
   "outputs": [],
   "source": [
    "#opening and reading the corpus\n",
    "#we will be using the full version of the descriptive corpus we made ~115k sentences\n",
    "f = open('description-corpus-115k.txt', 'r')\n",
    "#text = f.read()\n",
    "text = f.readlines() #if we want a list with sentences as elements\n",
    "f.close()"
   ]
  },
  {
   "cell_type": "code",
   "execution_count": 64,
   "metadata": {
    "Collapsed": "false"
   },
   "outputs": [],
   "source": [
    "# getting lower case and splitting it\n",
    "sentences = [text[i].lower().split() for i in range(len(text))]"
   ]
  },
  {
   "cell_type": "code",
   "execution_count": 65,
   "metadata": {
    "Collapsed": "false"
   },
   "outputs": [],
   "source": [
    "#getting the avg length of a descriptive sentence\n",
    "lengths = [len(sent) for sent in sentences]\n",
    "avg_sent_length = sum(lengths)/len(lengths) # ~27"
   ]
  },
  {
   "cell_type": "markdown",
   "metadata": {
    "Collapsed": "true"
   },
   "source": [
    "## Cleaning (NOT USED)\n",
    "* Removing stop words, punctuation symbols and lemmatizing"
   ]
  },
  {
   "cell_type": "code",
   "execution_count": 86,
   "metadata": {
    "Collapsed": "false"
   },
   "outputs": [],
   "source": [
    "# found that in some tutorials they do 3 extra cleaning steps before applying N-grams\n",
    "\n",
    "# getting rid of stop words\n",
    "#stop_words = set(nltk.corpus.stopwords.words('english'))\n",
    "#stop_free = ' '.join([word for word in text.split() if word not in stop_words])\n",
    "# justification --> it's like getting rid of the long tail in the word frequency plot. Oder?\n",
    "\n",
    "# getting rid of punctuation\n",
    "#punctuation_symbols = set(string.punctuation)\n",
    "#punct_free = \"\".join(word for word in stop_free if word not in punctuation_symbols)\n",
    "# makes sense.. I think\n",
    "\n",
    "# lemmatizing?\n",
    "#lemma = nltk.stem.wordnet.WordNetLemmatizer()\n",
    "#normalized = ' '.join(lemma.lemmatize(word) for word in punct_free.split())\n",
    "#if it is what I think it is, then it makes sense too\n",
    "\n",
    "#last step, lower case and splitting\n",
    "#cleaned_text = normalized.lower().split()"
   ]
  },
  {
   "cell_type": "code",
   "execution_count": null,
   "metadata": {
    "Collapsed": "false"
   },
   "outputs": [],
   "source": [
    "text[:250]"
   ]
  },
  {
   "cell_type": "code",
   "execution_count": null,
   "metadata": {
    "Collapsed": "false"
   },
   "outputs": [],
   "source": [
    "stop_free[:250]"
   ]
  },
  {
   "cell_type": "code",
   "execution_count": null,
   "metadata": {
    "Collapsed": "false"
   },
   "outputs": [],
   "source": [
    "punct_free[:250]"
   ]
  },
  {
   "cell_type": "code",
   "execution_count": null,
   "metadata": {
    "Collapsed": "false"
   },
   "outputs": [],
   "source": [
    "normalized[:250]"
   ]
  },
  {
   "cell_type": "markdown",
   "metadata": {
    "Collapsed": "true"
   },
   "source": [
    "## Only normalizing (NOT USED)\n",
    "* is it worth it having different tokens for cookie and cookies (in terms of having a correct sentence)?"
   ]
  },
  {
   "cell_type": "markdown",
   "metadata": {
    "Collapsed": "true"
   },
   "source": [
    "## Implementing trigrams and setting up"
   ]
  },
  {
   "cell_type": "code",
   "execution_count": 46,
   "metadata": {
    "Collapsed": "false"
   },
   "outputs": [],
   "source": [
    "#creating trigram sets EASY WAY\n",
    "#trigrams = [([cleaned_text[i], cleaned_text[i+1]], cleaned_text[i+2])for i in range(len(cleaned_text) - 2)]"
   ]
  },
  {
   "cell_type": "code",
   "execution_count": 67,
   "metadata": {
    "Collapsed": "false"
   },
   "outputs": [],
   "source": [
    "# better way: sentence by sentence, not the whole text in one go\n",
    "# this structure allows us to create context/target sets for each word. \n",
    "trigrams = []\n",
    "for sentence in sentences:\n",
    "    trigrams += [([sentence[i], sentence[i+1]], sentence[i+2]) for i in range(len(sentence) - 2)]"
   ]
  },
  {
   "cell_type": "code",
   "execution_count": 68,
   "metadata": {
    "Collapsed": "false"
   },
   "outputs": [
    {
     "data": {
      "text/plain": [
       "(['it', 'does'], 'not')"
      ]
     },
     "execution_count": 68,
     "metadata": {},
     "output_type": "execute_result"
    }
   ],
   "source": [
    "trigrams[0]\n",
    "#context for target word 'text' --> 'a' and 'cookie'"
   ]
  },
  {
   "cell_type": "code",
   "execution_count": 69,
   "metadata": {
    "Collapsed": "false"
   },
   "outputs": [],
   "source": [
    "#to prototype we will only take 5000 trigrams out of the ~500000\n",
    "trigrams = trigrams[:1000]"
   ]
  },
  {
   "cell_type": "code",
   "execution_count": 70,
   "metadata": {
    "Collapsed": "false"
   },
   "outputs": [],
   "source": [
    "# getting set of words in vocab, it's length and the frequency of each word\n",
    "voc = set()\n",
    "for sentence in sentences:\n",
    "    voc = voc.union(set(sentence))\n",
    "voc_length = len(voc) #34174\n",
    "word_to_freq = {word: i for i, word in enumerate(voc)}"
   ]
  },
  {
   "cell_type": "code",
   "execution_count": 56,
   "metadata": {
    "Collapsed": "false"
   },
   "outputs": [],
   "source": [
    "#Because we detected some errors on how our corpus is tokenized (\"binoculars\" is imported as bi - no -cu-lars) we will remove the 5% less frequent found words in the dictionary.\n",
    "# THIS AFFECTED THE CELL BELOW. INSTEAD OF USING THIS CODE TO CLEAN THE POSSIBLE OUTPUTS WE WILL ASSUME THAT USING OUR BIGGER VERSION OF THE CORPUS SHOULD MINIMIZE \n",
    "# THE LIKELIHOOD OF FINDING THESE WEIRD TOKENS DURING THE GENERATION STEP\n",
    "\n",
    "\n",
    "# freq values from dictionary to array\n",
    "#freq_values = np.array([v for k, v in word_to_freq.items()])\n",
    "#np.percentile(freq_values, 5) # ~1709\n",
    "\n",
    "#getting rid of those unusual values\n",
    "# creating list of keys to delete\n",
    "#to_del = [k for k, v in word_to_freq.items() if v < 1709]\n",
    "\n",
    "# deleting those elements from the word_to_freq dict\n",
    "#for k in to_del: del word_to_freq[k]"
   ]
  },
  {
   "cell_type": "code",
   "execution_count": 72,
   "metadata": {
    "Collapsed": "false"
   },
   "outputs": [],
   "source": [
    "#creating lists where we will store the input tensors\n",
    "cont = []\n",
    "tar = []\n",
    "for context, target in trigrams:\n",
    "    #creates a tensor with the frequency of both current context words\n",
    "    context_freqs = torch.tensor([word_to_freq[word] for word in context], dtype = torch.long)\n",
    "    #adds the tensor to inp\n",
    "    cont.append(context_freqs)\n",
    "    # does the same for the target and its frequency\n",
    "    target_freq = torch.tensor([word_to_freq[target]], dtype = torch.long)\n",
    "    tar.append(target_freq)"
   ]
  },
  {
   "cell_type": "markdown",
   "metadata": {
    "Collapsed": "true"
   },
   "source": [
    "## Building the network "
   ]
  },
  {
   "cell_type": "code",
   "execution_count": 73,
   "metadata": {
    "Collapsed": "false"
   },
   "outputs": [
    {
     "name": "stdout",
     "output_type": "stream",
     "text": [
      "Too bad, training on CPU; dont exagerate with number of epochs.\n"
     ]
    }
   ],
   "source": [
    "#Cheking if we have access to training on GPU\n",
    "train_on_gpu = torch.cuda.is_available()\n",
    "if(train_on_gpu):\n",
    "    print('Fancy setup!')\n",
    "else: \n",
    "    print('Too bad, training on CPU; dont exagerate with number of epochs.')\n",
    "\n",
    "my_device = torch.device(\"cuda\" if torch.cuda.is_available() else \"cpu\")"
   ]
  },
  {
   "cell_type": "code",
   "execution_count": 74,
   "metadata": {
    "Collapsed": "false"
   },
   "outputs": [],
   "source": [
    "class GRU(nn.Module):\n",
    "    #init for input size, hidden size, output size and number of hidden layers.\n",
    "    def __init__(self, input_s, hidden_s, output_s,n_layers = 1):\n",
    "        super(GRU, self).__init__()\n",
    "        self.input_s = input_s\n",
    "        self.hidden_s = hidden_s\n",
    "        self.output_s = output_s\n",
    "        self.n_layers = n_layers\n",
    "        # our encoder will be nn.Embedding\n",
    "        # reminder: the encoder takes the input and outputs a feature tensor holding the information representing the input.\n",
    "        self.encoder = nn.Embedding(input_s, hidden_s)\n",
    "        #defining the GRU cell, still have to determine which parameters work best\n",
    "        self.gru = nn.GRU(2*hidden_s, hidden_s, n_layers, batch_first=True, bidirectional=False)\n",
    "        # defining linear decoder\n",
    "        self.decoder = nn.Linear(hidden_s, output_s)\n",
    "    \n",
    "    def forward(self, input, hidden):\n",
    "        #making sure that the input is a row vector\n",
    "        input = self.encoder(input.view(1, -1))\n",
    "        output, hidden = self.gru(input.view(1, 1, -1), hidden)\n",
    "        output = self.decoder(output.view(1,-1))\n",
    "        return output, hidden\n",
    "    \n",
    "    def init_hidden(self):\n",
    "        return Variable(torch.zeros(self.n_layers, 1, self.hidden_s))"
   ]
  },
  {
   "cell_type": "code",
   "execution_count": 75,
   "metadata": {
    "Collapsed": "false"
   },
   "outputs": [],
   "source": [
    "def train(context, target):\n",
    "    hidden = decoder.init_hidden()\n",
    "    decoder.zero_grad()\n",
    "    loss = 0\n",
    "    \n",
    "    for t in range(len(trigrams)):\n",
    "        output, hidden = decoder(context[t], hidden)\n",
    "        loss += criterion(output, target[t])\n",
    "        \n",
    "    loss.backward()\n",
    "    decoder_optimizer.step()\n",
    "    \n",
    "    return loss.data.item() / len(trigrams)"
   ]
  },
  {
   "cell_type": "code",
   "execution_count": 76,
   "metadata": {
    "Collapsed": "false"
   },
   "outputs": [],
   "source": [
    "def time_since(since):\n",
    "    s = time.time() - since\n",
    "    m = math.floor(s/60)\n",
    "    s -= m*60\n",
    "    return '%dm %ds' % (m, s)"
   ]
  },
  {
   "cell_type": "code",
   "execution_count": 77,
   "metadata": {
    "Collapsed": "false"
   },
   "outputs": [
    {
     "name": "stdout",
     "output_type": "stream",
     "text": [
      "[3m 1s (10 16%) 4.8687]\n",
      "[6m 0s (20 33%) 3.6161]\n",
      "[8m 59s (30 50%) 2.4126]\n"
     ]
    }
   ],
   "source": [
    "n_epochs = 30\n",
    "print_every = 10\n",
    "plot_every = 10\n",
    "hidden_s = 50\n",
    "n_layers = 1\n",
    "lr = 0.015\n",
    "\n",
    "decoder = GRU(voc_length, hidden_s, voc_length, n_layers)\n",
    "decoder_optimizer = torch.optim.Adam(decoder.parameters(), lr=lr)\n",
    "criterion = nn.CrossEntropyLoss()\n",
    "\n",
    "start = time.time()\n",
    "all_losses = []\n",
    "loss_avg = 0\n",
    "for epoch in range(1, n_epochs + 1):\n",
    "    loss = train(cont,tar)       \n",
    "    loss_avg += loss\n",
    "\n",
    "    if epoch % print_every == 0:\n",
    "        print('[%s (%d %d%%) %.4f]' % (time_since(start), epoch, epoch / n_epochs * 50, loss))\n",
    "#         print(evaluate('ge', 200), '\\n')\n",
    "\n",
    "    if epoch % plot_every == 0:\n",
    "        all_losses.append(loss_avg / plot_every)\n",
    "        loss_avg = 0"
   ]
  },
  {
   "cell_type": "code",
   "execution_count": 78,
   "metadata": {
    "Collapsed": "false"
   },
   "outputs": [
    {
     "data": {
      "text/plain": [
       "[<matplotlib.lines.Line2D at 0x1a3d9cbbd0>]"
      ]
     },
     "execution_count": 78,
     "metadata": {},
     "output_type": "execute_result"
    },
    {
     "data": {
      "image/png": "[encoded data removed]",
      "text/plain": [
       "<Figure size 432x288 with 1 Axes>"
      ]
     },
     "metadata": {
      "needs_background": "light"
     },
     "output_type": "display_data"
    }
   ],
   "source": [
    "import matplotlib.pyplot as plt\n",
    "import matplotlib.ticker as ticker\n",
    "%matplotlib inline\n",
    "\n",
    "plt.figure()\n",
    "plt.plot(all_losses)"
   ]
  },
  {
   "cell_type": "code",
   "execution_count": 80,
   "metadata": {
    "Collapsed": "false"
   },
   "outputs": [],
   "source": [
    "def evaluate(prime_str='this process', predict_len=100, temperature=0.8):\n",
    "    hidden = decoder.init_hidden()\n",
    "\n",
    "    for p in range(predict_len):\n",
    "        \n",
    "        prime_input = torch.tensor([word_to_freq[w] for w in prime_str.split()], dtype=torch.long)\n",
    "        cont = prime_input[-2:] #last two words as input\n",
    "        output, hidden = decoder(cont, hidden)\n",
    "        \n",
    "        # Sample from the network as a multinomial distribution\n",
    "        output_dist = output.data.view(-1).div(temperature).exp()\n",
    "        top_i = torch.multinomial(output_dist, 1)[0]\n",
    "        \n",
    "        # Add predicted word to string and use as next input\n",
    "        predicted_word = list(word_to_freq.keys())[list(word_to_freq.values()).index(top_i)]\n",
    "        prime_str += \" \" + predicted_word\n",
    "#         inp = torch.tensor(word_to_ix[predicted_word], dtype=torch.long)\n",
    "\n",
    "    return prime_str"
   ]
  },
  {
   "cell_type": "code",
   "execution_count": 85,
   "metadata": {
    "Collapsed": "false"
   },
   "outputs": [
    {
     "name": "stdout",
     "output_type": "stream",
     "text": [
      "the main defined can , \" number reserved for christmas chestnut and\n"
     ]
    }
   ],
   "source": [
    "print(evaluate('the main', 10, temperature = 1))"
   ]
  },
  {
   "cell_type": "markdown",
   "metadata": {
    "Collapsed": "false"
   },
   "source": [
    "## Generating descriptive sentence\n",
    "* input = main word + taboo words\n",
    "\n",
    "The main idea here is that we will seed always with the main word and replace at the end.\n",
    "The descriptive sentence will be accepted into the cleaning step (where we will make sure that no tws or the mw were used and if so, we'll replace them) if it contains at least two of the input words, besides the seeds. As long as the sentence is not accepted, we will keep generating.\n",
    "\n",
    "To help reach a high score: once an input word has been used and its score_vector value increases, we will leave that segment in our sentence. Not sure if this hurts more than it helps, but adding the input word as a seed is VERY complicated. And not sure it would make sense either.\n",
    "\n",
    "For a first prototype we will assume that maximum one new word is gonna be added per iteration. \n",
    "\n",
    "Pretty fragile with many assumptions?\n",
    "\n",
    "It would be useful to generate a list of synonyms of all input words to expand the input_words set and have higher acceptance rate. We thought about cleaning the input words set from the start but those are words with high probability of occurence so we better leave them and clean in the end.\n",
    "\n",
    "* maybe more seeds?\n",
    "* maybe require a higher score?\n",
    "* how to properly connect end of sentences and seeds? Is it better to have fewer seeds but longer auto-generated text?\n",
    "* add time it to report results and \"quantify\" results/improvements"
   ]
  },
  {
   "cell_type": "code",
   "execution_count": 89,
   "metadata": {
    "Collapsed": "false"
   },
   "outputs": [
    {
     "data": {
      "text/plain": [
       "{'semrel_synonym': set(),\n",
       " 'semrel_antonym': set(),\n",
       " 'semrel_hypernym': set(),\n",
       " 'semrel_hyponym': set()}"
      ]
     },
     "execution_count": 89,
     "metadata": {},
     "output_type": "execute_result"
    }
   ],
   "source": [
    "make_semrel_dict('rodrigo')"
   ]
  },
  {
   "cell_type": "markdown",
   "metadata": {
    "Collapsed": "false"
   },
   "source": [
    "### 3 seeds (means, is, refers to). i=10\n",
    "Final score: "
   ]
  },
  {
   "cell_type": "code",
   "execution_count": 109,
   "metadata": {
    "Collapsed": "false"
   },
   "outputs": [],
   "source": [
    "# set of words that we hope will appear in the description\n",
    "input_words = np.array(['happy', 'pleased', 'thrilled', 'excited', 'ecstatic', 'overjoyed', 'joy'])\n",
    "\n",
    "# extending the input_words set using semantic relations. Bigger set --> better chances of generating an approved word!\n",
    "\n",
    "\n",
    "#probably good idea to check if those words are even in our vocab. jeje\n",
    "# filtering out the ones that are not. Shouldn't be a thing when using larger corpus\n",
    "input_words = [word for word in input_words if word in voc]\n",
    "\n",
    "#create the first sentence\n",
    "#on average a descriptive sentence had 27 words/symbols.\n",
    "# we will equally divide them between our seeds\n",
    "\n",
    "sentence_parts = np.array([evaluate('happy means', 7, temperature = 1), evaluate('happy is', 7, temperature = 1), evaluate('happy refers to', 6, temperature = 1)])\n",
    "\n",
    "sentence =  \" \".join(sentence_parts)\n",
    "\n",
    "eval_sentence = sentence.split()\n",
    "# first score vector and score\n",
    "score_vector = np.array([eval_sentence.count(input_words[x]) for x in range(len(input_words))])\n",
    "score_vector[0] -= 3\n",
    "score = np.sum(score_vector) "
   ]
  },
  {
   "cell_type": "code",
   "execution_count": 110,
   "metadata": {
    "Collapsed": "false"
   },
   "outputs": [
    {
     "data": {
      "text/plain": [
       "'happy means out cold be found of realizing emergency happy is the diabetes the can three the contributing happy refers to the before diameter your peice side'"
      ]
     },
     "execution_count": 110,
     "metadata": {},
     "output_type": "execute_result"
    }
   ],
   "source": [
    "sentence"
   ]
  },
  {
   "cell_type": "code",
   "execution_count": null,
   "metadata": {
    "Collapsed": "false"
   },
   "outputs": [],
   "source": [
    "# iterate until nice sentence comes up\n",
    "# we will add safety measure to not break everything\n",
    "i = 0\n",
    "n = 10\n",
    "index_in_sentence = -1\n",
    "# to keep track of scores\n",
    "scores = np.zeros(n)\n",
    "# the covered vector will take care that we don't replace a segment that we already \"like\"\n",
    "covered = np.array([0,0,0])\n",
    "changes = np.zeros(len(score_vector))\n",
    "\n",
    "#known positions of input words in our sentence\n",
    "positions = np.zeros(len(eval_sentence))\n",
    "#we know the positions of the seeds\n",
    "positions[0] = 1\n",
    "positions[9] = 1\n",
    "positions[18] = 1\n",
    "\n",
    "while i < n:\n",
    "    #aware that with this flow we are doing one iteration after reaching the desired score, but it's no big deal because score is designed to only go up.\n",
    "    \n",
    "    #checking if score improved\n",
    "    new_score_vector = np.array([eval_sentence.count(input_words[x]) for x in range(len(input_words))])\n",
    "    new_score_vector[0] -= 3\n",
    "    changes = new_score_vector - score_vector\n",
    "    \n",
    "    if True in (changes>0): #there was a change. Assuming there is max 1 change per iteration from now on\n",
    "        index = np.where(changes != 0)[0][0] #looking for the word that was added\n",
    "        word_that_was_added = input_words[index] #if we stop assuming that, here we have to keep track of location and magnitude of changes\n",
    "        #finding in which segment that new added word is in order to leave the segment untouched\n",
    "        \n",
    "        #how to detect the index of the word that just came up if it was already in the sentence somewhere else?\n",
    "        #this should do\n",
    "        indices_in_sentence = np.where(eval_sentence == word_that_was_added)[0]\n",
    "        if len(indices_in_sentence) >1: #word appears at least twice\n",
    "            for d in indices_in_sentence:\n",
    "                if positions[d] != 1:\n",
    "                    index_in_sentence = d\n",
    "                    positions[d] = 1\n",
    "        else:\n",
    "            index_in_sentence = indices_in_sentence[0]\n",
    "            positions[index_in_sentence] = 1\n",
    "        #keeping the segment in which the improvement took place\n",
    "        if index_in_sentence in range(9) & covered[0]!=1:\n",
    "            sentence_parts[1] = evaluate('happy is', 7, temperature = 1)\n",
    "            sentence_parts[2] = evaluate('happy refers to', 6, temperature = 1)\n",
    "            sentence = ' '.join(sentence_parts)\n",
    "            covered[0] = 1\n",
    "        elif index_in_sentence in range(9, 18) & covered[1] !=1:\n",
    "            sentence_parts[0] = evaluate('happy means', 7, temperature = 1)\n",
    "            sentence_parts[2] = evaluate('happy refers to', 6, temperature = 1)\n",
    "            sentence = ' '.join(sentence_parts)\n",
    "            covered[1] = 1\n",
    "        elif index_in_sentence in range(18, 27) & covered[2] != 1:\n",
    "            sentence_parts[1] = evaluate('happy is', 7, temperature = 1)\n",
    "            sentence_parts[0] = evaluate('happy means', 7, temperature = 1)\n",
    "            sentence = ' '.join(sentence_parts)\n",
    "            covered[2] = 1\n",
    "        eval_sentence = sentence.split()\n",
    "        changes = np.zeros(len(score_vector))\n",
    "        index_in_sentence = 0\n",
    "        score_vector = new_score_vector\n",
    "        score = np.sum(score_vector)\n",
    "    \n",
    "    #if there was no change\n",
    "    else: #based on what is already covered\n",
    "        for r in range(len(covered)):\n",
    "            if covered[r] !=1 & r==0:\n",
    "                sentence_parts[r] = evaluate('happy means', 7, temperature = 1) +' '\n",
    "            if covered[r] !=1 & r==1:\n",
    "                sentence_parts[r] = evaluate('happy is', 7, temperature = 1) +' '\n",
    "            if covered[r] !=1 & r==2:\n",
    "                sentence_parts[r] = evaluate('happy refers to', 6, temperature = 1)\n",
    "        sentence = ' '.join(sentence_parts)\n",
    "        eval_sentence = sentence.split()\n",
    "        score_vector = new_score_vector\n",
    "        score = np.sum(score_vector)\n",
    "        \n",
    "            \n",
    "    \n",
    "    scores[i] = score\n",
    "    i +=1"
   ]
  },
  {
   "cell_type": "code",
   "execution_count": 65,
   "metadata": {
    "Collapsed": "false"
   },
   "outputs": [
    {
     "data": {
      "text/plain": [
       "array([ 0., -3., -3., -3., -3., -3., -3., -3., -3., -3.])"
      ]
     },
     "execution_count": 65,
     "metadata": {},
     "output_type": "execute_result"
    }
   ],
   "source": [
    "scores"
   ]
  },
  {
   "cell_type": "code",
   "execution_count": null,
   "metadata": {
    "Collapsed": "false"
   },
   "outputs": [],
   "source": []
  }
 ],
 "metadata": {
  "kernelspec": {
   "display_name": "Python 3",
   "language": "python",
   "name": "python3"
  },
  "language_info": {
   "codemirror_mode": {
    "name": "ipython",
    "version": 3
   },
   "file_extension": ".py",
   "mimetype": "text/x-python",
   "name": "python",
   "nbconvert_exporter": "python",
   "pygments_lexer": "ipython3",
   "version": "3.7.6"
  }
 },
 "nbformat": 4,
 "nbformat_minor": 4
}
