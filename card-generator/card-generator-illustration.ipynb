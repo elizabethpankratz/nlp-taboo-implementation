{
 "cells": [
  {
   "cell_type": "markdown",
   "metadata": {
    "Collapsed": "false"
   },
   "source": [
    "# The card generator\n",
    "\n",
    "This notebook contains an illustration of how to use the card generator we implemented.\n",
    "You can use it to generate your own Taboo cards!\n",
    "\n",
    "**Requirements**\n",
    "- Python 3\n",
    "- Libraries: `gensim`, `pandas`, `numpy`, `random`, `nltk`\n",
    "- In current directory:\n",
    "    - word2vec word embeddings, pre-trained on the Google News corpora, saved as `GoogleNews-vectors-negative300.bin`\n",
    "        - *Note:* This file is not provided on GitHub because of its size (1.5 GB), but it can be downloaded [here](https://drive.google.com/uc?id=0B7XkCwpI5KDYNlNUTTlSS21pQmM).\n",
    "    - annotated gold standard dataset, saved as `gold-std-categorised.csv`"
   ]
  },
  {
   "cell_type": "markdown",
   "metadata": {
    "Collapsed": "false"
   },
   "source": [
    "Begin by importing the `gensim` library and our `cardgen` module, and loading gensim's pre-trained word embeddings."
   ]
  },
  {
   "cell_type": "code",
   "execution_count": 1,
   "metadata": {
    "Collapsed": "false"
   },
   "outputs": [],
   "source": [
    "import cardgen as cg\n",
    "import gensim"
   ]
  },
  {
   "cell_type": "code",
   "execution_count": 2,
   "metadata": {
    "Collapsed": "false",
    "scrolled": true
   },
   "outputs": [],
   "source": [
    "model = gensim.models.KeyedVectors.load_word2vec_format('GoogleNews-vectors-negative300.bin', binary=True)"
   ]
  },
  {
   "cell_type": "markdown",
   "metadata": {
    "Collapsed": "false"
   },
   "source": [
    "To generate a Taboo card, simply call the `draw_card()` function, passing in your favourite word as a string and the gensim word embeddings.\n",
    "\n",
    "(The first time this code is run, it takes a few minutes to set up the word2vec model, so make a coffee and then come back ready for some Taboo fun.)"
   ]
  },
  {
   "cell_type": "code",
   "execution_count": 18,
   "metadata": {
    "Collapsed": "false",
    "scrolled": true
   },
   "outputs": [
    {
     "name": "stdout",
     "output_type": "stream",
     "text": [
      " -------------------\n",
      " |    delight      |\n",
      " -------------------\n",
      " |    enchant      |\n",
      " |    joy          |\n",
      " |    displease    |\n",
      " |    chagrin      |\n",
      " |    glee         |\n",
      " -------------------\n"
     ]
    }
   ],
   "source": [
    "cg.draw_card('delight', model)"
   ]
  },
  {
   "cell_type": "markdown",
   "metadata": {
    "Collapsed": "false"
   },
   "source": [
    "Let's see a few more for fun..."
   ]
  },
  {
   "cell_type": "code",
   "execution_count": 19,
   "metadata": {
    "Collapsed": "false"
   },
   "outputs": [
    {
     "name": "stdout",
     "output_type": "stream",
     "text": [
      " ------------------\n",
      " |    uncle       |\n",
      " ------------------\n",
      " |    kinsman     |\n",
      " |    son         |\n",
      " |    father      |\n",
      " |    brother     |\n",
      " |    grandson    |\n",
      " ------------------\n"
     ]
    }
   ],
   "source": [
    "cg.draw_card('uncle', model)"
   ]
  },
  {
   "cell_type": "code",
   "execution_count": 20,
   "metadata": {
    "Collapsed": "false",
    "scrolled": true
   },
   "outputs": [
    {
     "name": "stdout",
     "output_type": "stream",
     "text": [
      " -----------------------\n",
      " |    flaw             |\n",
      " -----------------------\n",
      " |    defect           |\n",
      " |    weakness         |\n",
      " |    glitch           |\n",
      " |    shortcoming      |\n",
      " |    vulnerability    |\n",
      " -----------------------\n"
     ]
    }
   ],
   "source": [
    "cg.draw_card('flaw', model)"
   ]
  },
  {
   "cell_type": "code",
   "execution_count": 21,
   "metadata": {
    "Collapsed": "false"
   },
   "outputs": [
    {
     "name": "stdout",
     "output_type": "stream",
     "text": [
      " ------------------\n",
      " |    cake        |\n",
      " ------------------\n",
      " |    dessert     |\n",
      " |    frosting    |\n",
      " |    biscuit     |\n",
      " |    brownie     |\n",
      " |    pastry      |\n",
      " ------------------\n"
     ]
    }
   ],
   "source": [
    "cg.draw_card('cake', model)"
   ]
  },
  {
   "cell_type": "markdown",
   "metadata": {
    "Collapsed": "false"
   },
   "source": [
    "And there you have it: a Taboo card generator!\n",
    "For information about how the code behind this works, please see `card-generator-walkthrough.ipynb`, also in this directory."
   ]
  }
 ],
 "metadata": {
  "kernelspec": {
   "display_name": "Python 3",
   "language": "python",
   "name": "python3"
  },
  "language_info": {
   "codemirror_mode": {
    "name": "ipython",
    "version": 3
   },
   "file_extension": ".py",
   "mimetype": "text/x-python",
   "name": "python",
   "nbconvert_exporter": "python",
   "pygments_lexer": "ipython3",
   "version": "3.7.4"
  }
 },
 "nbformat": 4,
 "nbformat_minor": 4
}
