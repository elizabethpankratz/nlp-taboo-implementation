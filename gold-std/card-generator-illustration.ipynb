{
 "cells": [
  {
   "cell_type": "markdown",
   "metadata": {},
   "source": [
    "# The card generator\n",
    "\n",
    "This notebook contains an illustration of how to use the card generator we implemented.\n",
    "You can use it to generate your own Taboo cards!\n",
    "\n",
    "**Requirements**\n",
    "- Python 3\n",
    "- Packages: `gensim`, `pandas`, `numpy`, `random`, `nltk`\n",
    "- In current directory:\n",
    "    - word2vec word embeddings, pre-trained on the Google News corpora, saved as `GoogleNews-vectors-negative300.bin`\n",
    "        - *Note:* This file is not provided on GitHub because of its size (1.5 GB), but it can be downloaded [here](https://drive.google.com/uc?id=0B7XkCwpI5KDYNlNUTTlSS21pQmM).\n",
    "    - annotated gold standard dataset, saved as `gold-std-categorised.csv`"
   ]
  },
  {
   "cell_type": "markdown",
   "metadata": {},
   "source": [
    "Begin by importing the necessary packages, `gensim` and `cardgen`, and loading gensim's pre-trained word embeddings."
   ]
  },
  {
   "cell_type": "code",
   "execution_count": 1,
   "metadata": {},
   "outputs": [],
   "source": [
    "import cardgen as cg\n",
    "import gensim"
   ]
  },
  {
   "cell_type": "code",
   "execution_count": 4,
   "metadata": {
    "scrolled": true
   },
   "outputs": [
    {
     "name": "stdout",
     "output_type": "stream",
     "text": [
      "Model loaded :)\n",
      "\n"
     ]
    }
   ],
   "source": [
    "model = gensim.models.KeyedVectors.load_word2vec_format('GoogleNews-vectors-negative300.bin', binary=True)"
   ]
  },
  {
   "cell_type": "markdown",
   "metadata": {},
   "source": [
    "The first step is to create the probability distribution based on the frequency of each semantic category in the gold standard Taboo cards.\n",
    "This will be fed into the function that actually creates the Taboo cards."
   ]
  },
  {
   "cell_type": "code",
   "execution_count": 7,
   "metadata": {},
   "outputs": [
    {
     "data": {
      "text/plain": [
       "{'collocation': 0.6634275618374559,\n",
       " 'semrel_synonym': 0.19699646643109542,\n",
       " 'semrel_hypernym': 0.10159010600706714,\n",
       " 'semrel_hyponym': 0.020318021201413426,\n",
       " 'semrel_antonym': 0.0176678445229682}"
      ]
     },
     "execution_count": 7,
     "metadata": {},
     "output_type": "execute_result"
    }
   ],
   "source": [
    "probdist_dict = cg.get_gold_probdist()\n",
    "probdist_dict"
   ]
  },
  {
   "cell_type": "markdown",
   "metadata": {},
   "source": [
    "Now, to generate a Taboo card, call the `draw_card()` function, passing in your favourite word as a string, the probability distribution across the five semantic relation categories, and the gensim word embeddings.\n",
    "\n",
    "(The first time this code is run, it takes a few minutes to set up the word2vec model, so make a coffee and then come back ready for some Taboo action!)"
   ]
  },
  {
   "cell_type": "code",
   "execution_count": 8,
   "metadata": {
    "scrolled": true
   },
   "outputs": [
    {
     "name": "stdout",
     "output_type": "stream",
     "text": [
      " -------------------\n",
      " |    happy        |\n",
      " -------------------\n",
      " |    thrilled     |\n",
      " |    ecstatic     |\n",
      " |    pleased      |\n",
      " |    overjoyed    |\n",
      " |    excited      |\n",
      " -------------------\n"
     ]
    }
   ],
   "source": [
    "cg.draw_card('happy', probdist_dict, model)"
   ]
  },
  {
   "cell_type": "markdown",
   "metadata": {},
   "source": [
    "Let's see a few more for fun..."
   ]
  },
  {
   "cell_type": "code",
   "execution_count": 18,
   "metadata": {},
   "outputs": [
    {
     "name": "stdout",
     "output_type": "stream",
     "text": [
      " ---------------------\n",
      " |    uncle          |\n",
      " ---------------------\n",
      " |    kinsman        |\n",
      " |    aunt           |\n",
      " |    son            |\n",
      " |    cousin         |\n",
      " |    grandfather    |\n",
      " ---------------------\n"
     ]
    }
   ],
   "source": [
    "cg.draw_card('uncle', probdist_dict, model)"
   ]
  },
  {
   "cell_type": "code",
   "execution_count": 10,
   "metadata": {
    "scrolled": true
   },
   "outputs": [
    {
     "name": "stdout",
     "output_type": "stream",
     "text": [
      " -----------------------\n",
      " |    flaw             |\n",
      " -----------------------\n",
      " |    shortcoming      |\n",
      " |    deficiency       |\n",
      " |    vulnerability    |\n",
      " |    weakness         |\n",
      " |    glitch           |\n",
      " -----------------------\n"
     ]
    }
   ],
   "source": [
    "cg.draw_card('flaw', probdist_dict, model)"
   ]
  },
  {
   "cell_type": "code",
   "execution_count": 11,
   "metadata": {},
   "outputs": [
    {
     "name": "stdout",
     "output_type": "stream",
     "text": [
      " ------------------\n",
      " |    cake        |\n",
      " ------------------\n",
      " |    block       |\n",
      " |    frosting    |\n",
      " |    brownie     |\n",
      " |    pie         |\n",
      " |    dessert     |\n",
      " ------------------\n"
     ]
    }
   ],
   "source": [
    "cg.draw_card('cake', probdist_dict, model)"
   ]
  },
  {
   "cell_type": "markdown",
   "metadata": {},
   "source": [
    "And there you have it: a Taboo card generator!\n",
    "For information about how the code behind this works, please see `card-generator-walkthrough.ipynb`, also in this directory."
   ]
  }
 ],
 "metadata": {
  "kernelspec": {
   "display_name": "Python 3",
   "language": "python",
   "name": "python3"
  },
  "language_info": {
   "codemirror_mode": {
    "name": "ipython",
    "version": 3
   },
   "file_extension": ".py",
   "mimetype": "text/x-python",
   "name": "python",
   "nbconvert_exporter": "python",
   "pygments_lexer": "ipython3",
   "version": "3.7.4"
  }
 },
 "nbformat": 4,
 "nbformat_minor": 4
}
