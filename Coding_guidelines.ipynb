{
 "cells": [
  {
   "cell_type": "markdown",
   "metadata": {},
   "source": [
    "# Coding guidelines for NLP final project"
   ]
  },
  {
   "cell_type": "markdown",
   "metadata": {},
   "source": [
    "Here are some ideas on how to keep our project's code clean and functional. They have worked for me in the past both when dealing with a big project and/or when working in a team. They are by no means perfect and any suggestions are more than welcome! I will keep updating this file as we make progress and find new safety measures."
   ]
  },
  {
   "cell_type": "markdown",
   "metadata": {},
   "source": [
    "Code can get messy VERY fast. There are many stages between playing with the terminal trying to realize what we want and writting a nice looking and optimized function. If we add to this that we are a team and might need to use each other's functions the code can all get incredibly tedious to work with."
   ]
  },
  {
   "cell_type": "markdown",
   "metadata": {},
   "source": [
    "### Solutions\n",
    "Here is what I propose:\n",
    "* for each subproject we create a different ipython notebook in which we can have whatever mess we have in progress.\n",
    "* we create an .py file in which we will add the final or at least working versions of the functions we are working with. All other ipython notebooks will import whatever functions are needed from this .py file. In more technical language what we will do is to create a python module (a library) from which we will import functions just like we usually do with numpy or pandas.\n",
    "* I would propose the module to be called taboo. This means that if we have a function like count_words(str) in the taboo.py file, in another ipython notebook we can access that function using: import taboo --> taboo.count_words(str). If you have to use the function several times you could assign a local name to save time. This means: import taboo --> count_words = taboo.count_words --> count_words(str)"
   ]
  },
  {
   "cell_type": "markdown",
   "metadata": {},
   "source": [
    "### Functions\n",
    "It is good practice to make short and simple functions instead of long and complex ones. A rule of thumb when working on big projects is that each function should only do one thing.\n",
    "For each working version of a function we should have:\n",
    "* intuitive name that actually tells us what the function does\n",
    "* Date of last modification, subproject or task it lives on, description of the variables, default arguments, short explanation of what it does and if relevant how, and if possible an input-output example that illustrates how it works and/or limitations.\n",
    "* If a function that was already in the taboo module is drastically updated (requires different arguments and returns different outputs) then this should be stated in the corresponding commit message. \n",
    "* It's better to commit often small changes than huge ones!\n",
    "* In our commit messages we should add in the description which functions were modified so others know that that is a potential source of error in their own code.\n",
    "On top of all these precautions we will be working under version control so we should be safe enough :)\n",
    "No idea why I didn't manage to set up github in atom, so I downloaded the Github Desktop app and it's super easy to use!"
   ]
  },
  {
   "cell_type": "markdown",
   "metadata": {},
   "source": [
    "### Pytorch troubleshooting\n",
    "Even after installing pytorch and the rest through conda install... the import torch commands didn't work in the .ipynb or .py files, it only worked after I manually installed them in one of the .ipynb using the following command:"
   ]
  },
  {
   "cell_type": "code",
   "execution_count": 1,
   "metadata": {},
   "outputs": [],
   "source": [
    "#pip install torch torchvision torchviz"
   ]
  },
  {
   "cell_type": "code",
   "execution_count": null,
   "metadata": {},
   "outputs": [],
   "source": []
  }
 ],
 "metadata": {
  "kernelspec": {
   "display_name": "Python 3",
   "language": "python",
   "name": "python3"
  },
  "language_info": {
   "codemirror_mode": {
    "name": "ipython",
    "version": 3
   },
   "file_extension": ".py",
   "mimetype": "text/x-python",
   "name": "python",
   "nbconvert_exporter": "python",
   "pygments_lexer": "ipython3",
   "version": "3.7.6"
  }
 },
 "nbformat": 4,
 "nbformat_minor": 4
}
