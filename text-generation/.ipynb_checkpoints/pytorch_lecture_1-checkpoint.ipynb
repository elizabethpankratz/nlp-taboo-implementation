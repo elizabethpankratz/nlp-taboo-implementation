{
 "cells": [
  {
   "cell_type": "markdown",
   "metadata": {
    "Collapsed": "false"
   },
   "source": [
    "# Introduction to PyTorch\n",
    "__Advanced NLP | MSc CogSys | Potsdam University__\n",
    "\n",
    "We can install PyTorch following the instructions [here](https://pytorch.org/get-started/locally/). "
   ]
  },
  {
   "cell_type": "markdown",
   "metadata": {
    "Collapsed": "false"
   },
   "source": [
    "This notebook is based on [this tutorial](https://towardsdatascience.com/understanding-pytorch-with-an-example-a-step-by-step-tutorial-81fc5f8c4e8e?#ea0d) and on PyTorch's [documentation](https://pytorch.org/docs/stable/index.html)."
   ]
  },
  {
   "cell_type": "code",
   "execution_count": 4,
   "metadata": {
    "Collapsed": "false"
   },
   "outputs": [
    {
     "name": "stdout",
     "output_type": "stream",
     "text": [
      "Collecting torch\n",
      "  Downloading torch-1.4.0-cp37-none-macosx_10_9_x86_64.whl (81.1 MB)\n",
      "\u001b[K     |████████████████████████████████| 81.1 MB 54 kB/s eta 0:00:011\n",
      "\u001b[?25hCollecting torchvision\n",
      "  Downloading torchvision-0.5.0-cp37-cp37m-macosx_10_9_x86_64.whl (438 kB)\n",
      "\u001b[K     |████████████████████████████████| 438 kB 473 kB/s eta 0:00:01\n",
      "\u001b[?25hRequirement already satisfied: numpy in /Users/rlpa/opt/anaconda3/lib/python3.7/site-packages (from torchvision) (1.18.1)\n",
      "Requirement already satisfied: six in /Users/rlpa/opt/anaconda3/lib/python3.7/site-packages (from torchvision) (1.14.0)\n",
      "Requirement already satisfied: pillow>=4.1.1 in /Users/rlpa/opt/anaconda3/lib/python3.7/site-packages (from torchvision) (7.0.0)\n",
      "Installing collected packages: torch, torchvision\n",
      "Successfully installed torch-1.4.0 torchvision-0.5.0\n",
      "Note: you may need to restart the kernel to use updated packages.\n"
     ]
    }
   ],
   "source": [
    "pip install torch torchvision"
   ]
  },
  {
   "cell_type": "code",
   "execution_count": 2,
   "metadata": {
    "Collapsed": "false"
   },
   "outputs": [
    {
     "name": "stdout",
     "output_type": "stream",
     "text": [
      "Collecting torchviz\n",
      "  Downloading torchviz-0.0.1.tar.gz (41 kB)\n",
      "\u001b[K     |████████████████████████████████| 41 kB 367 kB/s eta 0:00:01\n",
      "\u001b[?25hRequirement already satisfied: torch in /Users/rlpa/opt/anaconda3/lib/python3.7/site-packages (from torchviz) (1.4.0)\n",
      "Collecting graphviz\n",
      "  Downloading graphviz-0.13.2-py2.py3-none-any.whl (17 kB)\n",
      "Building wheels for collected packages: torchviz\n",
      "  Building wheel for torchviz (setup.py) ... \u001b[?25ldone\n",
      "\u001b[?25h  Created wheel for torchviz: filename=torchviz-0.0.1-py3-none-any.whl size=3522 sha256=2b8f459451cb277a2cee9aa015956fe5b0a44d48bc5f4f5722fbe854fb15faac\n",
      "  Stored in directory: /Users/rlpa/Library/Caches/pip/wheels/10/7b/c8/3af79ec02e294a832c01037bcb38302bbcee0bb020dcbbbd3e\n",
      "Successfully built torchviz\n",
      "Installing collected packages: graphviz, torchviz\n",
      "Successfully installed graphviz-0.13.2 torchviz-0.0.1\n",
      "Note: you may need to restart the kernel to use updated packages.\n"
     ]
    }
   ],
   "source": [
    "pip install torchviz"
   ]
  },
  {
   "cell_type": "code",
   "execution_count": 1,
   "metadata": {
    "Collapsed": "false"
   },
   "outputs": [],
   "source": [
    "import torch\n",
    "# torch.nn: implements layers, loss functions and activation functions\n",
    "import torch.nn as nn\n",
    "# torch.optim: implements optimization algorithms (e.g. SGD)\n",
    "import torch.optim as optim\n",
    "# used for activation functions (deprecated?, but still used in PyTorch's github examples)\n",
    "import torch.nn.functional as F \n",
    "# torchviz to visualize computation graphs (needs graphviz)\n",
    "import torchviz\n",
    "# we use numpy for some examples\n",
    "import numpy as np"
   ]
  },
  {
   "cell_type": "markdown",
   "metadata": {
    "Collapsed": "false"
   },
   "source": [
    "## GPU"
   ]
  },
  {
   "cell_type": "markdown",
   "metadata": {
    "Collapsed": "false"
   },
   "source": [
    "As we saw in the lecture slides, using the Graphics Processing Unit may boost the performance of our program when we are training neural networks. So let us first examine the possibility of using it in our PyTorch code. \n",
    "\n",
    "To use the GPU, PyTorch needs [Cuda](https://pytorch.org/docs/stable/notes/cuda.html), which is a Nvidia's API. In general, PyTorch's installation includes it.\n",
    "\n",
    "We can use ``cuda.is_available()`` to check whether there is any available GPU. If it returns True, we can make our calculations on the GPU. If it returns False, it can either mean that our computer or server has no GPU, or that we missed installing cuda. In that case, all computation will be performed in the CPU."
   ]
  },
  {
   "cell_type": "code",
   "execution_count": 5,
   "metadata": {
    "Collapsed": "false"
   },
   "outputs": [
    {
     "data": {
      "text/plain": [
       "False"
      ]
     },
     "execution_count": 5,
     "metadata": {},
     "output_type": "execute_result"
    }
   ],
   "source": [
    "torch.cuda.is_available()"
   ]
  },
  {
   "cell_type": "markdown",
   "metadata": {
    "Collapsed": "false"
   },
   "source": [
    "Even if cuda is available, the GPU will not be automatically used. We have to send our data and models to it ourselves. We will see how to do that, but first it is good practice to store the device we want to use in a variable that will be passed as arguments later."
   ]
  },
  {
   "cell_type": "code",
   "execution_count": 6,
   "metadata": {
    "Collapsed": "false"
   },
   "outputs": [
    {
     "name": "stdout",
     "output_type": "stream",
     "text": [
      "This notebook can use the cpu for running the code.\n"
     ]
    }
   ],
   "source": [
    "# Use GPU if it is available, otherwise use CPU.\n",
    "my_device = torch.device(\"cuda\" if torch.cuda.is_available() else \"cpu\")\n",
    "print('This notebook can use the ' + str(my_device) + ' for running the code.')"
   ]
  },
  {
   "cell_type": "markdown",
   "metadata": {
    "Collapsed": "false"
   },
   "source": [
    "Some servers may have more than one GPU. In that case, we can manually choose which one we would like to use. ``torch.cuda.device_count()`` returns the number of available GPUs, which are numbered starting at 0. If there is more than one, we can refer to them using ``\"cuda:0\"``, ``\"cuda:1\"``, ..., ``\"cuda:n\"``."
   ]
  },
  {
   "cell_type": "code",
   "execution_count": 7,
   "metadata": {
    "Collapsed": "false"
   },
   "outputs": [],
   "source": [
    "# a list with all GPUs\n",
    "# torch.device(\"cuda\", n) is the same as torch.device(\"cuda:n\")\n",
    "devices = [torch.device(\"cuda\", n) for n in range(torch.cuda.device_count())]"
   ]
  },
  {
   "cell_type": "markdown",
   "metadata": {
    "Collapsed": "false"
   },
   "source": [
    "__Remember__: if we want to use the GPU, all our data, parameters and models must be sent to the GPU, preferably by the time they are created. Trying to combine objects in the CPU with objects in the GPU may throw an error."
   ]
  },
  {
   "cell_type": "markdown",
   "metadata": {
    "Collapsed": "false"
   },
   "source": [
    "## Tensors"
   ]
  },
  {
   "cell_type": "markdown",
   "metadata": {
    "Collapsed": "false"
   },
   "source": [
    "Tensors are the fundamental objects in PyTorch. They are n-dimensional arrays, very similar to Numpy arrays, with special methods. \n",
    "\n",
    "You can create a simple tensor like this:\n"
   ]
  },
  {
   "cell_type": "code",
   "execution_count": 8,
   "metadata": {
    "Collapsed": "false"
   },
   "outputs": [
    {
     "name": "stdout",
     "output_type": "stream",
     "text": [
      "tensor(1)\n",
      "tensor([1, 2, 3, 4])\n",
      "tensor([[1, 2, 3, 4],\n",
      "        [5, 6, 7, 8]])\n",
      "tensor([[[1, 2, 3, 4],\n",
      "         [5, 6, 7, 8]],\n",
      "\n",
      "        [[8, 7, 6, 5],\n",
      "         [4, 3, 2, 1]],\n",
      "\n",
      "        [[0, 2, 4, 6],\n",
      "         [0, 3, 5, 7]]])\n"
     ]
    }
   ],
   "source": [
    "# a scalar\n",
    "tnsr0 = torch.tensor(1)\n",
    "# a vector\n",
    "tnsr1 = torch.tensor([1,2,3,4]) \n",
    "# a matrix\n",
    "tnsr2 = torch.tensor([[1,2,3,4], [5,6,7,8]])\n",
    "# a 3-dimensional tensor\n",
    "tnsr3 = torch.tensor([ [[1,2,3,4], [5,6,7,8]], [[8,7,6,5], [4,3,2,1]], [[0,2,4,6], [0,3,5,7]] ]) \n",
    "\n",
    "print(tnsr0)\n",
    "print(tnsr1)\n",
    "print(tnsr2)\n",
    "print(tnsr3)"
   ]
  },
  {
   "cell_type": "markdown",
   "metadata": {
    "Collapsed": "false"
   },
   "source": [
    "We can turn a Numpy array into a tensor using ``torch.from_numpy()``:"
   ]
  },
  {
   "cell_type": "code",
   "execution_count": 9,
   "metadata": {
    "Collapsed": "false"
   },
   "outputs": [
    {
     "name": "stdout",
     "output_type": "stream",
     "text": [
      "tensor([[1, 2, 3],\n",
      "        [4, 5, 6]])\n"
     ]
    }
   ],
   "source": [
    "np_array = np.array([[1,2,3],[4,5,6]])\n",
    "pytorch_tensor = torch.from_numpy(np_array)\n",
    "print(pytorch_tensor)"
   ]
  },
  {
   "cell_type": "markdown",
   "metadata": {
    "Collapsed": "false"
   },
   "source": [
    "By default, tensors are stored at the CPU. We can move it to the GPU when we create it by passing the device as an argument:"
   ]
  },
  {
   "cell_type": "code",
   "execution_count": 10,
   "metadata": {
    "Collapsed": "false"
   },
   "outputs": [
    {
     "data": {
      "text/plain": [
       "device(type='cpu')"
      ]
     },
     "execution_count": 10,
     "metadata": {},
     "output_type": "execute_result"
    }
   ],
   "source": [
    "tnsr4 = torch.tensor([1,2,3], device=my_device) # my_device can be \"cpu\", \"cuda\" or \"cuda:n\"\n",
    "tnsr4.device # check in which device is the tensor"
   ]
  },
  {
   "cell_type": "markdown",
   "metadata": {
    "Collapsed": "false"
   },
   "source": [
    "We can also change the device of an existing tensor using ``.to()``:"
   ]
  },
  {
   "cell_type": "code",
   "execution_count": 11,
   "metadata": {
    "Collapsed": "false"
   },
   "outputs": [
    {
     "data": {
      "text/plain": [
       "tensor([[1, 2, 3, 4],\n",
       "        [5, 6, 7, 8]])"
      ]
     },
     "execution_count": 11,
     "metadata": {},
     "output_type": "execute_result"
    }
   ],
   "source": [
    "tnsr2.to(\"cuda:0\" if torch.cuda.is_available() else \"cpu\")"
   ]
  },
  {
   "cell_type": "markdown",
   "metadata": {
    "Collapsed": "false"
   },
   "source": [
    "However, ``.to()`` shadows a tensor's gradient (we will learn that below), so it is always advisible to create the tensor directly on the GPU using the argument ``device``."
   ]
  },
  {
   "cell_type": "markdown",
   "metadata": {
    "Collapsed": "false"
   },
   "source": [
    "When we create a tensor, we can also specify the desired [data type](https://pytorch.org/docs/stable/tensor_attributes.html#torch.torch.dtype), e.g. ``torch.float``, ``torch.double``, ``torch.long``. If no argument is given, the data type will be inferred."
   ]
  },
  {
   "cell_type": "code",
   "execution_count": 12,
   "metadata": {
    "Collapsed": "false"
   },
   "outputs": [],
   "source": [
    "tnsr5 = torch.tensor([1,2,3], device=my_device, dtype=torch.double)"
   ]
  },
  {
   "cell_type": "markdown",
   "metadata": {
    "Collapsed": "false"
   },
   "source": [
    "Empty tensors or tensors filled with zeros / random numbers are created by passing the desired dimensions to ``torch.empty()``, ``torch.zeros()`` and ``torch.rand()``, respectively:"
   ]
  },
  {
   "cell_type": "code",
   "execution_count": 13,
   "metadata": {
    "Collapsed": "false"
   },
   "outputs": [
    {
     "name": "stdout",
     "output_type": "stream",
     "text": [
      "tensor([[ 3.0245e+35,  1.4153e-43,  0.0000e+00],\n",
      "        [ 0.0000e+00,  0.0000e+00,  0.0000e+00],\n",
      "        [ 4.0463e-36,  1.4013e-45, -9.9421e-34],\n",
      "        [ 4.5838e-41, -9.9421e-34,  4.5838e-41]])\n",
      "tensor([[0., 0., 0.],\n",
      "        [0., 0., 0.],\n",
      "        [0., 0., 0.],\n",
      "        [0., 0., 0.]])\n",
      "tensor([[0.9641, 0.7624, 0.5650],\n",
      "        [0.6058, 0.6831, 0.5843],\n",
      "        [0.8596, 0.3419, 0.4735],\n",
      "        [0.3448, 0.1214, 0.7578]])\n"
     ]
    }
   ],
   "source": [
    "# empty tensor means no values assigned yet, so it is initilized with 'garbage values'\n",
    "empty = torch.empty(4, 3, device=my_device) \n",
    "zeros = torch.zeros(4, 3, device=my_device)\n",
    "rnd = torch.rand(4, 3, device=my_device)\n",
    "print(empty)\n",
    "print(zeros)\n",
    "print(rnd)"
   ]
  },
  {
   "cell_type": "markdown",
   "metadata": {
    "Collapsed": "false"
   },
   "source": [
    "We can check the shape of a tensor using ``.shape`` or ``.size()``. In our example, tnsr3 has 3 dimensions. The first has size 3 (number of 'matrices'), the second has size 2 (number of rows) and the third has size 4 (number of columns)."
   ]
  },
  {
   "cell_type": "code",
   "execution_count": 14,
   "metadata": {
    "Collapsed": "false"
   },
   "outputs": [
    {
     "data": {
      "text/plain": [
       "torch.Size([3, 2, 4])"
      ]
     },
     "execution_count": 14,
     "metadata": {},
     "output_type": "execute_result"
    }
   ],
   "source": [
    "tnsr3.shape"
   ]
  },
  {
   "cell_type": "markdown",
   "metadata": {
    "Collapsed": "false"
   },
   "source": [
    "To change the dimensions of a tensor, we use ``.view()``:"
   ]
  },
  {
   "cell_type": "code",
   "execution_count": 15,
   "metadata": {
    "Collapsed": "false"
   },
   "outputs": [
    {
     "data": {
      "text/plain": [
       "(torch.Size([4, 2]), torch.Size([2, 4]))"
      ]
     },
     "execution_count": 15,
     "metadata": {},
     "output_type": "execute_result"
    }
   ],
   "source": [
    "tnsr6 = tnsr2.view(-1, 2) # meaning we want 2 columns, and -1 let it infer the number of needed rows\n",
    "tnsr6.shape, tnsr2.shape"
   ]
  },
  {
   "cell_type": "markdown",
   "metadata": {
    "Collapsed": "false"
   },
   "source": [
    "Whenever we want to specify only one dimension and let PyTorch infer the remaining dimensions of a tensor, we can use -1 for the unspecified dimensions."
   ]
  },
  {
   "cell_type": "markdown",
   "metadata": {
    "Collapsed": "false"
   },
   "source": [
    "If we want to build a new tensor that has the same shape, device and data type of another one, but is filled with zeros or ones, we can use ``zeros_like()`` and ``ones_like()``, respectively."
   ]
  },
  {
   "cell_type": "code",
   "execution_count": 16,
   "metadata": {
    "Collapsed": "false"
   },
   "outputs": [
    {
     "data": {
      "text/plain": [
       "tensor([[[1, 1, 1, 1],\n",
       "         [1, 1, 1, 1]],\n",
       "\n",
       "        [[1, 1, 1, 1],\n",
       "         [1, 1, 1, 1]],\n",
       "\n",
       "        [[1, 1, 1, 1],\n",
       "         [1, 1, 1, 1]]])"
      ]
     },
     "execution_count": 16,
     "metadata": {},
     "output_type": "execute_result"
    }
   ],
   "source": [
    "tnsr7 = torch.ones_like(tnsr3)\n",
    "tnsr7"
   ]
  },
  {
   "cell_type": "markdown",
   "metadata": {
    "Collapsed": "false"
   },
   "source": [
    "``dir(a_tensor)`` returns a description of all methods related to a tensor. Several of them are similar to those in a Numpy array. Some useful ones are:\n",
    "- ``.item()``: returns the value of a tensor as a plain Python number\n",
    "- ``.numpy()``: converts a tensor into a Numpy array (tensor must be on CPU)\n",
    "- ``.device()``: returns tensor location (CPU or GPU)\n",
    "- ``.type()``: returns data type of a tensor"
   ]
  },
  {
   "cell_type": "markdown",
   "metadata": {
    "Collapsed": "false"
   },
   "source": [
    "__Important tip__: it is really easy to get lost with the dimensions of tensors, and the dimensions of inputs and outputs of layers and functions. A good practice is including comments with the number of dimensions, their size and what they represent for each tensor and inputs/outputs."
   ]
  },
  {
   "cell_type": "markdown",
   "metadata": {
    "Collapsed": "false"
   },
   "source": [
    "## Autograd"
   ]
  },
  {
   "cell_type": "markdown",
   "metadata": {
    "Collapsed": "false"
   },
   "source": [
    "[Autograd](https://pytorch.org/tutorials/beginner/blitz/autograd_tutorial.html#sphx-glr-beginner-blitz-autograd-tutorial-py) is PyTorch's package of automatic differentiation for operations involving tensors. It [\"records a graph recording all of the operations that created the data as you execute operations, giving you a directed acyclic graph whose leaves are the input tensors and roots are the output tensors\"](https://pytorch.org/docs/stable/notes/autograd.html).\n",
    "\n",
    "Whenever we create a tensor, we can decide if such values require a gradient computation using the argument ``requires_grad``. It is False by default. If set to True, all operations involving such tensor will keep track of the backward operations required to compute its gradient, using the chain rule for derivation. \n",
    "\n",
    "All parameters we want to train in a neural network (weights) should thus be tensors whose argument requires_grad is set to True. Parameters that remain fixed during training and data tensors requires no gradient computation, so we should not waste memory by trying to keep their gradients.\n",
    "\n",
    "Gradients can only be recorded with tensors whose data type is floating point."
   ]
  },
  {
   "cell_type": "code",
   "execution_count": 17,
   "metadata": {
    "Collapsed": "false"
   },
   "outputs": [
    {
     "data": {
      "text/plain": [
       "(tensor(60., grad_fn=<DotBackward>), True)"
      ]
     },
     "execution_count": 17,
     "metadata": {},
     "output_type": "execute_result"
    }
   ],
   "source": [
    "params = torch.tensor([1,2,3], device=my_device, requires_grad=True, dtype=torch.float) \n",
    "data = torch.tensor([10,10,10], device=my_device, requires_grad=False, dtype=torch.float)\n",
    "result = params.dot(data)\n",
    "result, result.requires_grad"
   ]
  },
  {
   "cell_type": "markdown",
   "metadata": {
    "Collapsed": "false"
   },
   "source": [
    "Notice that we created a tensor of parameters (that requires gradient computation) and a tensor of data. Whenever we use a tensor that requires gradient in a function, the resulting tensor will also require a gradient, besides having an attribute ``.grad_fn`` that explicitly tells which backward operation is needed for PyTorch to calculate the gradient at this step during backpropagation."
   ]
  },
  {
   "cell_type": "code",
   "execution_count": 18,
   "metadata": {
    "Collapsed": "false"
   },
   "outputs": [
    {
     "data": {
      "text/plain": [
       "(None, None, <DotBackward at 0x12567a650>)"
      ]
     },
     "execution_count": 18,
     "metadata": {},
     "output_type": "execute_result"
    }
   ],
   "source": [
    "(params.grad_fn, data.grad_fn, result.grad_fn) # None when there was no function involved on the creation"
   ]
  },
  {
   "cell_type": "markdown",
   "metadata": {
    "Collapsed": "false"
   },
   "source": [
    "The gradient of a tensor is accumulated into its ``.grad`` attribute. Until we perform backpropagation, it is empty:"
   ]
  },
  {
   "cell_type": "code",
   "execution_count": 19,
   "metadata": {
    "Collapsed": "false"
   },
   "outputs": [
    {
     "data": {
      "text/plain": [
       "(None, None, None)"
      ]
     },
     "execution_count": 19,
     "metadata": {},
     "output_type": "execute_result"
    }
   ],
   "source": [
    "params.grad, data.grad, result.grad"
   ]
  },
  {
   "cell_type": "markdown",
   "metadata": {
    "Collapsed": "false"
   },
   "source": [
    "When we finish computing our goal result (normally the loss function in a neural network), we call the method ``.backward()`` on the final tensor. This will automatically compute all gradients. Let us see that with a pseudo loss function:"
   ]
  },
  {
   "cell_type": "code",
   "execution_count": 20,
   "metadata": {
    "Collapsed": "false"
   },
   "outputs": [
    {
     "data": {
      "text/plain": [
       "tensor(3600., grad_fn=<PowBackward0>)"
      ]
     },
     "execution_count": 20,
     "metadata": {},
     "output_type": "execute_result"
    }
   ],
   "source": [
    "loss = result**2\n",
    "loss"
   ]
  },
  {
   "cell_type": "code",
   "execution_count": 21,
   "metadata": {
    "Collapsed": "false"
   },
   "outputs": [],
   "source": [
    "loss.backward()"
   ]
  },
  {
   "cell_type": "markdown",
   "metadata": {
    "Collapsed": "false"
   },
   "source": [
    "It may look like nothing happened. But we can see the difference on the ``.grad``attributes of all initial tensors that required gradient:"
   ]
  },
  {
   "cell_type": "code",
   "execution_count": 22,
   "metadata": {
    "Collapsed": "false"
   },
   "outputs": [
    {
     "data": {
      "text/plain": [
       "(tensor([1200., 1200., 1200.]), None, None, None)"
      ]
     },
     "execution_count": 22,
     "metadata": {},
     "output_type": "execute_result"
    }
   ],
   "source": [
    "params.grad, data.grad, result.grad, loss.grad"
   ]
  },
  {
   "cell_type": "markdown",
   "metadata": {
    "Collapsed": "false"
   },
   "source": [
    "Our params tensor has now the value of the gradient for each respective entry. Although result and loss are tensors whose flag requires_grad was set to true, they were simply intermediate steps in the computation of the loss. They serve to keep track of the reverse operations needed for backpropagation, but only the original parameters (whose attributes ``.is_leaf AND .requires_grad`` are True) will have computed gradient values after using the ``.backward()`` method.\n",
    "\n",
    "``.is_leaf`` refers to the tensor being a leaf on the computation graph. Let us see how it works:"
   ]
  },
  {
   "cell_type": "code",
   "execution_count": 23,
   "metadata": {
    "Collapsed": "false"
   },
   "outputs": [
    {
     "ename": "ExecutableNotFound",
     "evalue": "failed to execute ['dot', '-Tsvg'], make sure the Graphviz executables are on your systems' PATH",
     "output_type": "error",
     "traceback": [
      "\u001b[0;31m---------------------------------------------------------------------------\u001b[0m",
      "\u001b[0;31mFileNotFoundError\u001b[0m                         Traceback (most recent call last)",
      "\u001b[0;32m~/opt/anaconda3/lib/python3.7/site-packages/graphviz/backend.py\u001b[0m in \u001b[0;36mrun\u001b[0;34m(cmd, input, capture_output, check, quiet, **kwargs)\u001b[0m\n\u001b[1;32m    158\u001b[0m     \u001b[0;32mtry\u001b[0m\u001b[0;34m:\u001b[0m\u001b[0;34m\u001b[0m\u001b[0;34m\u001b[0m\u001b[0m\n\u001b[0;32m--> 159\u001b[0;31m         \u001b[0mproc\u001b[0m \u001b[0;34m=\u001b[0m \u001b[0msubprocess\u001b[0m\u001b[0;34m.\u001b[0m\u001b[0mPopen\u001b[0m\u001b[0;34m(\u001b[0m\u001b[0mcmd\u001b[0m\u001b[0;34m,\u001b[0m \u001b[0mstartupinfo\u001b[0m\u001b[0;34m=\u001b[0m\u001b[0mget_startupinfo\u001b[0m\u001b[0;34m(\u001b[0m\u001b[0;34m)\u001b[0m\u001b[0;34m,\u001b[0m \u001b[0;34m**\u001b[0m\u001b[0mkwargs\u001b[0m\u001b[0;34m)\u001b[0m\u001b[0;34m\u001b[0m\u001b[0;34m\u001b[0m\u001b[0m\n\u001b[0m\u001b[1;32m    160\u001b[0m     \u001b[0;32mexcept\u001b[0m \u001b[0mOSError\u001b[0m \u001b[0;32mas\u001b[0m \u001b[0me\u001b[0m\u001b[0;34m:\u001b[0m\u001b[0;34m\u001b[0m\u001b[0;34m\u001b[0m\u001b[0m\n",
      "\u001b[0;32m~/opt/anaconda3/lib/python3.7/subprocess.py\u001b[0m in \u001b[0;36m__init__\u001b[0;34m(self, args, bufsize, executable, stdin, stdout, stderr, preexec_fn, close_fds, shell, cwd, env, universal_newlines, startupinfo, creationflags, restore_signals, start_new_session, pass_fds, encoding, errors, text)\u001b[0m\n\u001b[1;32m    799\u001b[0m                                 \u001b[0merrread\u001b[0m\u001b[0;34m,\u001b[0m \u001b[0merrwrite\u001b[0m\u001b[0;34m,\u001b[0m\u001b[0;34m\u001b[0m\u001b[0;34m\u001b[0m\u001b[0m\n\u001b[0;32m--> 800\u001b[0;31m                                 restore_signals, start_new_session)\n\u001b[0m\u001b[1;32m    801\u001b[0m         \u001b[0;32mexcept\u001b[0m\u001b[0;34m:\u001b[0m\u001b[0;34m\u001b[0m\u001b[0;34m\u001b[0m\u001b[0m\n",
      "\u001b[0;32m~/opt/anaconda3/lib/python3.7/subprocess.py\u001b[0m in \u001b[0;36m_execute_child\u001b[0;34m(self, args, executable, preexec_fn, close_fds, pass_fds, cwd, env, startupinfo, creationflags, shell, p2cread, p2cwrite, c2pread, c2pwrite, errread, errwrite, restore_signals, start_new_session)\u001b[0m\n\u001b[1;32m   1550\u001b[0m                             \u001b[0merr_msg\u001b[0m \u001b[0;34m+=\u001b[0m \u001b[0;34m': '\u001b[0m \u001b[0;34m+\u001b[0m \u001b[0mrepr\u001b[0m\u001b[0;34m(\u001b[0m\u001b[0merr_filename\u001b[0m\u001b[0;34m)\u001b[0m\u001b[0;34m\u001b[0m\u001b[0;34m\u001b[0m\u001b[0m\n\u001b[0;32m-> 1551\u001b[0;31m                     \u001b[0;32mraise\u001b[0m \u001b[0mchild_exception_type\u001b[0m\u001b[0;34m(\u001b[0m\u001b[0merrno_num\u001b[0m\u001b[0;34m,\u001b[0m \u001b[0merr_msg\u001b[0m\u001b[0;34m,\u001b[0m \u001b[0merr_filename\u001b[0m\u001b[0;34m)\u001b[0m\u001b[0;34m\u001b[0m\u001b[0;34m\u001b[0m\u001b[0m\n\u001b[0m\u001b[1;32m   1552\u001b[0m                 \u001b[0;32mraise\u001b[0m \u001b[0mchild_exception_type\u001b[0m\u001b[0;34m(\u001b[0m\u001b[0merr_msg\u001b[0m\u001b[0;34m)\u001b[0m\u001b[0;34m\u001b[0m\u001b[0;34m\u001b[0m\u001b[0m\n",
      "\u001b[0;31mFileNotFoundError\u001b[0m: [Errno 2] No such file or directory: 'dot': 'dot'",
      "\nDuring handling of the above exception, another exception occurred:\n",
      "\u001b[0;31mExecutableNotFound\u001b[0m                        Traceback (most recent call last)",
      "\u001b[0;32m~/opt/anaconda3/lib/python3.7/site-packages/IPython/core/formatters.py\u001b[0m in \u001b[0;36m__call__\u001b[0;34m(self, obj)\u001b[0m\n\u001b[1;32m    343\u001b[0m             \u001b[0mmethod\u001b[0m \u001b[0;34m=\u001b[0m \u001b[0mget_real_method\u001b[0m\u001b[0;34m(\u001b[0m\u001b[0mobj\u001b[0m\u001b[0;34m,\u001b[0m \u001b[0mself\u001b[0m\u001b[0;34m.\u001b[0m\u001b[0mprint_method\u001b[0m\u001b[0;34m)\u001b[0m\u001b[0;34m\u001b[0m\u001b[0;34m\u001b[0m\u001b[0m\n\u001b[1;32m    344\u001b[0m             \u001b[0;32mif\u001b[0m \u001b[0mmethod\u001b[0m \u001b[0;32mis\u001b[0m \u001b[0;32mnot\u001b[0m \u001b[0;32mNone\u001b[0m\u001b[0;34m:\u001b[0m\u001b[0;34m\u001b[0m\u001b[0;34m\u001b[0m\u001b[0m\n\u001b[0;32m--> 345\u001b[0;31m                 \u001b[0;32mreturn\u001b[0m \u001b[0mmethod\u001b[0m\u001b[0;34m(\u001b[0m\u001b[0;34m)\u001b[0m\u001b[0;34m\u001b[0m\u001b[0;34m\u001b[0m\u001b[0m\n\u001b[0m\u001b[1;32m    346\u001b[0m             \u001b[0;32mreturn\u001b[0m \u001b[0;32mNone\u001b[0m\u001b[0;34m\u001b[0m\u001b[0;34m\u001b[0m\u001b[0m\n\u001b[1;32m    347\u001b[0m         \u001b[0;32melse\u001b[0m\u001b[0;34m:\u001b[0m\u001b[0;34m\u001b[0m\u001b[0;34m\u001b[0m\u001b[0m\n",
      "\u001b[0;32m~/opt/anaconda3/lib/python3.7/site-packages/graphviz/files.py\u001b[0m in \u001b[0;36m_repr_svg_\u001b[0;34m(self)\u001b[0m\n\u001b[1;32m    111\u001b[0m \u001b[0;34m\u001b[0m\u001b[0m\n\u001b[1;32m    112\u001b[0m     \u001b[0;32mdef\u001b[0m \u001b[0m_repr_svg_\u001b[0m\u001b[0;34m(\u001b[0m\u001b[0mself\u001b[0m\u001b[0;34m)\u001b[0m\u001b[0;34m:\u001b[0m\u001b[0;34m\u001b[0m\u001b[0;34m\u001b[0m\u001b[0m\n\u001b[0;32m--> 113\u001b[0;31m         \u001b[0;32mreturn\u001b[0m \u001b[0mself\u001b[0m\u001b[0;34m.\u001b[0m\u001b[0mpipe\u001b[0m\u001b[0;34m(\u001b[0m\u001b[0mformat\u001b[0m\u001b[0;34m=\u001b[0m\u001b[0;34m'svg'\u001b[0m\u001b[0;34m)\u001b[0m\u001b[0;34m.\u001b[0m\u001b[0mdecode\u001b[0m\u001b[0;34m(\u001b[0m\u001b[0mself\u001b[0m\u001b[0;34m.\u001b[0m\u001b[0m_encoding\u001b[0m\u001b[0;34m)\u001b[0m\u001b[0;34m\u001b[0m\u001b[0;34m\u001b[0m\u001b[0m\n\u001b[0m\u001b[1;32m    114\u001b[0m \u001b[0;34m\u001b[0m\u001b[0m\n\u001b[1;32m    115\u001b[0m     \u001b[0;32mdef\u001b[0m \u001b[0mpipe\u001b[0m\u001b[0;34m(\u001b[0m\u001b[0mself\u001b[0m\u001b[0;34m,\u001b[0m \u001b[0mformat\u001b[0m\u001b[0;34m=\u001b[0m\u001b[0;32mNone\u001b[0m\u001b[0;34m,\u001b[0m \u001b[0mrenderer\u001b[0m\u001b[0;34m=\u001b[0m\u001b[0;32mNone\u001b[0m\u001b[0;34m,\u001b[0m \u001b[0mformatter\u001b[0m\u001b[0;34m=\u001b[0m\u001b[0;32mNone\u001b[0m\u001b[0;34m,\u001b[0m \u001b[0mquiet\u001b[0m\u001b[0;34m=\u001b[0m\u001b[0;32mFalse\u001b[0m\u001b[0;34m)\u001b[0m\u001b[0;34m:\u001b[0m\u001b[0;34m\u001b[0m\u001b[0;34m\u001b[0m\u001b[0m\n",
      "\u001b[0;32m~/opt/anaconda3/lib/python3.7/site-packages/graphviz/files.py\u001b[0m in \u001b[0;36mpipe\u001b[0;34m(self, format, renderer, formatter, quiet)\u001b[0m\n\u001b[1;32m    136\u001b[0m         out = backend.pipe(self._engine, format, data,\n\u001b[1;32m    137\u001b[0m                            \u001b[0mrenderer\u001b[0m\u001b[0;34m=\u001b[0m\u001b[0mrenderer\u001b[0m\u001b[0;34m,\u001b[0m \u001b[0mformatter\u001b[0m\u001b[0;34m=\u001b[0m\u001b[0mformatter\u001b[0m\u001b[0;34m,\u001b[0m\u001b[0;34m\u001b[0m\u001b[0;34m\u001b[0m\u001b[0m\n\u001b[0;32m--> 138\u001b[0;31m                            quiet=quiet)\n\u001b[0m\u001b[1;32m    139\u001b[0m \u001b[0;34m\u001b[0m\u001b[0m\n\u001b[1;32m    140\u001b[0m         \u001b[0;32mreturn\u001b[0m \u001b[0mout\u001b[0m\u001b[0;34m\u001b[0m\u001b[0;34m\u001b[0m\u001b[0m\n",
      "\u001b[0;32m~/opt/anaconda3/lib/python3.7/site-packages/graphviz/backend.py\u001b[0m in \u001b[0;36mpipe\u001b[0;34m(engine, format, data, renderer, formatter, quiet)\u001b[0m\n\u001b[1;32m    227\u001b[0m     \"\"\"\n\u001b[1;32m    228\u001b[0m     \u001b[0mcmd\u001b[0m\u001b[0;34m,\u001b[0m \u001b[0m_\u001b[0m \u001b[0;34m=\u001b[0m \u001b[0mcommand\u001b[0m\u001b[0;34m(\u001b[0m\u001b[0mengine\u001b[0m\u001b[0;34m,\u001b[0m \u001b[0mformat\u001b[0m\u001b[0;34m,\u001b[0m \u001b[0;32mNone\u001b[0m\u001b[0;34m,\u001b[0m \u001b[0mrenderer\u001b[0m\u001b[0;34m,\u001b[0m \u001b[0mformatter\u001b[0m\u001b[0;34m)\u001b[0m\u001b[0;34m\u001b[0m\u001b[0;34m\u001b[0m\u001b[0m\n\u001b[0;32m--> 229\u001b[0;31m     \u001b[0mout\u001b[0m\u001b[0;34m,\u001b[0m \u001b[0m_\u001b[0m \u001b[0;34m=\u001b[0m \u001b[0mrun\u001b[0m\u001b[0;34m(\u001b[0m\u001b[0mcmd\u001b[0m\u001b[0;34m,\u001b[0m \u001b[0minput\u001b[0m\u001b[0;34m=\u001b[0m\u001b[0mdata\u001b[0m\u001b[0;34m,\u001b[0m \u001b[0mcapture_output\u001b[0m\u001b[0;34m=\u001b[0m\u001b[0;32mTrue\u001b[0m\u001b[0;34m,\u001b[0m \u001b[0mcheck\u001b[0m\u001b[0;34m=\u001b[0m\u001b[0;32mTrue\u001b[0m\u001b[0;34m,\u001b[0m \u001b[0mquiet\u001b[0m\u001b[0;34m=\u001b[0m\u001b[0mquiet\u001b[0m\u001b[0;34m)\u001b[0m\u001b[0;34m\u001b[0m\u001b[0;34m\u001b[0m\u001b[0m\n\u001b[0m\u001b[1;32m    230\u001b[0m     \u001b[0;32mreturn\u001b[0m \u001b[0mout\u001b[0m\u001b[0;34m\u001b[0m\u001b[0;34m\u001b[0m\u001b[0m\n\u001b[1;32m    231\u001b[0m \u001b[0;34m\u001b[0m\u001b[0m\n",
      "\u001b[0;32m~/opt/anaconda3/lib/python3.7/site-packages/graphviz/backend.py\u001b[0m in \u001b[0;36mrun\u001b[0;34m(cmd, input, capture_output, check, quiet, **kwargs)\u001b[0m\n\u001b[1;32m    160\u001b[0m     \u001b[0;32mexcept\u001b[0m \u001b[0mOSError\u001b[0m \u001b[0;32mas\u001b[0m \u001b[0me\u001b[0m\u001b[0;34m:\u001b[0m\u001b[0;34m\u001b[0m\u001b[0;34m\u001b[0m\u001b[0m\n\u001b[1;32m    161\u001b[0m         \u001b[0;32mif\u001b[0m \u001b[0me\u001b[0m\u001b[0;34m.\u001b[0m\u001b[0merrno\u001b[0m \u001b[0;34m==\u001b[0m \u001b[0merrno\u001b[0m\u001b[0;34m.\u001b[0m\u001b[0mENOENT\u001b[0m\u001b[0;34m:\u001b[0m\u001b[0;34m\u001b[0m\u001b[0;34m\u001b[0m\u001b[0m\n\u001b[0;32m--> 162\u001b[0;31m             \u001b[0;32mraise\u001b[0m \u001b[0mExecutableNotFound\u001b[0m\u001b[0;34m(\u001b[0m\u001b[0mcmd\u001b[0m\u001b[0;34m)\u001b[0m\u001b[0;34m\u001b[0m\u001b[0;34m\u001b[0m\u001b[0m\n\u001b[0m\u001b[1;32m    163\u001b[0m         \u001b[0;32melse\u001b[0m\u001b[0;34m:\u001b[0m\u001b[0;34m\u001b[0m\u001b[0;34m\u001b[0m\u001b[0m\n\u001b[1;32m    164\u001b[0m             \u001b[0;32mraise\u001b[0m\u001b[0;34m\u001b[0m\u001b[0;34m\u001b[0m\u001b[0m\n",
      "\u001b[0;31mExecutableNotFound\u001b[0m: failed to execute ['dot', '-Tsvg'], make sure the Graphviz executables are on your systems' PATH"
     ]
    },
    {
     "data": {
      "text/plain": [
       "<graphviz.dot.Digraph at 0x125629250>"
      ]
     },
     "execution_count": 23,
     "metadata": {},
     "output_type": "execute_result"
    }
   ],
   "source": [
    "# check the computation graph of a function\n",
    "torchviz.make_dot(loss)"
   ]
  },
  {
   "cell_type": "markdown",
   "metadata": {
    "Collapsed": "false"
   },
   "source": [
    "- Blue boxes: parameters of our model, for which we need to compute gradients\n",
    "- Gray boxes: an operation that involves gradient computing tensors\n",
    "- Green box: starting point to compute gradients, if we call ``.backward()`` on this variable\n"
   ]
  },
  {
   "cell_type": "markdown",
   "metadata": {
    "Collapsed": "false"
   },
   "source": [
    "Let us built a more elaborate example:"
   ]
  },
  {
   "cell_type": "code",
   "execution_count": null,
   "metadata": {
    "Collapsed": "false"
   },
   "outputs": [],
   "source": [
    "params1 = torch.tensor([[1,1,1], [2,2,2], [3,3,3]], device=my_device, requires_grad=True, dtype=torch.float)\n",
    "params2 = torch.tensor([0.5, 0.1, 0.9], device=my_device, requires_grad=True, dtype=torch.float)\n",
    "data = torch.tensor([10, 10, 10], device=my_device, requires_grad=False, dtype=torch.float)\n",
    "\n",
    "aux1 = params1.matmul(data)\n",
    "aux2 = params2**0.5\n",
    "aux3 = aux2.dot(aux1)\n",
    "aux4 = aux3.cos() + aux2.log2()\n",
    "\n",
    "loss = aux4.sum()\n",
    "\n",
    "torchviz.make_dot(loss)"
   ]
  },
  {
   "cell_type": "markdown",
   "metadata": {
    "Collapsed": "false"
   },
   "source": [
    "Notice that the tensor data is not shown in the computation graph, because it only presents gradient computing tensors and their dependencies. Still, we know that the data tensor was needed for the gray box MvBackward."
   ]
  },
  {
   "cell_type": "markdown",
   "metadata": {
    "Collapsed": "false"
   },
   "source": [
    "Let us perform backpropagation on this loss:"
   ]
  },
  {
   "cell_type": "code",
   "execution_count": null,
   "metadata": {
    "Collapsed": "false"
   },
   "outputs": [],
   "source": [
    "loss.backward()"
   ]
  },
  {
   "cell_type": "code",
   "execution_count": null,
   "metadata": {
    "Collapsed": "false",
    "scrolled": true
   },
   "outputs": [],
   "source": [
    "params1.grad, params2.grad"
   ]
  },
  {
   "cell_type": "markdown",
   "metadata": {
    "Collapsed": "false"
   },
   "source": [
    "When we perform gradient descent, we need to update the parameters using the newly computed gradient values. We could do it manually by calling ``params1 = params1 - params1.grad``, but it can be really cumbersome when we have many parameters at different steps in a model.\n",
    "\n",
    "PyTorch provides optimizers that can do that automatically and more efficiently. Before learning about them on the next section, there is an important reminder to finish this part.\n",
    "\n",
    "The computation of gradients is cumulative. PyTorch keeps track of operations until we explicitly give a command to disconnet the next computations from the past. For instance, in gradient descent: we output predictions, compute the loss, compute the gradients, update the parameters. An iteration is now finished and we will restart all over. We do not want PyTorch to try to backpropagate the error back to the first iteration. \n",
    "\n",
    "To avoid that, we could manually restart the gradients:"
   ]
  },
  {
   "cell_type": "code",
   "execution_count": null,
   "metadata": {
    "Collapsed": "false",
    "scrolled": true
   },
   "outputs": [],
   "source": [
    "params1.grad.zero_()\n",
    "params2.grad.zero_()"
   ]
  },
  {
   "cell_type": "markdown",
   "metadata": {
    "Collapsed": "false"
   },
   "source": [
    "Luckily, PyTorch optimizers can also do that automatically with a simple comand that we will examine in the next section."
   ]
  },
  {
   "cell_type": "markdown",
   "metadata": {
    "Collapsed": "false"
   },
   "source": [
    "We can also use ``.detach()`` to detach a tensor from the computation history, e.g. to create a new tensor with the current value of another one but without its gradient history. This new tensor can be used for other purposes and further computation that is independent of how the original values were created."
   ]
  },
  {
   "cell_type": "code",
   "execution_count": null,
   "metadata": {
    "Collapsed": "false"
   },
   "outputs": [],
   "source": [
    "new_loss = loss.detach()\n",
    "torchviz.make_dot(new_loss)"
   ]
  },
  {
   "cell_type": "markdown",
   "metadata": {
    "Collapsed": "false"
   },
   "source": [
    "## Optimizers"
   ]
  },
  {
   "cell_type": "markdown",
   "metadata": {
    "Collapsed": "false"
   },
   "source": [
    "PyTorch's package [torch.optim](https://pytorch.org/docs/stable/optim.html?highlight=optimizers) implements several common optimization methods such as SGD, Adam, AdaGrad, RMSprop etc. It lets us easily choose the learning rate, momentum and other hyperparameters, perform updating steps in our models with the method ``.step()`` and clean gradient history with the ``.zero_grad()`` method.\n",
    "\n",
    "Let us use the Adam optimizer to perform a gradient descent step in the loss function we computed above.\n",
    "\n",
    "We first choose an optimizer and pass a list of parameters:"
   ]
  },
  {
   "cell_type": "code",
   "execution_count": null,
   "metadata": {
    "Collapsed": "false"
   },
   "outputs": [],
   "source": [
    "params1 = torch.tensor([[1,1,1], [2,2,2], [3,3,3]], device=my_device, requires_grad=True, dtype=torch.float)\n",
    "params2 = torch.tensor([0.5, 0.1, 0.9], device=my_device, requires_grad=True, dtype=torch.float)\n",
    "\n",
    "# first instantiate an optim object with the model's parameters and the optimizer's specific hyperparameters\n",
    "optimizer = optim.Adam([params1, params2], lr=0.0001) "
   ]
  },
  {
   "cell_type": "markdown",
   "metadata": {
    "Collapsed": "false"
   },
   "source": [
    "Let us build the loss again and call the ``.step()`` method:"
   ]
  },
  {
   "cell_type": "code",
   "execution_count": null,
   "metadata": {
    "Collapsed": "false"
   },
   "outputs": [],
   "source": [
    "data = torch.tensor([10, 10, 10], device=my_device, requires_grad=False, dtype=torch.float)\n",
    "\n",
    "aux1 = params1.matmul(data)\n",
    "aux2 = params2**0.5\n",
    "aux3 = aux2.dot(aux1)\n",
    "aux4 = aux3.cos() + aux2.log2()\n",
    "\n",
    "loss = aux4.sum()\n",
    "\n",
    "loss.backward()\n",
    "\n",
    "optimizer.step()"
   ]
  },
  {
   "cell_type": "code",
   "execution_count": null,
   "metadata": {
    "Collapsed": "false"
   },
   "outputs": [],
   "source": [
    "params1, params2 # check new parameters after one update in gradient descent"
   ]
  },
  {
   "cell_type": "code",
   "execution_count": null,
   "metadata": {
    "Collapsed": "false"
   },
   "outputs": [],
   "source": [
    "params1.grad, params2.grad # check how the optimizer computed and stored the gradients"
   ]
  },
  {
   "cell_type": "markdown",
   "metadata": {
    "Collapsed": "false"
   },
   "source": [
    "We must then call ``optimizer.zero_grad()`` to make sure that the gradient computation starts again in the next step."
   ]
  },
  {
   "cell_type": "code",
   "execution_count": null,
   "metadata": {
    "Collapsed": "false"
   },
   "outputs": [],
   "source": [
    "optimizer.zero_grad() "
   ]
  },
  {
   "cell_type": "code",
   "execution_count": null,
   "metadata": {
    "Collapsed": "false"
   },
   "outputs": [],
   "source": [
    "params1.grad, params2.grad # check how the optimizer zeroed the previous gradients"
   ]
  },
  {
   "cell_type": "markdown",
   "metadata": {
    "Collapsed": "false"
   },
   "source": [
    "## Loss functions"
   ]
  },
  {
   "cell_type": "markdown",
   "metadata": {
    "Collapsed": "false"
   },
   "source": [
    "We have used a psedo loss function so far. However, neural network models normally use more elaborate loss functions like mean squared error, cross entropy, hinge etc. \n",
    "\n",
    "The most usual loss functions are already implemented in PyTorch's [``.nn`` package](https://pytorch.org/docs/stable/nn.html) with their corresponding gradient computation: L1Loss, MSELoss, CrossEntropyLoss, CTCLoss, NLLLoss, PoissonNLLLoss, KLDivLoss, BCELoss, BCEWithLogitsLoss, MarginRankingLoss,  HingeEmbeddingLoss, MultiLabelMarginLoss, SmoothL1Loss, SoftMarginLoss, MultiLabelSoftMarginLoss, CosineEmbeddingLoss, MultiMarginLoss and TripletMarginLoss.\n",
    "\n",
    "Here is an example using the cross entropy with a single, non-normalized output scores and a golden class."
   ]
  },
  {
   "cell_type": "code",
   "execution_count": null,
   "metadata": {
    "Collapsed": "false"
   },
   "outputs": [],
   "source": [
    "# we first instantiate a loss object, eventually passing the arguments with its hyperparameters\n",
    "crss_entrp = nn.CrossEntropyLoss()\n",
    "scores = torch.tensor([[-5, 21, 30]], dtype=torch.float)\n",
    "gold = torch.tensor([2])\n",
    "\n",
    "loss = crss_entrp(scores, gold)\n",
    "loss"
   ]
  },
  {
   "cell_type": "markdown",
   "metadata": {
    "Collapsed": "false"
   },
   "source": [
    "Let us build a simple model Ax=y, where x is our data and A are parameters, and suppose that we know the correct output Y:"
   ]
  },
  {
   "cell_type": "code",
   "execution_count": null,
   "metadata": {
    "Collapsed": "false"
   },
   "outputs": [],
   "source": [
    "A = torch.rand(3,3, device=my_device, requires_grad=True) # random initialization of our parameters\n",
    "x = torch.tensor([0.1, 0.2, 0.3], device=my_device, requires_grad=True)\n",
    "\n",
    "y = A.matmul(x)\n",
    "Y = torch.tensor([0.2, 0.3, 0.4])"
   ]
  },
  {
   "cell_type": "markdown",
   "metadata": {
    "Collapsed": "false"
   },
   "source": [
    "We first instantiate a loss function from a class in ``torch.nn``:"
   ]
  },
  {
   "cell_type": "code",
   "execution_count": null,
   "metadata": {
    "Collapsed": "false"
   },
   "outputs": [],
   "source": [
    "mse = torch.nn.MSELoss()"
   ]
  },
  {
   "cell_type": "markdown",
   "metadata": {
    "Collapsed": "false"
   },
   "source": [
    "Then we calculate the loss by passing the output of our model and the true answers to the function:"
   ]
  },
  {
   "cell_type": "code",
   "execution_count": null,
   "metadata": {
    "Collapsed": "false"
   },
   "outputs": [],
   "source": [
    "loss = mse(y, Y)"
   ]
  },
  {
   "cell_type": "markdown",
   "metadata": {
    "Collapsed": "false"
   },
   "source": [
    "After that, we can continue the optimization as above:"
   ]
  },
  {
   "cell_type": "code",
   "execution_count": null,
   "metadata": {
    "Collapsed": "false"
   },
   "outputs": [],
   "source": [
    "loss.backward()    \n",
    "optimizer.step()\n",
    "optimizer.zero_grad()"
   ]
  },
  {
   "cell_type": "markdown",
   "metadata": {
    "Collapsed": "false"
   },
   "source": [
    "## Activation Functions"
   ]
  },
  {
   "cell_type": "markdown",
   "metadata": {
    "Collapsed": "false"
   },
   "source": [
    "PyTorch's ``torch.nn`` module provides implementations of many [activation functions](https://pytorch.org/docs/stable/nn.html#non-linear-activations-weighted-sum-nonlinearity): ELU, Hardshrink, Hardtanh, LeakyReLU, LogSigmoid, MultiheadAttention, PReLU, ReLU, ReLU6, RReLU, SELU, CELU, Sigmoid, Softplus, Softshrink, Softsign, Tanh, Tanhshrink, Threshold, Softmin, Softmax, Softmax2d, LogSoftMax, AdaptiveLogSoftmaxWithLoss.\n",
    "\n",
    "Let us see how to create a Softmax and a ReLU layer:"
   ]
  },
  {
   "cell_type": "code",
   "execution_count": null,
   "metadata": {
    "Collapsed": "false"
   },
   "outputs": [],
   "source": [
    "# we must first instantiate a class, then use it with our tensor as argument\n",
    "# calling F.softmax(output, dim=-1) would also work as a function, instead of a class\n",
    "\n",
    "softmax_layer = nn.Softmax(dim=-1)\n",
    "example_output = torch.tensor([-1,-2,3], dtype=torch.float)\n",
    "softmax_layer(example_output)"
   ]
  },
  {
   "cell_type": "code",
   "execution_count": null,
   "metadata": {
    "Collapsed": "false"
   },
   "outputs": [],
   "source": [
    "# calling F.relu(example_output) would also work as a function, instead of a class\n",
    "\n",
    "relu_layer = nn.ReLU()\n",
    "relu_layer(example_output)"
   ]
  },
  {
   "cell_type": "markdown",
   "metadata": {
    "Collapsed": "false"
   },
   "source": [
    "## Neural Network Models"
   ]
  },
  {
   "cell_type": "markdown",
   "metadata": {
    "Collapsed": "false"
   },
   "source": [
    "We have covered some important building blocks for training neural networks, but we still need to explore the models themselves. Like the loss functions, the main types of layers that compose a neural network (for instance, linear, convolutional, pooling, recurrent, dropout and transformer layer) are also implemented in the [``.nn`` package](https://pytorch.org/docs/stable/nn.html) as classes.\n",
    "\n",
    "All neural network models derive from a base class called Module. Whenever we create a new model, we should inherit the base class and write its ``__init__(self)`` method (where we define all layers) and ``forward(self, input)`` method (where we define the forward pass that returns an output).\n",
    "\n",
    "The ``.forward()`` method should not be explicitly called though. PyTorch is built to work like that, calling the model instance itself with the arguments demanded by the ``.forward()`` method will take care of everything that must happen in the background.\n",
    "\n",
    "Let us see some examples:"
   ]
  },
  {
   "cell_type": "code",
   "execution_count": null,
   "metadata": {
    "Collapsed": "false"
   },
   "outputs": [],
   "source": [
    "# Source: https://towardsdatascience.com/understanding-pytorch-with-an-example-a-step-by-step-tutorial-81fc5f8c4e8e?#ea0d\n",
    "\n",
    "class ManualLinearRegression(nn.Module):\n",
    "    def __init__(self):\n",
    "        super().__init__()\n",
    "        # To make \"a\" and \"b\" real parameters of the model, we need to wrap them with nn.Parameter\n",
    "        self.a = nn.Parameter(torch.randn(1, requires_grad=True, dtype=torch.float))\n",
    "        self.b = nn.Parameter(torch.randn(1, requires_grad=True, dtype=torch.float))\n",
    "        \n",
    "    def forward(self, x):\n",
    "        # Computes the outputs / predictions\n",
    "        return self.a + self.b * x"
   ]
  },
  {
   "cell_type": "markdown",
   "metadata": {
    "Collapsed": "false"
   },
   "source": [
    "For a simple linear regression, the class ManualLinearRegression defines two parameters, initializing them randomly. The forward method returns the result of ax+b. \n",
    "\n",
    "The class ``nn.Parameter()`` is a subclass of ``Tensor``, which is automatically included into the model's parameters when we instantiate a subclass of ``nn.Module``.\n",
    "\n",
    "When we use PyTorch's implementation, we do not need to define the parameters explicitly when we choose a built-in layer. The ``LayerLinearRegression`` below is another way to do the same thing as ``ManualLinearRegression()`` using PyTorch resources: "
   ]
  },
  {
   "cell_type": "code",
   "execution_count": null,
   "metadata": {
    "Collapsed": "false"
   },
   "outputs": [],
   "source": [
    "# Source: https://towardsdatascience.com/understanding-pytorch-with-an-example-a-step-by-step-tutorial-81fc5f8c4e8e?#ea0d\n",
    "\n",
    "class LayerLinearRegression(nn.Module):\n",
    "    def __init__(self):\n",
    "        super().__init__()\n",
    "        # Instead of our custom parameters, we use a Linear layer with single input and single output\n",
    "        self.linear = nn.Linear(1, 1)\n",
    "                \n",
    "    def forward(self, x):\n",
    "        # Now it only takes a call to the layer to make predictions\n",
    "        return self.linear(x)"
   ]
  },
  {
   "cell_type": "markdown",
   "metadata": {
    "Collapsed": "false"
   },
   "source": [
    "Another more elaborate example:"
   ]
  },
  {
   "cell_type": "code",
   "execution_count": null,
   "metadata": {
    "Collapsed": "false"
   },
   "outputs": [],
   "source": [
    "# Source: https://github.com/pytorch/examples/blob/master/mnist/main.py, modified\n",
    "\n",
    "class Net(nn.Module):\n",
    "    \n",
    "    def __init__(self):\n",
    "        super(Net, self).__init__()\n",
    "        self.conv1 = nn.Conv2d(1, 32, 3, 1) \n",
    "        self.conv2 = nn.Conv2d(32, 64, 3, 1)\n",
    "        self.dropout1 = nn.Dropout2d(0.25)   # probability of an element to be zero-ed = 0.25\n",
    "        self.dropout2 = nn.Dropout2d(0.5)    # probability of an element to be zero-ed = 0.5\n",
    "        self.fc1 = nn.Linear(9216, 128)      # input with 9216 dims, output with 128 dims\n",
    "        self.fc2 = nn.Linear(128, 10)        # input with 128 dims, output with 10 dims\n",
    "\n",
    "    def forward(self, x):\n",
    "        x = self.conv1(x)\n",
    "        x = F.relu(x)\n",
    "        x = self.conv2(x)\n",
    "        x = F.max_pool2d(x, 2)\n",
    "        x = self.dropout1(x)\n",
    "        x = torch.flatten(x, 1)\n",
    "        x = self.fc1(x)\n",
    "        x = F.relu(x)\n",
    "        x = self.dropout2(x)\n",
    "        x = self.fc2(x)\n",
    "        output = F.log_softmax(x, dim=1)\n",
    "    \n",
    "        return output\n",
    "    \n",
    "# The use of torch.nn.functional is deprecated according to https://discuss.pytorch.org/t/torch-tanh-vs-torch-nn-functional-tanh/15897.\n",
    "# We keep it here because we can still find it on existing codes, however all activation functions are available\n",
    "# on the module torch.nn as classes"
   ]
  },
  {
   "cell_type": "markdown",
   "metadata": {
    "Collapsed": "false"
   },
   "source": [
    "For classifying MNIST digits, they create a more elaborate class called Net, which inherits from the base class Module. This model uses some of the many implemented layers in ``torch.nn``.\n",
    "\n",
    "The model is initialized with two convolutional layers, two dropout layers and two linear layers. Its forward method defines the forward pass: the input goes through convolution, ReLu, convolution, pooling, dropout, linearization, ReLu, droupout, linearizarion and softmax."
   ]
  },
  {
   "cell_type": "markdown",
   "metadata": {
    "Collapsed": "false"
   },
   "source": [
    "Let us use the ManualLinearRegression model:"
   ]
  },
  {
   "cell_type": "code",
   "execution_count": null,
   "metadata": {
    "Collapsed": "false"
   },
   "outputs": [],
   "source": [
    "# example input and correct output\n",
    "x = torch.tensor([4], device=my_device)\n",
    "y_gold = 5\n",
    "\n",
    "model = ManualLinearRegression().to(my_device) # the model must be in the same device as the data\n",
    "\n",
    "output = model(x)\n",
    "\n",
    "# Check the values:\n",
    "print(model.a, model.b, output)"
   ]
  },
  {
   "cell_type": "code",
   "execution_count": null,
   "metadata": {
    "Collapsed": "false",
    "scrolled": true
   },
   "outputs": [],
   "source": [
    "error = (output - y_gold)**2\n",
    "error.backward()\n",
    "model.a.grad, model.b.grad # gradients have been computed for our parameters"
   ]
  },
  {
   "cell_type": "markdown",
   "metadata": {
    "Collapsed": "false"
   },
   "source": [
    "See how the LayerLinearRegression does the same thing:"
   ]
  },
  {
   "cell_type": "code",
   "execution_count": null,
   "metadata": {
    "Collapsed": "false"
   },
   "outputs": [],
   "source": [
    "x = torch.tensor([4], device=my_device, dtype=torch.float)\n",
    "y_gold = 5\n",
    "model2 = LayerLinearRegression().to(my_device) # the model must be in the same device as the data\n",
    "\n",
    "output2 = model2(x)\n",
    "[*model2.parameters(), output2]"
   ]
  },
  {
   "cell_type": "markdown",
   "metadata": {
    "Collapsed": "false"
   },
   "source": [
    "To check the values of the parameters in our model, we can use the generator ``.parameters()`` as above or call ``.state_dict()``:"
   ]
  },
  {
   "cell_type": "code",
   "execution_count": null,
   "metadata": {
    "Collapsed": "false",
    "scrolled": true
   },
   "outputs": [],
   "source": [
    "model.state_dict()"
   ]
  },
  {
   "cell_type": "code",
   "execution_count": null,
   "metadata": {
    "Collapsed": "false",
    "scrolled": true
   },
   "outputs": [],
   "source": [
    "model2.state_dict()"
   ]
  },
  {
   "cell_type": "markdown",
   "metadata": {
    "Collapsed": "false"
   },
   "source": [
    "Or as a generator again, but with the corresponding names of the many parameters in the Net() model:"
   ]
  },
  {
   "cell_type": "code",
   "execution_count": null,
   "metadata": {
    "Collapsed": "false"
   },
   "outputs": [],
   "source": [
    "net = Net()\n",
    "[*net.named_parameters()] # named_parameters is a generator object"
   ]
  },
  {
   "cell_type": "markdown",
   "metadata": {
    "Collapsed": "false"
   },
   "source": [
    "## Other tips "
   ]
  },
  {
   "cell_type": "markdown",
   "metadata": {
    "Collapsed": "false"
   },
   "source": [
    "[Reproducibility](https://pytorch.org/docs/stable/notes/randomness.html?highlight=reproducibility): we can give a seed value to the random number generator at the beginning of our code, so that we can reproduce the randomly initiliazed values of our model (e.g. the weights of a neural network)."
   ]
  },
  {
   "cell_type": "code",
   "execution_count": null,
   "metadata": {
    "Collapsed": "false",
    "scrolled": true
   },
   "outputs": [],
   "source": [
    "torch.manual_seed(22) # choose any integer"
   ]
  },
  {
   "cell_type": "markdown",
   "metadata": {
    "Collapsed": "false"
   },
   "source": [
    "[Weight initialization](https://pytorch.org/docs/stable/nn.init.html?highlight=initialization): each layer implemented in PyTorch has a default weight initialization method. Still, we can choose one of the many initialization methods implemented on ``torch.nn.init``. After we create a layer, we can use them to initialize the weights:"
   ]
  },
  {
   "cell_type": "code",
   "execution_count": null,
   "metadata": {
    "Collapsed": "false"
   },
   "outputs": [],
   "source": [
    "fc1 = nn.Linear(10, 5)\n",
    "torch.nn.init.uniform_(fc1.weight, a=0.0, b=1.0) # uniform random initializtion with numbers between 0 and 1\n",
    "torch.nn.init.uniform_(fc1.bias, a=0.0, b=1.0)"
   ]
  },
  {
   "cell_type": "markdown",
   "metadata": {
    "Collapsed": "false"
   },
   "source": [
    "Most layers include a bias term as default. We can change that by setting the argument ``bias`` to False when we instantiate a layer."
   ]
  },
  {
   "cell_type": "code",
   "execution_count": null,
   "metadata": {
    "Collapsed": "false"
   },
   "outputs": [],
   "source": [
    "lstm1 = nn.LSTM(5, 2)\n",
    "lstm2 = nn.LSTM(5, 2, bias=False)\n",
    "\n",
    "print(*lstm1.named_parameters(), '\\n')\n",
    "print(*lstm2.named_parameters())"
   ]
  },
  {
   "cell_type": "markdown",
   "metadata": {
    "Collapsed": "false"
   },
   "source": [
    "When we are not training our model, we can envelope a code snippet under ``with torch.no_grad():``. Whithin this command, PyTorch will not track the gradient, which can be more efficient (less memory consumption) when we know we will not need to compute it (e.g. during test)."
   ]
  },
  {
   "cell_type": "markdown",
   "metadata": {
    "Collapsed": "false"
   },
   "source": [
    "During evaluation, we can call ``model.eval()`` to enable the evaluation mode, which results in a different behavior that some layers should have when we are not training a model. For example, droupout normally happens only during training, but not during testing. This command thus avoids having to check all layers manually or building a separate model. During training, we must call ``model.train()`` to set it back to training mode."
   ]
  },
  {
   "cell_type": "markdown",
   "metadata": {
    "Collapsed": "false"
   },
   "source": [
    "If we want to use gradient clipping, we can call ``torch.nn.utils.clip_grad_norm_(parameters, max_norm)`` after backpropagation but before updating the parameters."
   ]
  },
  {
   "cell_type": "markdown",
   "metadata": {
    "Collapsed": "false"
   },
   "source": [
    "Methods and functions that end with an _ perform in-place modifications. Both options are normally available for the usual operations on tensors."
   ]
  },
  {
   "cell_type": "code",
   "execution_count": null,
   "metadata": {
    "Collapsed": "false"
   },
   "outputs": [],
   "source": [
    "a = torch.tensor([1,2])\n",
    "b = torch.tensor([2,3])\n",
    "\n",
    "a.add_(3) # in-place modification, a changes\n",
    "b.add(3) # b does not change, could be printed or stored in another variable\n",
    "c = b.add(3)\n",
    "\n",
    "print(a)\n",
    "print(b)\n",
    "print(c)"
   ]
  },
  {
   "cell_type": "markdown",
   "metadata": {
    "Collapsed": "false"
   },
   "source": [
    "``torch.save()`` can be used to save a model to the disk."
   ]
  },
  {
   "cell_type": "markdown",
   "metadata": {
    "Collapsed": "false"
   },
   "source": [
    "For further important commands, also check PyTorch's [cheat sheet](https://pytorch.org/tutorials/beginner/ptcheat.html)."
   ]
  }
 ],
 "metadata": {
  "kernelspec": {
   "display_name": "Python 3",
   "language": "python",
   "name": "python3"
  },
  "language_info": {
   "codemirror_mode": {
    "name": "ipython",
    "version": 3
   },
   "file_extension": ".py",
   "mimetype": "text/x-python",
   "name": "python",
   "nbconvert_exporter": "python",
   "pygments_lexer": "ipython3",
   "version": "3.7.6"
  }
 },
 "nbformat": 4,
 "nbformat_minor": 4
}
