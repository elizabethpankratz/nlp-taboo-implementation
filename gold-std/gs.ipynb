{
 "cells": [
  {
   "cell_type": "markdown",
   "metadata": {},
   "source": [
    "# Creating a gold standard from existing Taboo cards"
   ]
  },
  {
   "cell_type": "markdown",
   "metadata": {},
   "source": [
    "## Reading in and formatting the cards"
   ]
  },
  {
   "cell_type": "markdown",
   "metadata": {},
   "source": [
    "The Taboo cards that our gold standard will be based on belong to Elizabeth's Canadian edition of Taboo, produced sometime in the 1990s or early 2000s."
   ]
  },
  {
   "cell_type": "code",
   "execution_count": 7,
   "metadata": {},
   "outputs": [],
   "source": [
    "FILENAME = \"taboo_cards.txt\"\n",
    "\n",
    "\n",
    "def read_in(filename):\n",
    "    \"\"\"\n",
    "    Reads in transcribed Taboo card words contained in the given file and returns them in an enumerated list.\n",
    "    \"\"\"\n",
    "    file_lines = []\n",
    "    \n",
    "    with open(filename, \"r\", encoding='utf-8') as myfile:\n",
    "        \n",
    "        # Go through every line, saving non-empty ones to the list file_lines.\n",
    "        for line in myfile:\n",
    "            if line.strip() != '':             \n",
    "                file_lines.append(line.strip()) \n",
    "                \n",
    "    return list(enumerate(file_lines))\n",
    "    \n",
    "            \n",
    "def format_cards(enum_list):\n",
    "    \"\"\"\n",
    "    Given an enumerated list (output of read_in()), formats the contents as a dictionary (key = MW, values = list of TWs)\n",
    "    \"\"\"\n",
    "    \n",
    "    # Initialise dictionary to contain card data.\n",
    "    card_dict = dict()\n",
    "    \n",
    "    # Assign MWs (every sixth word in the enumerated list) as dictionary keys, and create a list for the dict's\n",
    "    # value consisting of the five following words (the TWs); the word[1:] removes the dash from the beginning of\n",
    "    # each TW's string.\n",
    "\n",
    "    for enum, wd in enum_list:\n",
    "        if enum % 6 == 0:\n",
    "            card_dict[wd] = [word[1:] for num, word in enum_list[enum+1:enum+6]]\n",
    "        \n",
    "    return card_dict\n",
    "        \n",
    "\n",
    "enum_lines = read_in(FILENAME)\n",
    "cards = format_cards(enum_lines)"
   ]
  },
  {
   "cell_type": "code",
   "execution_count": 8,
   "metadata": {
    "scrolled": true
   },
   "outputs": [
    {
     "data": {
      "text/plain": [
       "['maple', 'pancakes', 'trees', 'sap', 'sweet']"
      ]
     },
     "execution_count": 8,
     "metadata": {},
     "output_type": "execute_result"
    }
   ],
   "source": [
    "# Example: the five TWs from the MW 'syrup'\n",
    "cards['syrup']"
   ]
  },
  {
   "cell_type": "code",
   "execution_count": 36,
   "metadata": {
    "scrolled": true
   },
   "outputs": [
    {
     "data": {
      "text/plain": [
       "240"
      ]
     },
     "execution_count": 36,
     "metadata": {},
     "output_type": "execute_result"
    }
   ],
   "source": [
    "len(cards)"
   ]
  },
  {
   "cell_type": "markdown",
   "metadata": {},
   "source": [
    "In addition to this dictionary format, it will be helpful to set up a pandas dataframe for easy addition of columns for semantic similarity and corpus-based collocation measures below."
   ]
  },
  {
   "cell_type": "code",
   "execution_count": 57,
   "metadata": {},
   "outputs": [],
   "source": [
    "import pandas as pd\n",
    "import numpy as np"
   ]
  },
  {
   "cell_type": "code",
   "execution_count": 47,
   "metadata": {},
   "outputs": [
    {
     "data": {
      "text/html": [
       "<div>\n",
       "<style scoped>\n",
       "    .dataframe tbody tr th:only-of-type {\n",
       "        vertical-align: middle;\n",
       "    }\n",
       "\n",
       "    .dataframe tbody tr th {\n",
       "        vertical-align: top;\n",
       "    }\n",
       "\n",
       "    .dataframe thead th {\n",
       "        text-align: right;\n",
       "    }\n",
       "</style>\n",
       "<table border=\"1\" class=\"dataframe\">\n",
       "  <thead>\n",
       "    <tr style=\"text-align: right;\">\n",
       "      <th></th>\n",
       "      <th>mw</th>\n",
       "      <th>tw</th>\n",
       "    </tr>\n",
       "  </thead>\n",
       "  <tbody>\n",
       "    <tr>\n",
       "      <td>0</td>\n",
       "      <td>huddle</td>\n",
       "      <td>gather</td>\n",
       "    </tr>\n",
       "    <tr>\n",
       "      <td>1</td>\n",
       "      <td>huddle</td>\n",
       "      <td>football</td>\n",
       "    </tr>\n",
       "    <tr>\n",
       "      <td>2</td>\n",
       "      <td>huddle</td>\n",
       "      <td>group</td>\n",
       "    </tr>\n",
       "    <tr>\n",
       "      <td>3</td>\n",
       "      <td>huddle</td>\n",
       "      <td>play</td>\n",
       "    </tr>\n",
       "    <tr>\n",
       "      <td>4</td>\n",
       "      <td>huddle</td>\n",
       "      <td>together</td>\n",
       "    </tr>\n",
       "  </tbody>\n",
       "</table>\n",
       "</div>"
      ],
      "text/plain": [
       "       mw        tw\n",
       "0  huddle    gather\n",
       "1  huddle  football\n",
       "2  huddle     group\n",
       "3  huddle      play\n",
       "4  huddle  together"
      ]
     },
     "execution_count": 47,
     "metadata": {},
     "output_type": "execute_result"
    }
   ],
   "source": [
    "# Create a pandas dataframe quickly based on a list of dictionaries, with each dictionary corresponding to a row in the \n",
    "# dataframe.\n",
    "# ( Source: https://stackoverflow.com/questions/10715965/add-one-row-to-pandas-dataframe/17496530#17496530 )\n",
    "\n",
    "rows_list = []\n",
    "\n",
    "for mainwd, tabwds in cards.items():\n",
    "    for tabwd in tabwds:\n",
    "        \n",
    "        # Create a dictionary for each row of the dataframe (key = column name, value = row value for that column)\n",
    "        row = {\n",
    "            'mw': mainwd,\n",
    "            'tw': tabwd\n",
    "        }\n",
    "        \n",
    "        # Append to rows_list, and use that list as a basis for the new dataframe.\n",
    "        rows_list.append(row)\n",
    "\n",
    "data = pd.DataFrame(rows_list)\n",
    "data.head()"
   ]
  },
  {
   "cell_type": "markdown",
   "metadata": {},
   "source": [
    "## Computing semantic similarity with gensim"
   ]
  },
  {
   "cell_type": "code",
   "execution_count": 9,
   "metadata": {},
   "outputs": [],
   "source": [
    "import gensim\n",
    "model = gensim.models.KeyedVectors.load_word2vec_format('GoogleNews-vectors-negative300.bin', binary=True)"
   ]
  },
  {
   "cell_type": "code",
   "execution_count": 58,
   "metadata": {
    "scrolled": true
   },
   "outputs": [],
   "source": [
    "def add_similarity_to_df(df):\n",
    "    \"\"\"\n",
    "    Computes the similarity between the MW in the first column and the TW in the second of the passed-in dataframe.\n",
    "    \n",
    "    Args:\n",
    "        df: dataframe containing cleaned corpus data\n",
    "        \n",
    "    Returns:\n",
    "        A dataframe with a new column 'simil' containing word2vec similarity values\n",
    "    \"\"\"\n",
    "    \n",
    "    # Initialise empty list to collect similarity values as we go.\n",
    "    simil_col=[]\n",
    "    \n",
    "    # Iterate through rows in the dataframe.\n",
    "    for row_idx in range(len(df)):\n",
    "        \n",
    "        # Get the MW and the TW in the current row.\n",
    "        mw = df.loc[row_idx, ['mw']][0]\n",
    "        tw = df.loc[row_idx, ['tw']][0]\n",
    "        \n",
    "        # KeyError raised if word not in the word2vec vocabulary, so if that happens, add numpy's null value\n",
    "        # to the column instead.\n",
    "        try:\n",
    "            value = model.similarity(mw, tw)\n",
    "        except KeyError:\n",
    "            value = np.nan\n",
    "        \n",
    "        # Add similarity value to the list. At the end, this list will be of the same length\n",
    "        # as the dataframe and will contain a similarity value (or NA) for each adjective pair.\n",
    "        simil_col.append(value)\n",
    "    \n",
    "    # Add this list as a new column to the dataframe and return dataframe.\n",
    "    df['simil'] = simil_col\n",
    "    \n",
    "    return df\n",
    "\n",
    "\n",
    "data = add_similarity_to_df(data)"
   ]
  },
  {
   "cell_type": "code",
   "execution_count": 73,
   "metadata": {},
   "outputs": [
    {
     "data": {
      "text/html": [
       "<div>\n",
       "<style scoped>\n",
       "    .dataframe tbody tr th:only-of-type {\n",
       "        vertical-align: middle;\n",
       "    }\n",
       "\n",
       "    .dataframe tbody tr th {\n",
       "        vertical-align: top;\n",
       "    }\n",
       "\n",
       "    .dataframe thead th {\n",
       "        text-align: right;\n",
       "    }\n",
       "</style>\n",
       "<table border=\"1\" class=\"dataframe\">\n",
       "  <thead>\n",
       "    <tr style=\"text-align: right;\">\n",
       "      <th></th>\n",
       "      <th>mw</th>\n",
       "      <th>tw</th>\n",
       "      <th>simil</th>\n",
       "    </tr>\n",
       "  </thead>\n",
       "  <tbody>\n",
       "    <tr>\n",
       "      <td>195</td>\n",
       "      <td>syrup</td>\n",
       "      <td>maple</td>\n",
       "      <td>0.481212</td>\n",
       "    </tr>\n",
       "    <tr>\n",
       "      <td>196</td>\n",
       "      <td>syrup</td>\n",
       "      <td>pancakes</td>\n",
       "      <td>0.452126</td>\n",
       "    </tr>\n",
       "    <tr>\n",
       "      <td>197</td>\n",
       "      <td>syrup</td>\n",
       "      <td>trees</td>\n",
       "      <td>0.229673</td>\n",
       "    </tr>\n",
       "    <tr>\n",
       "      <td>198</td>\n",
       "      <td>syrup</td>\n",
       "      <td>sap</td>\n",
       "      <td>0.407497</td>\n",
       "    </tr>\n",
       "    <tr>\n",
       "      <td>199</td>\n",
       "      <td>syrup</td>\n",
       "      <td>sweet</td>\n",
       "      <td>0.354979</td>\n",
       "    </tr>\n",
       "  </tbody>\n",
       "</table>\n",
       "</div>"
      ],
      "text/plain": [
       "        mw        tw     simil\n",
       "195  syrup     maple  0.481212\n",
       "196  syrup  pancakes  0.452126\n",
       "197  syrup     trees  0.229673\n",
       "198  syrup       sap  0.407497\n",
       "199  syrup     sweet  0.354979"
      ]
     },
     "execution_count": 73,
     "metadata": {},
     "output_type": "execute_result"
    }
   ],
   "source": [
    "# For example\n",
    "data[data['mw'] == 'syrup']"
   ]
  },
  {
   "cell_type": "markdown",
   "metadata": {},
   "source": [
    "### Describing the data"
   ]
  },
  {
   "cell_type": "code",
   "execution_count": 61,
   "metadata": {
    "scrolled": true
   },
   "outputs": [
    {
     "data": {
      "text/plain": [
       "mw         0\n",
       "tw         0\n",
       "simil    152\n",
       "dtype: int64"
      ]
     },
     "execution_count": 61,
     "metadata": {},
     "output_type": "execute_result"
    }
   ],
   "source": [
    "# Null values\n",
    "\n",
    "data.isnull().sum()"
   ]
  },
  {
   "cell_type": "code",
   "execution_count": 77,
   "metadata": {
    "scrolled": true
   },
   "outputs": [
    {
     "data": {
      "text/html": [
       "<div>\n",
       "<style scoped>\n",
       "    .dataframe tbody tr th:only-of-type {\n",
       "        vertical-align: middle;\n",
       "    }\n",
       "\n",
       "    .dataframe tbody tr th {\n",
       "        vertical-align: top;\n",
       "    }\n",
       "\n",
       "    .dataframe thead th {\n",
       "        text-align: right;\n",
       "    }\n",
       "</style>\n",
       "<table border=\"1\" class=\"dataframe\">\n",
       "  <thead>\n",
       "    <tr style=\"text-align: right;\">\n",
       "      <th></th>\n",
       "      <th>simil</th>\n",
       "    </tr>\n",
       "  </thead>\n",
       "  <tbody>\n",
       "    <tr>\n",
       "      <td>count</td>\n",
       "      <td>1048.000000</td>\n",
       "    </tr>\n",
       "    <tr>\n",
       "      <td>mean</td>\n",
       "      <td>0.316603</td>\n",
       "    </tr>\n",
       "    <tr>\n",
       "      <td>std</td>\n",
       "      <td>0.171891</td>\n",
       "    </tr>\n",
       "    <tr>\n",
       "      <td>min</td>\n",
       "      <td>-0.081147</td>\n",
       "    </tr>\n",
       "    <tr>\n",
       "      <td>25%</td>\n",
       "      <td>0.186880</td>\n",
       "    </tr>\n",
       "    <tr>\n",
       "      <td>50%</td>\n",
       "      <td>0.297276</td>\n",
       "    </tr>\n",
       "    <tr>\n",
       "      <td>75%</td>\n",
       "      <td>0.424291</td>\n",
       "    </tr>\n",
       "    <tr>\n",
       "      <td>max</td>\n",
       "      <td>0.850191</td>\n",
       "    </tr>\n",
       "  </tbody>\n",
       "</table>\n",
       "</div>"
      ],
      "text/plain": [
       "             simil\n",
       "count  1048.000000\n",
       "mean      0.316603\n",
       "std       0.171891\n",
       "min      -0.081147\n",
       "25%       0.186880\n",
       "50%       0.297276\n",
       "75%       0.424291\n",
       "max       0.850191"
      ]
     },
     "execution_count": 77,
     "metadata": {},
     "output_type": "execute_result"
    }
   ],
   "source": [
    "# We can look at how the data are distributed\n",
    "\n",
    "data.describe()"
   ]
  },
  {
   "cell_type": "code",
   "execution_count": 65,
   "metadata": {
    "scrolled": true
   },
   "outputs": [
    {
     "data": {
      "image/png": "[encoded data removed]",
      "text/plain": [
       "<Figure size 432x288 with 1 Axes>"
      ]
     },
     "metadata": {
      "needs_background": "light"
     },
     "output_type": "display_data"
    }
   ],
   "source": [
    "data['simil'].hist();"
   ]
  },
  {
   "cell_type": "code",
   "execution_count": 79,
   "metadata": {},
   "outputs": [
    {
     "data": {
      "image/png": "[encoded data removed]",
      "text/plain": [
       "<Figure size 432x288 with 1 Axes>"
      ]
     },
     "metadata": {
      "needs_background": "light"
     },
     "output_type": "display_data"
    }
   ],
   "source": [
    "data.boxplot();"
   ]
  },
  {
   "cell_type": "code",
   "execution_count": 75,
   "metadata": {},
   "outputs": [
    {
     "data": {
      "image/png": "[encoded data removed]",
      "text/plain": [
       "<Figure size 432x288 with 1 Axes>"
      ]
     },
     "metadata": {
      "needs_background": "light"
     },
     "output_type": "display_data"
    }
   ],
   "source": [
    "# Mean similarity for each MW\n",
    "\n",
    "mean_simil_by_mw = data.groupby('mw').mean()['simil']\n",
    "mean_simil_by_mw.hist();"
   ]
  },
  {
   "cell_type": "code",
   "execution_count": 74,
   "metadata": {},
   "outputs": [],
   "source": [
    "# silly plot because it has 240 boxes lol\n",
    "# data.boxplot(column='simil', by='mw', figsize=(18, 16));"
   ]
  },
  {
   "cell_type": "markdown",
   "metadata": {},
   "source": [
    "- things we have learned: \n",
    "    - most TWs only have a similarity between 0.2 and 0.4\n",
    "    - will this go up if I exclude the ones with semantic similarity below a certain threshold and look at collocates for those ones instead?\n",
    "    - will probably get a different distribution if, for our main words, we choose the most similar ones to include\n",
    "    - I'm not going to be terribly sad if we don't get the exact same distribution though ... this is mostly just to make sure that we're not wildly off the mark\n",
    "- sample from all words with similarity between .2 and .4 (or whatever range we decide -- consider weeding out lower similarity ones and looking at similarity of words that are already more similar)\n",
    "- put two with high similarity, say, into the set to pull from"
   ]
  },
  {
   "cell_type": "markdown",
   "metadata": {},
   "source": [
    "## Computing collocation measures"
   ]
  },
  {
   "cell_type": "markdown",
   "metadata": {},
   "source": [
    "- I will have to do all the queries on the SeaCOW server, export everything to csv, and import it into this script, I guess, so this project won't be totally replicable by anyone who doesn't have SeaCOW access\n",
    "- do the $O_{ij}$ and $E_{ij}$ (marginal frequency) calculations on server, even if don't want to use statistical collocation measures -- can go from that to just $O$ and $E$, but not vice versa"
   ]
  },
  {
   "cell_type": "markdown",
   "metadata": {},
   "source": [
    "## WordNet semantic relations"
   ]
  },
  {
   "cell_type": "markdown",
   "metadata": {},
   "source": [
    "- antonyms, hypernyms, hyponyms"
   ]
  },
  {
   "cell_type": "code",
   "execution_count": 4,
   "metadata": {},
   "outputs": [
    {
     "ename": "SyntaxError",
     "evalue": "invalid syntax (<ipython-input-4-a316172a8576>, line 1)",
     "output_type": "error",
     "traceback": [
      "\u001b[0;36m  File \u001b[0;32m\"<ipython-input-4-a316172a8576>\"\u001b[0;36m, line \u001b[0;32m1\u001b[0m\n\u001b[0;31m    import /taboo\u001b[0m\n\u001b[0m           ^\u001b[0m\n\u001b[0;31mSyntaxError\u001b[0m\u001b[0;31m:\u001b[0m invalid syntax\n"
     ]
    }
   ],
   "source": [
    "import taboo\n",
    "\n",
    "taboo.cats(x)"
   ]
  }
 ],
 "metadata": {
  "kernelspec": {
   "display_name": "Python 3",
   "language": "python",
   "name": "python3"
  },
  "language_info": {
   "codemirror_mode": {
    "name": "ipython",
    "version": 3
   },
   "file_extension": ".py",
   "mimetype": "text/x-python",
   "name": "python",
   "nbconvert_exporter": "python",
   "pygments_lexer": "ipython3",
   "version": "3.7.6"
  }
 },
 "nbformat": 4,
 "nbformat_minor": 4
}
